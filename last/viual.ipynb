{
 "cells": [
  {
   "cell_type": "code",
   "execution_count": 3,
   "metadata": {},
   "outputs": [
    {
     "data": {
      "text/html": [
       "<div>\n",
       "<style scoped>\n",
       "    .dataframe tbody tr th:only-of-type {\n",
       "        vertical-align: middle;\n",
       "    }\n",
       "\n",
       "    .dataframe tbody tr th {\n",
       "        vertical-align: top;\n",
       "    }\n",
       "\n",
       "    .dataframe thead th {\n",
       "        text-align: right;\n",
       "    }\n",
       "</style>\n",
       "<table border=\"1\" class=\"dataframe\">\n",
       "  <thead>\n",
       "    <tr style=\"text-align: right;\">\n",
       "      <th></th>\n",
       "      <th>UniqueID</th>\n",
       "      <th>Product ID</th>\n",
       "      <th>Product Name</th>\n",
       "      <th>Reviews Text</th>\n",
       "      <th>Rating Stars</th>\n",
       "      <th>Sentiment_Score</th>\n",
       "      <th>Sentiment</th>\n",
       "    </tr>\n",
       "  </thead>\n",
       "  <tbody>\n",
       "    <tr>\n",
       "      <th>0</th>\n",
       "      <td>1</td>\n",
       "      <td>MOBGVTA2836DQWTT</td>\n",
       "      <td>SAMSUNG Galaxy S23 FE (Graphite, 128 GB)  (8 G...</td>\n",
       "      <td>The camera is next level But I'm facing some m...</td>\n",
       "      <td>4</td>\n",
       "      <td>0.03125</td>\n",
       "      <td>Positive</td>\n",
       "    </tr>\n",
       "    <tr>\n",
       "      <th>1</th>\n",
       "      <td>2</td>\n",
       "      <td>MOBGVTA2836DQWTT</td>\n",
       "      <td>SAMSUNG Galaxy S23 FE (Graphite, 128 GB)  (8 G...</td>\n",
       "      <td>Camera quality is amazing</td>\n",
       "      <td>5</td>\n",
       "      <td>0.60000</td>\n",
       "      <td>Positive</td>\n",
       "    </tr>\n",
       "    <tr>\n",
       "      <th>2</th>\n",
       "      <td>3</td>\n",
       "      <td>MOBGVTA2836DQWTT</td>\n",
       "      <td>SAMSUNG Galaxy S23 FE (Graphite, 128 GB)  (8 G...</td>\n",
       "      <td>Awesome photography like apple must buy don't ...</td>\n",
       "      <td>5</td>\n",
       "      <td>0.21250</td>\n",
       "      <td>Positive</td>\n",
       "    </tr>\n",
       "    <tr>\n",
       "      <th>3</th>\n",
       "      <td>4</td>\n",
       "      <td>MOBGVTA2836DQWTT</td>\n",
       "      <td>SAMSUNG Galaxy S23 FE (Graphite, 128 GB)  (8 G...</td>\n",
       "      <td>Camera and display is superb  But bettary is a...</td>\n",
       "      <td>4</td>\n",
       "      <td>1.00000</td>\n",
       "      <td>Positive</td>\n",
       "    </tr>\n",
       "    <tr>\n",
       "      <th>4</th>\n",
       "      <td>5</td>\n",
       "      <td>MOBGVTA2836DQWTT</td>\n",
       "      <td>SAMSUNG Galaxy S23 FE (Graphite, 128 GB)  (8 G...</td>\n",
       "      <td>Awesome phone</td>\n",
       "      <td>5</td>\n",
       "      <td>1.00000</td>\n",
       "      <td>Positive</td>\n",
       "    </tr>\n",
       "  </tbody>\n",
       "</table>\n",
       "</div>"
      ],
      "text/plain": [
       "   UniqueID        Product ID  \\\n",
       "0         1  MOBGVTA2836DQWTT   \n",
       "1         2  MOBGVTA2836DQWTT   \n",
       "2         3  MOBGVTA2836DQWTT   \n",
       "3         4  MOBGVTA2836DQWTT   \n",
       "4         5  MOBGVTA2836DQWTT   \n",
       "\n",
       "                                        Product Name  \\\n",
       "0  SAMSUNG Galaxy S23 FE (Graphite, 128 GB)  (8 G...   \n",
       "1  SAMSUNG Galaxy S23 FE (Graphite, 128 GB)  (8 G...   \n",
       "2  SAMSUNG Galaxy S23 FE (Graphite, 128 GB)  (8 G...   \n",
       "3  SAMSUNG Galaxy S23 FE (Graphite, 128 GB)  (8 G...   \n",
       "4  SAMSUNG Galaxy S23 FE (Graphite, 128 GB)  (8 G...   \n",
       "\n",
       "                                        Reviews Text  Rating Stars   \\\n",
       "0  The camera is next level But I'm facing some m...              4   \n",
       "1                          Camera quality is amazing              5   \n",
       "2  Awesome photography like apple must buy don't ...              5   \n",
       "3  Camera and display is superb  But bettary is a...              4   \n",
       "4                                     Awesome phone               5   \n",
       "\n",
       "   Sentiment_Score Sentiment  \n",
       "0          0.03125  Positive  \n",
       "1          0.60000  Positive  \n",
       "2          0.21250  Positive  \n",
       "3          1.00000  Positive  \n",
       "4          1.00000  Positive  "
      ]
     },
     "execution_count": 3,
     "metadata": {},
     "output_type": "execute_result"
    }
   ],
   "source": [
    "import pandas as pd\n",
    "import matplotlib.pyplot as plt\n",
    "import seaborn as sns\n",
    "\n",
    "df = pd.read_csv('C:/Users/bavan/Downloads/last/sentiment_analysis_flipkart_reviews.csv')\n",
    "df.head()"
   ]
  },
  {
   "cell_type": "code",
   "execution_count": 10,
   "metadata": {},
   "outputs": [
    {
     "name": "stdout",
     "output_type": "stream",
     "text": [
      "Index(['UniqueID', 'Product ID', 'Product Name', 'Reviews Text',\n",
      "       'Rating Stars ', 'Sentiment_Score', 'Sentiment'],\n",
      "      dtype='object')\n"
     ]
    }
   ],
   "source": [
    "print(df.columns)\n"
   ]
  },
  {
   "cell_type": "code",
   "execution_count": 14,
   "metadata": {},
   "outputs": [
    {
     "data": {
      "image/png": "[encoded data removed]",
      "text/plain": [
       "<Figure size 400x400 with 1 Axes>"
      ]
     },
     "metadata": {},
     "output_type": "display_data"
    }
   ],
   "source": [
    "# Calculate the average rating for each sentiment category\n",
    "avg_rating_by_sentiment = df.groupby('Sentiment')['Rating Stars '].mean()\n",
    "\n",
    "# Plot the average ratings by sentiment\n",
    "plt.figure(figsize=(4, 4))\n",
    "avg_rating_by_sentiment.plot(kind='bar', color=['red', 'orange', 'green'])\n",
    "plt.title('Average Rating by Sentiment Category')\n",
    "plt.xlabel('Sentiment')\n",
    "plt.ylabel('Average Rating')\n",
    "plt.show()\n"
   ]
  },
  {
   "cell_type": "code",
   "execution_count": 17,
   "metadata": {},
   "outputs": [
    {
     "data": {
      "application/vnd.plotly.v1+json": {
       "config": {
        "plotlyServerURL": "https://plot.ly"
       },
       "data": [
        {
         "hovertemplate": "<b>%{hovertext}</b><br><br>Sentiment=Positive<br>Product Name=%{x}<br>Sentiment_Score=%{y}<br>Rating Stars =%{marker.size}<extra></extra>",
         "hovertext": [
          "SAMSUNG Galaxy S23 FE (Graphite, 128 GB)  (8 GB RAM)",
          "SAMSUNG Galaxy S23 FE (Graphite, 128 GB)  (8 GB RAM)",
          "SAMSUNG Galaxy S23 FE (Graphite, 128 GB)  (8 GB RAM)",
          "SAMSUNG Galaxy S23 FE (Graphite, 128 GB)  (8 GB RAM)",
          "SAMSUNG Galaxy S23 FE (Graphite, 128 GB)  (8 GB RAM)",
          "SAMSUNG Galaxy S23 FE (Graphite, 128 GB)  (8 GB RAM)",
          "SAMSUNG Galaxy S23 FE (Graphite, 128 GB)  (8 GB RAM)",
          "SAMSUNG Galaxy S23 FE (Graphite, 128 GB)  (8 GB RAM)",
          "SAMSUNG Galaxy S23 FE (Graphite, 128 GB)  (8 GB RAM)",
          "SAMSUNG Galaxy S23 FE (Graphite, 128 GB)  (8 GB RAM)",
          "SAMSUNG Galaxy S23 FE (Graphite, 128 GB)  (8 GB RAM)",
          "SAMSUNG Galaxy S23 FE (Graphite, 128 GB)  (8 GB RAM)",
          "SAMSUNG Galaxy S23 FE (Graphite, 128 GB)  (8 GB RAM)",
          "SAMSUNG Galaxy S23 FE (Graphite, 128 GB)  (8 GB RAM)",
          "SAMSUNG Galaxy S23 FE (Graphite, 128 GB)  (8 GB RAM)",
          "SAMSUNG Galaxy S23 FE (Graphite, 128 GB)  (8 GB RAM)",
          "SAMSUNG Galaxy S23 FE (Graphite, 128 GB)  (8 GB RAM)",
          "SAMSUNG Galaxy S23 FE (Graphite, 128 GB)  (8 GB RAM)",
          "SAMSUNG Galaxy S23 FE (Graphite, 128 GB)  (8 GB RAM)",
          "SAMSUNG Galaxy S23 FE (Graphite, 128 GB)  (8 GB RAM)",
          "SAMSUNG Galaxy S23 FE (Graphite, 128 GB)  (8 GB RAM)",
          "SAMSUNG Galaxy S23 FE (Graphite, 128 GB)  (8 GB RAM)",
          "SAMSUNG Galaxy S23 FE (Graphite, 128 GB)  (8 GB RAM)",
          "SAMSUNG Galaxy S23 FE (Graphite, 128 GB)  (8 GB RAM)",
          "SAMSUNG Galaxy S23 FE (Graphite, 128 GB)  (8 GB RAM)",
          "SAMSUNG Galaxy S23 FE (Graphite, 128 GB)  (8 GB RAM)",
          "SAMSUNG Galaxy S23 FE (Graphite, 128 GB)  (8 GB RAM)",
          "SAMSUNG Galaxy S23 FE (Graphite, 128 GB)  (8 GB RAM)",
          "SAMSUNG Galaxy S23 FE (Graphite, 128 GB)  (8 GB RAM)",
          "SAMSUNG Galaxy S23 FE (Graphite, 128 GB)  (8 GB RAM)",
          "SAMSUNG Galaxy S23 FE (Graphite, 128 GB)  (8 GB RAM)",
          "SAMSUNG Galaxy S23 FE (Graphite, 128 GB)  (8 GB RAM)",
          "SAMSUNG Galaxy S23 FE (Graphite, 128 GB)  (8 GB RAM)",
          "SAMSUNG Galaxy S23 FE (Graphite, 128 GB)  (8 GB RAM)",
          "SAMSUNG Galaxy S23 FE (Graphite, 128 GB)  (8 GB RAM)",
          "SAMSUNG Galaxy S23 FE (Graphite, 128 GB)  (8 GB RAM)",
          "SAMSUNG Galaxy S23 FE (Graphite, 128 GB)  (8 GB RAM)",
          "SAMSUNG Galaxy S23 FE (Graphite, 128 GB)  (8 GB RAM)",
          "SAMSUNG Galaxy S23 FE (Graphite, 128 GB)  (8 GB RAM)",
          "SAMSUNG Galaxy S23 FE (Graphite, 128 GB)  (8 GB RAM)",
          "SAMSUNG Galaxy S23 FE (Graphite, 128 GB)  (8 GB RAM)",
          "SAMSUNG Galaxy S23 FE (Graphite, 128 GB)  (8 GB RAM)",
          "SAMSUNG Galaxy S23 FE (Graphite, 128 GB)  (8 GB RAM)",
          "SAMSUNG Galaxy S23 FE (Graphite, 128 GB)  (8 GB RAM)",
          "SAMSUNG Galaxy S23 FE (Graphite, 128 GB)  (8 GB RAM)",
          "SAMSUNG Galaxy S23 FE (Graphite, 128 GB)  (8 GB RAM)",
          "SAMSUNG Galaxy S23 FE (Graphite, 128 GB)  (8 GB RAM)",
          "SAMSUNG Galaxy S23 FE (Graphite, 128 GB)  (8 GB RAM)",
          "SAMSUNG Galaxy S23 FE (Graphite, 128 GB)  (8 GB RAM)",
          "SAMSUNG Galaxy S23 FE (Graphite, 128 GB)  (8 GB RAM)",
          "SAMSUNG Galaxy S23 FE (Graphite, 128 GB)  (8 GB RAM)",
          "SAMSUNG Galaxy S23 FE (Graphite, 128 GB)  (8 GB RAM)",
          "SAMSUNG Galaxy S23 FE (Graphite, 128 GB)  (8 GB RAM)",
          "SAMSUNG Galaxy S23 FE (Graphite, 128 GB)  (8 GB RAM)",
          "SAMSUNG Galaxy S23 FE (Graphite, 128 GB)  (8 GB RAM)",
          "SAMSUNG Galaxy S23 FE (Graphite, 128 GB)  (8 GB RAM)",
          "SAMSUNG Galaxy S23 FE (Graphite, 128 GB)  (8 GB RAM)",
          "SAMSUNG Galaxy S23 FE (Graphite, 128 GB)  (8 GB RAM)",
          "SAMSUNG Galaxy S23 FE (Graphite, 128 GB)  (8 GB RAM)",
          "SAMSUNG Galaxy S23 FE (Graphite, 128 GB)  (8 GB RAM)",
          "SAMSUNG Galaxy S23 FE (Graphite, 128 GB)  (8 GB RAM)",
          "SAMSUNG Galaxy S23 FE (Graphite, 128 GB)  (8 GB RAM)",
          "SAMSUNG Galaxy S23 FE (Graphite, 128 GB)  (8 GB RAM)",
          "SAMSUNG Galaxy S23 FE (Graphite, 128 GB)  (8 GB RAM)",
          "SAMSUNG Galaxy S23 FE (Graphite, 128 GB)  (8 GB RAM)",
          "SAMSUNG Galaxy S23 FE (Graphite, 128 GB)  (8 GB RAM)",
          "SAMSUNG Galaxy S23 FE (Graphite, 128 GB)  (8 GB RAM)",
          "SAMSUNG Galaxy S23 FE (Graphite, 128 GB)  (8 GB RAM)",
          "SAMSUNG Galaxy S23 FE (Graphite, 128 GB)  (8 GB RAM)",
          "SAMSUNG Galaxy S23 FE (Graphite, 128 GB)  (8 GB RAM)",
          "SAMSUNG Galaxy S23 FE (Graphite, 128 GB)  (8 GB RAM)",
          "SAMSUNG Galaxy S23 FE (Graphite, 128 GB)  (8 GB RAM)",
          "SAMSUNG Galaxy S23 FE (Graphite, 128 GB)  (8 GB RAM)",
          "SAMSUNG Galaxy S23 FE (Graphite, 128 GB)  (8 GB RAM)",
          "SAMSUNG Galaxy S23 FE (Graphite, 128 GB)  (8 GB RAM)",
          "SAMSUNG Galaxy S23 FE (Graphite, 128 GB)  (8 GB RAM)",
          "SAMSUNG Galaxy S23 FE (Graphite, 128 GB)  (8 GB RAM)",
          "SAMSUNG Galaxy S23 FE (Graphite, 128 GB)  (8 GB RAM)",
          "SAMSUNG Galaxy S23 FE (Graphite, 128 GB)  (8 GB RAM)",
          "SAMSUNG Galaxy S23 FE (Graphite, 128 GB)  (8 GB RAM)",
          "SAMSUNG Galaxy S23 FE (Graphite, 128 GB)  (8 GB RAM)",
          "SAMSUNG Galaxy S23 FE (Graphite, 128 GB)  (8 GB RAM)",
          "SAMSUNG Galaxy S23 FE (Graphite, 128 GB)  (8 GB RAM)",
          "SAMSUNG Galaxy S23 FE (Graphite, 128 GB)  (8 GB RAM)",
          "SAMSUNG Galaxy S23 FE (Graphite, 128 GB)  (8 GB RAM)",
          "SAMSUNG Galaxy S23 FE (Graphite, 128 GB)  (8 GB RAM)",
          "SAMSUNG Galaxy S23 FE (Graphite, 128 GB)  (8 GB RAM)",
          "SAMSUNG Galaxy S23 FE (Graphite, 128 GB)  (8 GB RAM)",
          "SAMSUNG Galaxy S23 FE (Graphite, 128 GB)  (8 GB RAM)",
          "SAMSUNG Galaxy S23 FE (Graphite, 128 GB)  (8 GB RAM)",
          "SAMSUNG Galaxy S23 FE (Graphite, 128 GB)  (8 GB RAM)",
          "SAMSUNG Galaxy S23 FE (Graphite, 128 GB)  (8 GB RAM)",
          "SAMSUNG Galaxy S23 FE (Graphite, 128 GB)  (8 GB RAM)",
          "SAMSUNG Galaxy S23 FE (Graphite, 128 GB)  (8 GB RAM)",
          "SAMSUNG Galaxy S23 FE (Graphite, 128 GB)  (8 GB RAM)",
          "SAMSUNG Galaxy S23 FE (Graphite, 128 GB)  (8 GB RAM)",
          "SAMSUNG Galaxy S23 FE (Graphite, 128 GB)  (8 GB RAM)",
          "SAMSUNG Galaxy S23 FE (Graphite, 128 GB)  (8 GB RAM)",
          "SAMSUNG Galaxy S23 FE (Graphite, 128 GB)  (8 GB RAM)",
          "SAMSUNG Galaxy S23 FE (Graphite, 128 GB)  (8 GB RAM)",
          "SAMSUNG Galaxy S23 FE (Graphite, 128 GB)  (8 GB RAM)",
          "SAMSUNG Galaxy S23 FE (Graphite, 128 GB)  (8 GB RAM)",
          "SAMSUNG Galaxy S23 FE (Graphite, 128 GB)  (8 GB RAM)",
          "SAMSUNG Galaxy S23 FE (Graphite, 128 GB)  (8 GB RAM)",
          "SAMSUNG Galaxy S23 FE (Graphite, 128 GB)  (8 GB RAM)",
          "SAMSUNG Galaxy S23 FE (Graphite, 128 GB)  (8 GB RAM)",
          "Motorola Edge 50 Pro 5G with 125W Charger (Moonlight Pearl, 256 GB)  (12 GB RAM)",
          "Motorola Edge 50 Pro 5G with 125W Charger (Moonlight Pearl, 256 GB)  (12 GB RAM)",
          "Motorola Edge 50 Pro 5G with 125W Charger (Moonlight Pearl, 256 GB)  (12 GB RAM)",
          "Motorola Edge 50 Pro 5G with 125W Charger (Moonlight Pearl, 256 GB)  (12 GB RAM)",
          "Motorola Edge 50 Pro 5G with 125W Charger (Moonlight Pearl, 256 GB)  (12 GB RAM)",
          "Motorola Edge 50 Pro 5G with 125W Charger (Moonlight Pearl, 256 GB)  (12 GB RAM)",
          "Motorola Edge 50 Pro 5G with 125W Charger (Moonlight Pearl, 256 GB)  (12 GB RAM)",
          "Motorola Edge 50 Pro 5G with 125W Charger (Moonlight Pearl, 256 GB)  (12 GB RAM)",
          "Motorola Edge 50 Pro 5G with 125W Charger (Moonlight Pearl, 256 GB)  (12 GB RAM)",
          "Motorola Edge 50 Pro 5G with 125W Charger (Moonlight Pearl, 256 GB)  (12 GB RAM)",
          "Motorola Edge 50 Pro 5G with 125W Charger (Moonlight Pearl, 256 GB)  (12 GB RAM)",
          "Motorola Edge 50 Pro 5G with 125W Charger (Moonlight Pearl, 256 GB)  (12 GB RAM)",
          "Motorola Edge 50 Pro 5G with 125W Charger (Moonlight Pearl, 256 GB)  (12 GB RAM)",
          "Motorola Edge 50 Pro 5G with 125W Charger (Moonlight Pearl, 256 GB)  (12 GB RAM)",
          "Motorola Edge 50 Pro 5G with 125W Charger (Moonlight Pearl, 256 GB)  (12 GB RAM)",
          "Motorola Edge 50 Pro 5G with 125W Charger (Moonlight Pearl, 256 GB)  (12 GB RAM)",
          "Motorola Edge 50 Pro 5G with 125W Charger (Moonlight Pearl, 256 GB)  (12 GB RAM)",
          "Motorola Edge 50 Pro 5G with 125W Charger (Moonlight Pearl, 256 GB)  (12 GB RAM)",
          "Motorola Edge 50 Pro 5G with 125W Charger (Moonlight Pearl, 256 GB)  (12 GB RAM)",
          "Motorola Edge 50 Pro 5G with 125W Charger (Moonlight Pearl, 256 GB)  (12 GB RAM)",
          "Motorola Edge 50 Pro 5G with 125W Charger (Moonlight Pearl, 256 GB)  (12 GB RAM)",
          "Motorola Edge 50 Pro 5G with 125W Charger (Moonlight Pearl, 256 GB)  (12 GB RAM)",
          "Motorola Edge 50 Pro 5G with 125W Charger (Moonlight Pearl, 256 GB)  (12 GB RAM)",
          "Motorola Edge 50 Pro 5G with 125W Charger (Moonlight Pearl, 256 GB)  (12 GB RAM)",
          "Motorola Edge 50 Pro 5G with 125W Charger (Moonlight Pearl, 256 GB)  (12 GB RAM)",
          "Motorola Edge 50 Pro 5G with 125W Charger (Moonlight Pearl, 256 GB)  (12 GB RAM)",
          "Motorola Edge 50 Pro 5G with 125W Charger (Moonlight Pearl, 256 GB)  (12 GB RAM)",
          "Motorola Edge 50 Pro 5G with 125W Charger (Moonlight Pearl, 256 GB)  (12 GB RAM)",
          "Motorola Edge 50 Pro 5G with 125W Charger (Moonlight Pearl, 256 GB)  (12 GB RAM)",
          "Motorola Edge 50 Pro 5G with 125W Charger (Moonlight Pearl, 256 GB)  (12 GB RAM)",
          "Motorola Edge 50 Pro 5G with 125W Charger (Moonlight Pearl, 256 GB)  (12 GB RAM)",
          "Motorola Edge 50 Pro 5G with 125W Charger (Moonlight Pearl, 256 GB)  (12 GB RAM)",
          "Motorola Edge 50 Pro 5G with 125W Charger (Moonlight Pearl, 256 GB)  (12 GB RAM)",
          "Motorola Edge 50 Pro 5G with 125W Charger (Moonlight Pearl, 256 GB)  (12 GB RAM)",
          "Motorola Edge 50 Pro 5G with 125W Charger (Moonlight Pearl, 256 GB)  (12 GB RAM)",
          "Motorola Edge 50 Pro 5G with 125W Charger (Moonlight Pearl, 256 GB)  (12 GB RAM)",
          "Motorola Edge 50 Pro 5G with 125W Charger (Moonlight Pearl, 256 GB)  (12 GB RAM)",
          "Motorola Edge 50 Pro 5G with 125W Charger (Moonlight Pearl, 256 GB)  (12 GB RAM)",
          "Motorola Edge 50 Pro 5G with 125W Charger (Moonlight Pearl, 256 GB)  (12 GB RAM)",
          "Motorola Edge 50 Pro 5G with 125W Charger (Moonlight Pearl, 256 GB)  (12 GB RAM)",
          "Motorola Edge 50 Pro 5G with 125W Charger (Moonlight Pearl, 256 GB)  (12 GB RAM)",
          "Motorola Edge 50 Pro 5G with 125W Charger (Moonlight Pearl, 256 GB)  (12 GB RAM)",
          "Motorola Edge 50 Pro 5G with 125W Charger (Moonlight Pearl, 256 GB)  (12 GB RAM)",
          "Motorola Edge 50 Pro 5G with 125W Charger (Moonlight Pearl, 256 GB)  (12 GB RAM)",
          "Motorola Edge 50 Pro 5G with 125W Charger (Moonlight Pearl, 256 GB)  (12 GB RAM)",
          "Motorola Edge 50 Pro 5G with 125W Charger (Moonlight Pearl, 256 GB)  (12 GB RAM)",
          "Motorola Edge 50 Pro 5G with 125W Charger (Moonlight Pearl, 256 GB)  (12 GB RAM)",
          "Motorola Edge 50 Pro 5G with 125W Charger (Moonlight Pearl, 256 GB)  (12 GB RAM)",
          "Motorola Edge 50 Pro 5G with 125W Charger (Moonlight Pearl, 256 GB)  (12 GB RAM)",
          "Motorola Edge 50 Pro 5G with 125W Charger (Moonlight Pearl, 256 GB)  (12 GB RAM)",
          "Motorola Edge 50 Pro 5G with 125W Charger (Moonlight Pearl, 256 GB)  (12 GB RAM)",
          "Motorola Edge 50 Pro 5G with 125W Charger (Moonlight Pearl, 256 GB)  (12 GB RAM)",
          "Motorola Edge 50 Pro 5G with 125W Charger (Moonlight Pearl, 256 GB)  (12 GB RAM)",
          "Motorola Edge 50 Pro 5G with 125W Charger (Moonlight Pearl, 256 GB)  (12 GB RAM)",
          "Motorola Edge 50 Pro 5G with 125W Charger (Moonlight Pearl, 256 GB)  (12 GB RAM)",
          "Motorola Edge 50 Pro 5G with 125W Charger (Moonlight Pearl, 256 GB)  (12 GB RAM)",
          "Motorola Edge 50 Pro 5G with 125W Charger (Moonlight Pearl, 256 GB)  (12 GB RAM)",
          "Motorola Edge 50 Pro 5G with 125W Charger (Moonlight Pearl, 256 GB)  (12 GB RAM)",
          "Motorola Edge 50 Pro 5G with 125W Charger (Moonlight Pearl, 256 GB)  (12 GB RAM)",
          "Motorola Edge 50 Pro 5G with 125W Charger (Moonlight Pearl, 256 GB)  (12 GB RAM)",
          "Motorola Edge 50 Pro 5G with 125W Charger (Moonlight Pearl, 256 GB)  (12 GB RAM)",
          "Motorola Edge 50 Pro 5G with 125W Charger (Moonlight Pearl, 256 GB)  (12 GB RAM)",
          "Motorola Edge 50 Pro 5G with 125W Charger (Moonlight Pearl, 256 GB)  (12 GB RAM)",
          "Motorola Edge 50 Pro 5G with 125W Charger (Moonlight Pearl, 256 GB)  (12 GB RAM)",
          "Motorola Edge 50 Pro 5G with 125W Charger (Moonlight Pearl, 256 GB)  (12 GB RAM)",
          "Motorola Edge 50 Pro 5G with 125W Charger (Moonlight Pearl, 256 GB)  (12 GB RAM)",
          "Motorola Edge 50 Pro 5G with 125W Charger (Moonlight Pearl, 256 GB)  (12 GB RAM)",
          "Motorola Edge 50 Pro 5G with 125W Charger (Moonlight Pearl, 256 GB)  (12 GB RAM)",
          "Motorola Edge 50 Pro 5G with 125W Charger (Moonlight Pearl, 256 GB)  (12 GB RAM)",
          "Motorola Edge 50 Pro 5G with 125W Charger (Moonlight Pearl, 256 GB)  (12 GB RAM)",
          "Motorola Edge 50 Pro 5G with 125W Charger (Moonlight Pearl, 256 GB)  (12 GB RAM)",
          "Motorola Edge 50 Pro 5G with 125W Charger (Moonlight Pearl, 256 GB)  (12 GB RAM)",
          "Motorola Edge 50 Pro 5G with 125W Charger (Moonlight Pearl, 256 GB)  (12 GB RAM)",
          "Motorola Edge 50 Pro 5G with 125W Charger (Moonlight Pearl, 256 GB)  (12 GB RAM)",
          "Motorola Edge 50 Pro 5G with 125W Charger (Moonlight Pearl, 256 GB)  (12 GB RAM)",
          "Motorola Edge 50 Pro 5G with 125W Charger (Moonlight Pearl, 256 GB)  (12 GB RAM)",
          "realme 12 Pro+ 5G (Explorer Red, 256 GB)  (12 GB RAM)",
          "realme 12 Pro+ 5G (Explorer Red, 256 GB)  (12 GB RAM)",
          "realme 12 Pro+ 5G (Explorer Red, 256 GB)  (12 GB RAM)",
          "realme 12 Pro+ 5G (Explorer Red, 256 GB)  (12 GB RAM)",
          "realme 12 Pro+ 5G (Explorer Red, 256 GB)  (12 GB RAM)",
          "realme 12 Pro+ 5G (Explorer Red, 256 GB)  (12 GB RAM)",
          "realme 12 Pro+ 5G (Explorer Red, 256 GB)  (12 GB RAM)",
          "realme 12 Pro+ 5G (Explorer Red, 256 GB)  (12 GB RAM)",
          "realme 12 Pro+ 5G (Explorer Red, 256 GB)  (12 GB RAM)",
          "realme 12 Pro+ 5G (Explorer Red, 256 GB)  (12 GB RAM)",
          "realme 12 Pro+ 5G (Explorer Red, 256 GB)  (12 GB RAM)",
          "realme 12 Pro+ 5G (Explorer Red, 256 GB)  (12 GB RAM)",
          "realme 12 Pro+ 5G (Explorer Red, 256 GB)  (12 GB RAM)",
          "realme 12 Pro+ 5G (Explorer Red, 256 GB)  (12 GB RAM)",
          "realme 12 Pro+ 5G (Explorer Red, 256 GB)  (12 GB RAM)",
          "realme 12 Pro+ 5G (Explorer Red, 256 GB)  (12 GB RAM)",
          "realme 12 Pro+ 5G (Explorer Red, 256 GB)  (12 GB RAM)",
          "realme 12 Pro+ 5G (Explorer Red, 256 GB)  (12 GB RAM)",
          "realme 12 Pro+ 5G (Explorer Red, 256 GB)  (12 GB RAM)",
          "realme 12 Pro+ 5G (Explorer Red, 256 GB)  (12 GB RAM)",
          "realme 12 Pro+ 5G (Explorer Red, 256 GB)  (12 GB RAM)",
          "realme 12 Pro+ 5G (Explorer Red, 256 GB)  (12 GB RAM)",
          "realme 12 Pro+ 5G (Explorer Red, 256 GB)  (12 GB RAM)",
          "realme 12 Pro+ 5G (Explorer Red, 256 GB)  (12 GB RAM)",
          "realme 12 Pro+ 5G (Explorer Red, 256 GB)  (12 GB RAM)",
          "realme 12 Pro+ 5G (Explorer Red, 256 GB)  (12 GB RAM)",
          "realme 12 Pro+ 5G (Explorer Red, 256 GB)  (12 GB RAM)",
          "realme 12 Pro+ 5G (Explorer Red, 256 GB)  (12 GB RAM)",
          "realme 12 Pro+ 5G (Explorer Red, 256 GB)  (12 GB RAM)",
          "realme 12 Pro+ 5G (Explorer Red, 256 GB)  (12 GB RAM)",
          "realme 12 Pro+ 5G (Explorer Red, 256 GB)  (12 GB RAM)",
          "realme 12 Pro+ 5G (Explorer Red, 256 GB)  (12 GB RAM)",
          "realme 12 Pro+ 5G (Explorer Red, 256 GB)  (12 GB RAM)",
          "realme 12 Pro+ 5G (Explorer Red, 256 GB)  (12 GB RAM)",
          "realme 12 Pro+ 5G (Explorer Red, 256 GB)  (12 GB RAM)",
          "realme 12 Pro+ 5G (Explorer Red, 256 GB)  (12 GB RAM)",
          "realme 12 Pro+ 5G (Explorer Red, 256 GB)  (12 GB RAM)",
          "realme 12 Pro+ 5G (Explorer Red, 256 GB)  (12 GB RAM)",
          "realme 12 Pro+ 5G (Explorer Red, 256 GB)  (12 GB RAM)",
          "realme 12 Pro+ 5G (Explorer Red, 256 GB)  (12 GB RAM)",
          "realme 12 Pro+ 5G (Explorer Red, 256 GB)  (12 GB RAM)",
          "realme 12 Pro+ 5G (Explorer Red, 256 GB)  (12 GB RAM)",
          "realme 12 Pro+ 5G (Explorer Red, 256 GB)  (12 GB RAM)",
          "realme 12 Pro+ 5G (Explorer Red, 256 GB)  (12 GB RAM)",
          "realme 12 Pro+ 5G (Explorer Red, 256 GB)  (12 GB RAM)",
          "realme 12 Pro+ 5G (Explorer Red, 256 GB)  (12 GB RAM)",
          "realme 12 Pro+ 5G (Explorer Red, 256 GB)  (12 GB RAM)",
          "realme 12 Pro+ 5G (Explorer Red, 256 GB)  (12 GB RAM)",
          "realme 12 Pro+ 5G (Explorer Red, 256 GB)  (12 GB RAM)",
          "realme 12 Pro+ 5G (Explorer Red, 256 GB)  (12 GB RAM)",
          "realme 12 Pro+ 5G (Explorer Red, 256 GB)  (12 GB RAM)",
          "realme 12 Pro+ 5G (Explorer Red, 256 GB)  (12 GB RAM)",
          "realme 12 Pro+ 5G (Explorer Red, 256 GB)  (12 GB RAM)",
          "realme 12 Pro+ 5G (Explorer Red, 256 GB)  (12 GB RAM)",
          "realme 12 Pro+ 5G (Explorer Red, 256 GB)  (12 GB RAM)",
          "realme 12 Pro+ 5G (Explorer Red, 256 GB)  (12 GB RAM)",
          "realme 12 Pro+ 5G (Explorer Red, 256 GB)  (12 GB RAM)",
          "realme 12 Pro+ 5G (Explorer Red, 256 GB)  (12 GB RAM)",
          "realme 12 Pro+ 5G (Explorer Red, 256 GB)  (12 GB RAM)",
          "realme 12 Pro+ 5G (Explorer Red, 256 GB)  (12 GB RAM)",
          "realme 12 Pro+ 5G (Explorer Red, 256 GB)  (12 GB RAM)",
          "realme 12 Pro+ 5G (Explorer Red, 256 GB)  (12 GB RAM)",
          "realme 12 Pro+ 5G (Explorer Red, 256 GB)  (12 GB RAM)",
          "realme 12 Pro+ 5G (Explorer Red, 256 GB)  (12 GB RAM)",
          "realme 12 Pro+ 5G (Explorer Red, 256 GB)  (12 GB RAM)",
          "realme 12 Pro+ 5G (Explorer Red, 256 GB)  (12 GB RAM)",
          "realme 12 Pro+ 5G (Explorer Red, 256 GB)  (12 GB RAM)",
          "realme 12 Pro+ 5G (Explorer Red, 256 GB)  (12 GB RAM)",
          "realme 12 Pro+ 5G (Explorer Red, 256 GB)  (12 GB RAM)",
          "realme 12 Pro+ 5G (Explorer Red, 256 GB)  (12 GB RAM)",
          "realme 12 Pro+ 5G (Explorer Red, 256 GB)  (12 GB RAM)",
          "realme 12 Pro+ 5G (Explorer Red, 256 GB)  (12 GB RAM)",
          "realme 12 Pro+ 5G (Explorer Red, 256 GB)  (12 GB RAM)",
          "realme 12 Pro+ 5G (Explorer Red, 256 GB)  (12 GB RAM)",
          "realme 12 Pro+ 5G (Explorer Red, 256 GB)  (12 GB RAM)",
          "realme 12 Pro+ 5G (Explorer Red, 256 GB)  (12 GB RAM)",
          "realme 12 Pro+ 5G (Explorer Red, 256 GB)  (12 GB RAM)",
          "realme 12 Pro+ 5G (Explorer Red, 256 GB)  (12 GB RAM)",
          "realme 12 Pro+ 5G (Explorer Red, 256 GB)  (12 GB RAM)",
          "realme 12 Pro+ 5G (Explorer Red, 256 GB)  (12 GB RAM)",
          "realme 12 Pro+ 5G (Explorer Red, 256 GB)  (12 GB RAM)",
          "realme 12 Pro+ 5G (Explorer Red, 256 GB)  (12 GB RAM)",
          "realme 12 Pro+ 5G (Explorer Red, 256 GB)  (12 GB RAM)",
          "realme 12 Pro+ 5G (Explorer Red, 256 GB)  (12 GB RAM)",
          "realme 12 Pro+ 5G (Explorer Red, 256 GB)  (12 GB RAM)",
          "realme 12 Pro+ 5G (Explorer Red, 256 GB)  (12 GB RAM)",
          "realme 12 Pro+ 5G (Explorer Red, 256 GB)  (12 GB RAM)",
          "Apple iPhone 12 (Blue, 128 GB)",
          "Apple iPhone 12 (Blue, 128 GB)",
          "Apple iPhone 12 (Blue, 128 GB)",
          "Apple iPhone 12 (Blue, 128 GB)",
          "Apple iPhone 12 (Blue, 128 GB)",
          "Apple iPhone 12 (Blue, 128 GB)",
          "Apple iPhone 12 (Blue, 128 GB)",
          "Apple iPhone 12 (Blue, 128 GB)",
          "Apple iPhone 12 (Blue, 128 GB)",
          "Apple iPhone 12 (Blue, 128 GB)",
          "Apple iPhone 12 (Blue, 128 GB)",
          "Apple iPhone 12 (Blue, 128 GB)",
          "Apple iPhone 12 (Blue, 128 GB)",
          "Apple iPhone 12 (Blue, 128 GB)",
          "Apple iPhone 12 (Blue, 128 GB)",
          "Apple iPhone 12 (Blue, 128 GB)",
          "Apple iPhone 12 (Blue, 128 GB)",
          "Apple iPhone 12 (Blue, 128 GB)",
          "Apple iPhone 12 (Blue, 128 GB)",
          "Apple iPhone 12 (Blue, 128 GB)",
          "Apple iPhone 12 (Blue, 128 GB)",
          "Apple iPhone 12 (Blue, 128 GB)",
          "Apple iPhone 12 (Blue, 128 GB)",
          "Apple iPhone 12 (Blue, 128 GB)",
          "Apple iPhone 12 (Blue, 128 GB)",
          "Apple iPhone 12 (Blue, 128 GB)",
          "Apple iPhone 12 (Blue, 128 GB)",
          "Apple iPhone 12 (Blue, 128 GB)",
          "Apple iPhone 12 (Blue, 128 GB)",
          "Apple iPhone 12 (Blue, 128 GB)",
          "Apple iPhone 12 (Blue, 128 GB)",
          "Apple iPhone 12 (Blue, 128 GB)",
          "Apple iPhone 12 (Blue, 128 GB)",
          "Apple iPhone 12 (Blue, 128 GB)",
          "Apple iPhone 12 (Blue, 128 GB)",
          "Apple iPhone 12 (Blue, 128 GB)",
          "Apple iPhone 12 (Blue, 128 GB)",
          "Apple iPhone 12 (Blue, 128 GB)",
          "Apple iPhone 12 (Blue, 128 GB)",
          "Apple iPhone 12 (Blue, 128 GB)",
          "Apple iPhone 12 (Blue, 128 GB)",
          "Apple iPhone 12 (Blue, 128 GB)",
          "Apple iPhone 12 (Blue, 128 GB)",
          "Apple iPhone 12 (Blue, 128 GB)",
          "Apple iPhone 12 (Blue, 128 GB)",
          "Apple iPhone 12 (Blue, 128 GB)",
          "Apple iPhone 12 (Blue, 128 GB)",
          "Apple iPhone 12 (Blue, 128 GB)",
          "Apple iPhone 12 (Blue, 128 GB)",
          "Apple iPhone 12 (Blue, 128 GB)",
          "Apple iPhone 12 (Blue, 128 GB)",
          "Apple iPhone 12 (Blue, 128 GB)",
          "Apple iPhone 12 (Blue, 128 GB)",
          "Apple iPhone 12 (Blue, 128 GB)",
          "Apple iPhone 12 (Blue, 128 GB)",
          "Apple iPhone 12 (Blue, 128 GB)",
          "Apple iPhone 12 (Blue, 128 GB)",
          "Apple iPhone 12 (Blue, 128 GB)",
          "Apple iPhone 12 (Blue, 128 GB)",
          "Apple iPhone 12 (Blue, 128 GB)",
          "Apple iPhone 12 (Blue, 128 GB)",
          "Apple iPhone 12 (Blue, 128 GB)",
          "Apple iPhone 12 (Blue, 128 GB)",
          "Apple iPhone 12 (Blue, 128 GB)",
          "Apple iPhone 12 (Blue, 128 GB)",
          "Apple iPhone 12 (Blue, 128 GB)",
          "Apple iPhone 12 (Blue, 128 GB)",
          "Apple iPhone 12 (Blue, 128 GB)",
          "Apple iPhone 12 (Blue, 128 GB)",
          "Apple iPhone 12 (Blue, 128 GB)",
          "Apple iPhone 12 (Blue, 128 GB)",
          "Apple iPhone 12 (Blue, 128 GB)",
          "Apple iPhone 12 (Blue, 128 GB)",
          "Apple iPhone 12 (Blue, 128 GB)",
          "Apple iPhone 12 (Blue, 128 GB)",
          "Apple iPhone 12 (Blue, 128 GB)",
          "Apple iPhone 12 (Blue, 128 GB)",
          "Apple iPhone 12 (Blue, 128 GB)",
          "Apple iPhone 12 (Blue, 128 GB)",
          "Apple iPhone 12 (Blue, 128 GB)",
          "Apple iPhone 12 (Blue, 128 GB)",
          "Apple iPhone 12 (Blue, 128 GB)",
          "Apple iPhone 12 (Blue, 128 GB)",
          "Apple iPhone 12 (Blue, 128 GB)",
          "Apple iPhone 12 (Blue, 128 GB)",
          "Apple iPhone 12 (Blue, 128 GB)",
          "Apple iPhone 12 (Blue, 128 GB)",
          "Apple iPhone 12 (Blue, 128 GB)",
          "Apple iPhone 12 (Blue, 128 GB)",
          "Apple iPhone 12 (Blue, 128 GB)",
          "Apple iPhone 12 (Blue, 128 GB)",
          "Apple iPhone 12 (Blue, 128 GB)",
          "Apple iPhone 12 (Blue, 128 GB)",
          "Apple iPhone 12 (Blue, 128 GB)",
          "Apple iPhone 12 (Blue, 128 GB)",
          "Apple iPhone 12 (Blue, 128 GB)",
          "Apple iPhone 12 (Blue, 128 GB)",
          "Apple iPhone 12 (Blue, 128 GB)",
          "Apple iPhone 12 (Blue, 128 GB)",
          "Apple iPhone 12 (Blue, 128 GB)",
          "Apple iPhone 12 (Blue, 128 GB)",
          "Apple iPhone 12 (Blue, 128 GB)",
          "Apple iPhone 12 (Blue, 128 GB)",
          "Apple iPhone 12 (Blue, 128 GB)",
          "Apple iPhone 12 (Blue, 128 GB)",
          "Apple iPhone 12 (Blue, 128 GB)",
          "Apple iPhone 12 (Blue, 128 GB)",
          "Apple iPhone 12 (Blue, 128 GB)",
          "Apple iPhone 12 (Blue, 128 GB)",
          "Apple iPhone 12 (Blue, 128 GB)",
          "Apple iPhone 12 (Blue, 128 GB)",
          "Apple iPhone 12 (Blue, 128 GB)",
          "Apple iPhone 12 (Blue, 128 GB)",
          "Apple iPhone 12 (Blue, 128 GB)",
          "Apple iPhone 12 (Blue, 128 GB)",
          "Apple iPhone 12 (Blue, 128 GB)",
          "Apple iPhone 12 (Blue, 128 GB)",
          "Apple iPhone 12 (Blue, 128 GB)",
          "Apple iPhone 12 (Blue, 128 GB)",
          "Apple iPhone 12 (Blue, 128 GB)",
          "Apple iPhone 12 (Blue, 128 GB)",
          "Apple iPhone 12 (Blue, 128 GB)",
          "Apple iPhone 12 (Blue, 128 GB)",
          "Apple iPhone 12 (Blue, 128 GB)",
          "Apple iPhone 12 (Blue, 128 GB)",
          "Apple iPhone 12 (Blue, 128 GB)",
          "Apple iPhone 12 (Blue, 128 GB)",
          "Apple iPhone 12 (Blue, 128 GB)",
          "Apple iPhone 12 (Blue, 128 GB)",
          "Apple iPhone 12 (Blue, 128 GB)",
          "Apple iPhone 12 (Blue, 128 GB)",
          "Apple iPhone 12 (Blue, 128 GB)",
          "Apple iPhone 12 (Blue, 128 GB)",
          "Apple iPhone 12 (Blue, 128 GB)",
          "Apple iPhone 12 (Blue, 128 GB)",
          "Apple iPhone 12 (Blue, 128 GB)",
          "Apple iPhone 12 (Blue, 128 GB)",
          "Apple iPhone 12 (Blue, 128 GB)",
          "Apple iPhone 12 (Blue, 128 GB)",
          "Apple iPhone 12 (Blue, 128 GB)",
          "Apple iPhone 12 (Blue, 128 GB)",
          "Apple iPhone 12 (Blue, 128 GB)",
          "Apple iPhone 12 (Blue, 128 GB)",
          "Apple iPhone 12 (Blue, 128 GB)",
          "Apple iPhone 12 (Blue, 128 GB)",
          "Apple iPhone 12 (Blue, 128 GB)",
          "Apple iPhone 12 (Blue, 128 GB)",
          "Apple iPhone 12 (Blue, 128 GB)",
          "Apple iPhone 12 (Blue, 128 GB)",
          "Apple iPhone 12 (Blue, 128 GB)",
          "Apple iPhone 12 (Blue, 128 GB)",
          "Apple iPhone 12 (Blue, 128 GB)",
          "Apple iPhone 12 (Blue, 128 GB)",
          "Apple iPhone 12 (Blue, 128 GB)",
          "Apple iPhone 12 (Blue, 128 GB)",
          "Apple iPhone 12 (Blue, 128 GB)",
          "Apple iPhone 12 (Blue, 128 GB)",
          "Apple iPhone 12 (Blue, 128 GB)",
          "Apple iPhone 12 (Blue, 128 GB)",
          "Apple iPhone 12 (Blue, 128 GB)",
          "Apple iPhone 12 (Blue, 128 GB)",
          "Apple iPhone 12 (Blue, 128 GB)",
          "Apple iPhone 12 (Blue, 128 GB)",
          "Apple iPhone 12 (Blue, 128 GB)",
          "Apple iPhone 12 (Blue, 128 GB)",
          "Apple iPhone 12 (Blue, 128 GB)",
          "Apple iPhone 12 (Blue, 128 GB)",
          "Apple iPhone 12 (Blue, 128 GB)",
          "Apple iPhone 12 (Blue, 128 GB)",
          "Apple iPhone 12 (Blue, 128 GB)",
          "Apple iPhone 12 (Blue, 128 GB)",
          "Apple iPhone 12 (Blue, 128 GB)",
          "OnePlus Nord 3 5G (Tempest Gray, 128 GB)  (8 GB RAM)",
          "OnePlus Nord 3 5G (Tempest Gray, 128 GB)  (8 GB RAM)",
          "OnePlus Nord 3 5G (Tempest Gray, 128 GB)  (8 GB RAM)",
          "OnePlus Nord 3 5G (Tempest Gray, 128 GB)  (8 GB RAM)",
          "OnePlus Nord 3 5G (Tempest Gray, 128 GB)  (8 GB RAM)",
          "OnePlus Nord 3 5G (Tempest Gray, 128 GB)  (8 GB RAM)",
          "OnePlus Nord 3 5G (Tempest Gray, 128 GB)  (8 GB RAM)",
          "OnePlus Nord 3 5G (Tempest Gray, 128 GB)  (8 GB RAM)",
          "OnePlus Nord 3 5G (Tempest Gray, 128 GB)  (8 GB RAM)",
          "OnePlus Nord 3 5G (Tempest Gray, 128 GB)  (8 GB RAM)",
          "OnePlus Nord 3 5G (Tempest Gray, 128 GB)  (8 GB RAM)",
          "OnePlus Nord 3 5G (Tempest Gray, 128 GB)  (8 GB RAM)",
          "OnePlus Nord 3 5G (Tempest Gray, 128 GB)  (8 GB RAM)",
          "OnePlus Nord 3 5G (Tempest Gray, 128 GB)  (8 GB RAM)",
          "OnePlus Nord 3 5G (Tempest Gray, 128 GB)  (8 GB RAM)",
          "OnePlus Nord 3 5G (Tempest Gray, 128 GB)  (8 GB RAM)",
          "OnePlus Nord 3 5G (Tempest Gray, 128 GB)  (8 GB RAM)",
          "OnePlus Nord 3 5G (Tempest Gray, 128 GB)  (8 GB RAM)",
          "OnePlus Nord 3 5G (Tempest Gray, 128 GB)  (8 GB RAM)",
          "OnePlus Nord 3 5G (Tempest Gray, 128 GB)  (8 GB RAM)",
          "OnePlus Nord 3 5G (Tempest Gray, 128 GB)  (8 GB RAM)",
          "OnePlus Nord 3 5G (Tempest Gray, 128 GB)  (8 GB RAM)",
          "OnePlus Nord 3 5G (Tempest Gray, 128 GB)  (8 GB RAM)",
          "OnePlus Nord 3 5G (Tempest Gray, 128 GB)  (8 GB RAM)",
          "OnePlus Nord 3 5G (Tempest Gray, 128 GB)  (8 GB RAM)",
          "OnePlus Nord 3 5G (Tempest Gray, 128 GB)  (8 GB RAM)",
          "OnePlus Nord 3 5G (Tempest Gray, 128 GB)  (8 GB RAM)",
          "OnePlus Nord 3 5G (Tempest Gray, 128 GB)  (8 GB RAM)",
          "OnePlus Nord 3 5G (Tempest Gray, 128 GB)  (8 GB RAM)",
          "OnePlus Nord 3 5G (Tempest Gray, 128 GB)  (8 GB RAM)",
          "OnePlus Nord 3 5G (Tempest Gray, 128 GB)  (8 GB RAM)",
          "OnePlus Nord 3 5G (Tempest Gray, 128 GB)  (8 GB RAM)",
          "OnePlus Nord 3 5G (Tempest Gray, 128 GB)  (8 GB RAM)",
          "OnePlus Nord 3 5G (Tempest Gray, 128 GB)  (8 GB RAM)",
          "OnePlus Nord 3 5G (Tempest Gray, 128 GB)  (8 GB RAM)",
          "OnePlus Nord 3 5G (Tempest Gray, 128 GB)  (8 GB RAM)",
          "OnePlus Nord 3 5G (Tempest Gray, 128 GB)  (8 GB RAM)",
          "OnePlus Nord 3 5G (Tempest Gray, 128 GB)  (8 GB RAM)",
          "OnePlus Nord 3 5G (Tempest Gray, 128 GB)  (8 GB RAM)",
          "OnePlus Nord 3 5G (Tempest Gray, 128 GB)  (8 GB RAM)",
          "OnePlus Nord 3 5G (Tempest Gray, 128 GB)  (8 GB RAM)",
          "OnePlus Nord 3 5G (Tempest Gray, 128 GB)  (8 GB RAM)",
          "OnePlus Nord 3 5G (Tempest Gray, 128 GB)  (8 GB RAM)",
          "OnePlus Nord 3 5G (Tempest Gray, 128 GB)  (8 GB RAM)",
          "OnePlus Nord 3 5G (Tempest Gray, 128 GB)  (8 GB RAM)",
          "OnePlus Nord 3 5G (Tempest Gray, 128 GB)  (8 GB RAM)",
          "OnePlus Nord 3 5G (Tempest Gray, 128 GB)  (8 GB RAM)",
          "OnePlus Nord 3 5G (Tempest Gray, 128 GB)  (8 GB RAM)",
          "OnePlus Nord 3 5G (Tempest Gray, 128 GB)  (8 GB RAM)",
          "OnePlus Nord 3 5G (Tempest Gray, 128 GB)  (8 GB RAM)",
          "OnePlus Nord 3 5G (Tempest Gray, 128 GB)  (8 GB RAM)",
          "OnePlus Nord 3 5G (Tempest Gray, 128 GB)  (8 GB RAM)",
          "OnePlus Nord 3 5G (Tempest Gray, 128 GB)  (8 GB RAM)",
          "OnePlus Nord 3 5G (Tempest Gray, 128 GB)  (8 GB RAM)",
          "OnePlus Nord 3 5G (Tempest Gray, 128 GB)  (8 GB RAM)",
          "OnePlus Nord 3 5G (Tempest Gray, 128 GB)  (8 GB RAM)",
          "OnePlus Nord 3 5G (Tempest Gray, 128 GB)  (8 GB RAM)",
          "OnePlus Nord 3 5G (Tempest Gray, 128 GB)  (8 GB RAM)",
          "OnePlus Nord 3 5G (Tempest Gray, 128 GB)  (8 GB RAM)",
          "OnePlus Nord 3 5G (Tempest Gray, 128 GB)  (8 GB RAM)",
          "OnePlus Nord 3 5G (Tempest Gray, 128 GB)  (8 GB RAM)",
          "OnePlus Nord 3 5G (Tempest Gray, 128 GB)  (8 GB RAM)",
          "OnePlus Nord 3 5G (Tempest Gray, 128 GB)  (8 GB RAM)",
          "OnePlus Nord 3 5G (Tempest Gray, 128 GB)  (8 GB RAM)",
          "OnePlus Nord 3 5G (Tempest Gray, 128 GB)  (8 GB RAM)",
          "OnePlus Nord 3 5G (Tempest Gray, 128 GB)  (8 GB RAM)",
          "OnePlus Nord 3 5G (Tempest Gray, 128 GB)  (8 GB RAM)",
          "OnePlus Nord 3 5G (Tempest Gray, 128 GB)  (8 GB RAM)",
          "OnePlus Nord 3 5G (Tempest Gray, 128 GB)  (8 GB RAM)",
          "OnePlus Nord 3 5G (Tempest Gray, 128 GB)  (8 GB RAM)",
          "OnePlus Nord 3 5G (Tempest Gray, 128 GB)  (8 GB RAM)",
          "OnePlus Nord 3 5G (Tempest Gray, 128 GB)  (8 GB RAM)",
          "OnePlus Nord 3 5G (Tempest Gray, 128 GB)  (8 GB RAM)",
          "OnePlus Nord 3 5G (Tempest Gray, 128 GB)  (8 GB RAM)",
          "OnePlus Nord 3 5G (Tempest Gray, 128 GB)  (8 GB RAM)",
          "OnePlus Nord 3 5G (Tempest Gray, 128 GB)  (8 GB RAM)",
          "OnePlus Nord 3 5G (Tempest Gray, 128 GB)  (8 GB RAM)",
          "OnePlus Nord 3 5G (Tempest Gray, 128 GB)  (8 GB RAM)",
          "OnePlus Nord 3 5G (Tempest Gray, 128 GB)  (8 GB RAM)",
          "OnePlus Nord 3 5G (Tempest Gray, 128 GB)  (8 GB RAM)",
          "OnePlus Nord 3 5G (Tempest Gray, 128 GB)  (8 GB RAM)",
          "OnePlus Nord 3 5G (Tempest Gray, 128 GB)  (8 GB RAM)",
          "OnePlus Nord 3 5G (Tempest Gray, 128 GB)  (8 GB RAM)",
          "OnePlus Nord 3 5G (Tempest Gray, 128 GB)  (8 GB RAM)",
          "OnePlus Nord 3 5G (Tempest Gray, 128 GB)  (8 GB RAM)",
          "OnePlus Nord 3 5G (Tempest Gray, 128 GB)  (8 GB RAM)",
          "OnePlus Nord 3 5G (Tempest Gray, 128 GB)  (8 GB RAM)",
          "OnePlus Nord 3 5G (Tempest Gray, 128 GB)  (8 GB RAM)",
          "OnePlus Nord 3 5G (Tempest Gray, 128 GB)  (8 GB RAM)",
          "OnePlus Nord 3 5G (Tempest Gray, 128 GB)  (8 GB RAM)",
          "OnePlus Nord 3 5G (Tempest Gray, 128 GB)  (8 GB RAM)",
          "OnePlus Nord 3 5G (Tempest Gray, 128 GB)  (8 GB RAM)",
          "OnePlus Nord 3 5G (Tempest Gray, 128 GB)  (8 GB RAM)",
          "OnePlus Nord 3 5G (Tempest Gray, 128 GB)  (8 GB RAM)",
          "OnePlus Nord 3 5G (Tempest Gray, 128 GB)  (8 GB RAM)",
          "OnePlus Nord 3 5G (Tempest Gray, 128 GB)  (8 GB RAM)",
          "OnePlus Nord 3 5G (Tempest Gray, 128 GB)  (8 GB RAM)",
          "OnePlus Nord 3 5G (Tempest Gray, 128 GB)  (8 GB RAM)",
          "OnePlus Nord 3 5G (Tempest Gray, 128 GB)  (8 GB RAM)",
          "OnePlus Nord 3 5G (Tempest Gray, 128 GB)  (8 GB RAM)",
          "OnePlus Nord 3 5G (Tempest Gray, 128 GB)  (8 GB RAM)",
          "OnePlus Nord 3 5G (Tempest Gray, 128 GB)  (8 GB RAM)",
          "OnePlus Nord 3 5G (Tempest Gray, 128 GB)  (8 GB RAM)"
         ],
         "legendgroup": "Positive",
         "marker": {
          "color": "#636efa",
          "size": [
           4,
           5,
           5,
           4,
           5,
           4,
           5,
           5,
           4,
           4,
           5,
           4,
           5,
           4,
           4,
           5,
           5,
           3,
           3,
           3,
           5,
           5,
           5,
           4,
           5,
           5,
           4,
           5,
           4,
           4,
           4,
           4,
           4,
           4,
           4,
           3,
           5,
           4,
           5,
           4,
           5,
           5,
           5,
           5,
           4,
           4,
           4,
           4,
           4,
           5,
           5,
           5,
           5,
           5,
           5,
           5,
           4,
           5,
           3,
           5,
           4,
           4,
           4,
           4,
           4,
           4,
           5,
           5,
           5,
           5,
           5,
           5,
           5,
           5,
           5,
           5,
           5,
           5,
           5,
           5,
           5,
           5,
           5,
           5,
           5,
           4,
           5,
           5,
           4,
           4,
           3,
           5,
           5,
           3,
           5,
           5,
           4,
           5,
           4,
           4,
           4,
           5,
           4,
           5,
           5,
           4,
           4,
           5,
           5,
           4,
           5,
           5,
           5,
           4,
           4,
           5,
           5,
           3,
           5,
           5,
           4,
           5,
           5,
           4,
           5,
           4,
           5,
           5,
           3,
           5,
           5,
           4,
           4,
           5,
           4,
           4,
           3,
           4,
           4,
           5,
           5,
           5,
           4,
           5,
           5,
           5,
           5,
           5,
           5,
           5,
           5,
           5,
           5,
           3,
           5,
           4,
           4,
           5,
           5,
           5,
           5,
           5,
           5,
           3,
           5,
           4,
           5,
           4,
           5,
           5,
           5,
           5,
           5,
           4,
           5,
           5,
           5,
           5,
           5,
           3,
           5,
           4,
           5,
           5,
           5,
           5,
           4,
           5,
           5,
           5,
           5,
           5,
           4,
           5,
           5,
           4,
           5,
           5,
           5,
           5,
           5,
           4,
           3,
           5,
           5,
           5,
           5,
           5,
           5,
           5,
           5,
           5,
           5,
           4,
           4,
           5,
           5,
           5,
           5,
           5,
           4,
           5,
           5,
           4,
           4,
           5,
           5,
           5,
           5,
           5,
           5,
           4,
           4,
           5,
           5,
           5,
           5,
           5,
           5,
           5,
           5,
           3,
           5,
           4,
           4,
           4,
           4,
           4,
           4,
           4,
           4,
           4,
           4,
           5,
           5,
           5,
           5,
           5,
           5,
           5,
           5,
           5,
           5,
           5,
           5,
           5,
           5,
           5,
           5,
           5,
           5,
           5,
           5,
           5,
           5,
           5,
           5,
           5,
           5,
           5,
           5,
           5,
           5,
           5,
           5,
           5,
           5,
           5,
           5,
           5,
           5,
           4,
           4,
           5,
           5,
           5,
           5,
           5,
           5,
           5,
           5,
           5,
           5,
           5,
           5,
           5,
           5,
           5,
           5,
           5,
           5,
           5,
           5,
           5,
           5,
           5,
           5,
           5,
           5,
           5,
           5,
           5,
           5,
           5,
           5,
           5,
           5,
           5,
           5,
           5,
           5,
           5,
           5,
           5,
           5,
           5,
           5,
           5,
           5,
           5,
           5,
           5,
           5,
           5,
           5,
           5,
           4,
           5,
           5,
           4,
           5,
           5,
           5,
           5,
           5,
           4,
           5,
           5,
           5,
           5,
           4,
           5,
           5,
           5,
           5,
           5,
           5,
           5,
           5,
           5,
           5,
           4,
           5,
           5,
           5,
           5,
           4,
           5,
           5,
           5,
           5,
           5,
           5,
           5,
           5,
           5,
           5,
           5,
           4,
           5,
           4,
           5,
           5,
           5,
           5,
           4,
           5,
           5,
           5,
           5,
           5,
           4,
           5,
           5,
           4,
           5,
           5,
           5,
           5,
           5,
           5,
           5,
           5,
           5,
           5,
           5,
           5,
           5,
           5,
           5,
           5,
           5,
           5,
           5,
           5,
           5,
           5,
           5,
           5,
           5,
           5,
           5,
           5,
           4,
           5,
           5,
           3,
           5,
           5,
           5,
           5,
           4,
           4,
           5,
           5,
           5,
           4,
           4,
           4,
           4,
           5,
           5,
           5,
           5,
           5,
           4,
           5,
           5,
           4,
           5,
           4,
           5,
           5,
           5,
           4,
           5,
           5,
           4,
           5,
           5,
           5,
           5,
           4,
           5,
           5,
           5,
           5,
           3,
           5,
           4,
           4,
           4,
           5,
           5,
           5,
           5,
           5,
           4,
           5,
           3,
           5,
           5,
           5,
           5,
           4,
           4,
           4,
           4,
           5,
           5,
           5,
           5,
           5,
           5,
           5,
           5,
           5,
           5,
           3,
           3,
           5,
           5,
           4,
           5,
           4,
           5,
           5,
           4,
           4,
           4,
           4,
           4,
           4,
           4,
           4,
           4,
           4,
           3,
           5,
           5,
           5,
           5,
           5,
           5,
           5,
           5,
           5,
           4,
           5,
           5,
           5,
           3,
           3,
           5
          ],
          "sizemode": "area",
          "sizeref": 0.005555555555555556,
          "symbol": "circle"
         },
         "mode": "markers",
         "name": "Positive",
         "orientation": "v",
         "showlegend": true,
         "type": "scatter",
         "x": [
          "SAMSUNG Galaxy S23 FE (Graphite, 128 GB)  (8 GB RAM)",
          "SAMSUNG Galaxy S23 FE (Graphite, 128 GB)  (8 GB RAM)",
          "SAMSUNG Galaxy S23 FE (Graphite, 128 GB)  (8 GB RAM)",
          "SAMSUNG Galaxy S23 FE (Graphite, 128 GB)  (8 GB RAM)",
          "SAMSUNG Galaxy S23 FE (Graphite, 128 GB)  (8 GB RAM)",
          "SAMSUNG Galaxy S23 FE (Graphite, 128 GB)  (8 GB RAM)",
          "SAMSUNG Galaxy S23 FE (Graphite, 128 GB)  (8 GB RAM)",
          "SAMSUNG Galaxy S23 FE (Graphite, 128 GB)  (8 GB RAM)",
          "SAMSUNG Galaxy S23 FE (Graphite, 128 GB)  (8 GB RAM)",
          "SAMSUNG Galaxy S23 FE (Graphite, 128 GB)  (8 GB RAM)",
          "SAMSUNG Galaxy S23 FE (Graphite, 128 GB)  (8 GB RAM)",
          "SAMSUNG Galaxy S23 FE (Graphite, 128 GB)  (8 GB RAM)",
          "SAMSUNG Galaxy S23 FE (Graphite, 128 GB)  (8 GB RAM)",
          "SAMSUNG Galaxy S23 FE (Graphite, 128 GB)  (8 GB RAM)",
          "SAMSUNG Galaxy S23 FE (Graphite, 128 GB)  (8 GB RAM)",
          "SAMSUNG Galaxy S23 FE (Graphite, 128 GB)  (8 GB RAM)",
          "SAMSUNG Galaxy S23 FE (Graphite, 128 GB)  (8 GB RAM)",
          "SAMSUNG Galaxy S23 FE (Graphite, 128 GB)  (8 GB RAM)",
          "SAMSUNG Galaxy S23 FE (Graphite, 128 GB)  (8 GB RAM)",
          "SAMSUNG Galaxy S23 FE (Graphite, 128 GB)  (8 GB RAM)",
          "SAMSUNG Galaxy S23 FE (Graphite, 128 GB)  (8 GB RAM)",
          "SAMSUNG Galaxy S23 FE (Graphite, 128 GB)  (8 GB RAM)",
          "SAMSUNG Galaxy S23 FE (Graphite, 128 GB)  (8 GB RAM)",
          "SAMSUNG Galaxy S23 FE (Graphite, 128 GB)  (8 GB RAM)",
          "SAMSUNG Galaxy S23 FE (Graphite, 128 GB)  (8 GB RAM)",
          "SAMSUNG Galaxy S23 FE (Graphite, 128 GB)  (8 GB RAM)",
          "SAMSUNG Galaxy S23 FE (Graphite, 128 GB)  (8 GB RAM)",
          "SAMSUNG Galaxy S23 FE (Graphite, 128 GB)  (8 GB RAM)",
          "SAMSUNG Galaxy S23 FE (Graphite, 128 GB)  (8 GB RAM)",
          "SAMSUNG Galaxy S23 FE (Graphite, 128 GB)  (8 GB RAM)",
          "SAMSUNG Galaxy S23 FE (Graphite, 128 GB)  (8 GB RAM)",
          "SAMSUNG Galaxy S23 FE (Graphite, 128 GB)  (8 GB RAM)",
          "SAMSUNG Galaxy S23 FE (Graphite, 128 GB)  (8 GB RAM)",
          "SAMSUNG Galaxy S23 FE (Graphite, 128 GB)  (8 GB RAM)",
          "SAMSUNG Galaxy S23 FE (Graphite, 128 GB)  (8 GB RAM)",
          "SAMSUNG Galaxy S23 FE (Graphite, 128 GB)  (8 GB RAM)",
          "SAMSUNG Galaxy S23 FE (Graphite, 128 GB)  (8 GB RAM)",
          "SAMSUNG Galaxy S23 FE (Graphite, 128 GB)  (8 GB RAM)",
          "SAMSUNG Galaxy S23 FE (Graphite, 128 GB)  (8 GB RAM)",
          "SAMSUNG Galaxy S23 FE (Graphite, 128 GB)  (8 GB RAM)",
          "SAMSUNG Galaxy S23 FE (Graphite, 128 GB)  (8 GB RAM)",
          "SAMSUNG Galaxy S23 FE (Graphite, 128 GB)  (8 GB RAM)",
          "SAMSUNG Galaxy S23 FE (Graphite, 128 GB)  (8 GB RAM)",
          "SAMSUNG Galaxy S23 FE (Graphite, 128 GB)  (8 GB RAM)",
          "SAMSUNG Galaxy S23 FE (Graphite, 128 GB)  (8 GB RAM)",
          "SAMSUNG Galaxy S23 FE (Graphite, 128 GB)  (8 GB RAM)",
          "SAMSUNG Galaxy S23 FE (Graphite, 128 GB)  (8 GB RAM)",
          "SAMSUNG Galaxy S23 FE (Graphite, 128 GB)  (8 GB RAM)",
          "SAMSUNG Galaxy S23 FE (Graphite, 128 GB)  (8 GB RAM)",
          "SAMSUNG Galaxy S23 FE (Graphite, 128 GB)  (8 GB RAM)",
          "SAMSUNG Galaxy S23 FE (Graphite, 128 GB)  (8 GB RAM)",
          "SAMSUNG Galaxy S23 FE (Graphite, 128 GB)  (8 GB RAM)",
          "SAMSUNG Galaxy S23 FE (Graphite, 128 GB)  (8 GB RAM)",
          "SAMSUNG Galaxy S23 FE (Graphite, 128 GB)  (8 GB RAM)",
          "SAMSUNG Galaxy S23 FE (Graphite, 128 GB)  (8 GB RAM)",
          "SAMSUNG Galaxy S23 FE (Graphite, 128 GB)  (8 GB RAM)",
          "SAMSUNG Galaxy S23 FE (Graphite, 128 GB)  (8 GB RAM)",
          "SAMSUNG Galaxy S23 FE (Graphite, 128 GB)  (8 GB RAM)",
          "SAMSUNG Galaxy S23 FE (Graphite, 128 GB)  (8 GB RAM)",
          "SAMSUNG Galaxy S23 FE (Graphite, 128 GB)  (8 GB RAM)",
          "SAMSUNG Galaxy S23 FE (Graphite, 128 GB)  (8 GB RAM)",
          "SAMSUNG Galaxy S23 FE (Graphite, 128 GB)  (8 GB RAM)",
          "SAMSUNG Galaxy S23 FE (Graphite, 128 GB)  (8 GB RAM)",
          "SAMSUNG Galaxy S23 FE (Graphite, 128 GB)  (8 GB RAM)",
          "SAMSUNG Galaxy S23 FE (Graphite, 128 GB)  (8 GB RAM)",
          "SAMSUNG Galaxy S23 FE (Graphite, 128 GB)  (8 GB RAM)",
          "SAMSUNG Galaxy S23 FE (Graphite, 128 GB)  (8 GB RAM)",
          "SAMSUNG Galaxy S23 FE (Graphite, 128 GB)  (8 GB RAM)",
          "SAMSUNG Galaxy S23 FE (Graphite, 128 GB)  (8 GB RAM)",
          "SAMSUNG Galaxy S23 FE (Graphite, 128 GB)  (8 GB RAM)",
          "SAMSUNG Galaxy S23 FE (Graphite, 128 GB)  (8 GB RAM)",
          "SAMSUNG Galaxy S23 FE (Graphite, 128 GB)  (8 GB RAM)",
          "SAMSUNG Galaxy S23 FE (Graphite, 128 GB)  (8 GB RAM)",
          "SAMSUNG Galaxy S23 FE (Graphite, 128 GB)  (8 GB RAM)",
          "SAMSUNG Galaxy S23 FE (Graphite, 128 GB)  (8 GB RAM)",
          "SAMSUNG Galaxy S23 FE (Graphite, 128 GB)  (8 GB RAM)",
          "SAMSUNG Galaxy S23 FE (Graphite, 128 GB)  (8 GB RAM)",
          "SAMSUNG Galaxy S23 FE (Graphite, 128 GB)  (8 GB RAM)",
          "SAMSUNG Galaxy S23 FE (Graphite, 128 GB)  (8 GB RAM)",
          "SAMSUNG Galaxy S23 FE (Graphite, 128 GB)  (8 GB RAM)",
          "SAMSUNG Galaxy S23 FE (Graphite, 128 GB)  (8 GB RAM)",
          "SAMSUNG Galaxy S23 FE (Graphite, 128 GB)  (8 GB RAM)",
          "SAMSUNG Galaxy S23 FE (Graphite, 128 GB)  (8 GB RAM)",
          "SAMSUNG Galaxy S23 FE (Graphite, 128 GB)  (8 GB RAM)",
          "SAMSUNG Galaxy S23 FE (Graphite, 128 GB)  (8 GB RAM)",
          "SAMSUNG Galaxy S23 FE (Graphite, 128 GB)  (8 GB RAM)",
          "SAMSUNG Galaxy S23 FE (Graphite, 128 GB)  (8 GB RAM)",
          "SAMSUNG Galaxy S23 FE (Graphite, 128 GB)  (8 GB RAM)",
          "SAMSUNG Galaxy S23 FE (Graphite, 128 GB)  (8 GB RAM)",
          "SAMSUNG Galaxy S23 FE (Graphite, 128 GB)  (8 GB RAM)",
          "SAMSUNG Galaxy S23 FE (Graphite, 128 GB)  (8 GB RAM)",
          "SAMSUNG Galaxy S23 FE (Graphite, 128 GB)  (8 GB RAM)",
          "SAMSUNG Galaxy S23 FE (Graphite, 128 GB)  (8 GB RAM)",
          "SAMSUNG Galaxy S23 FE (Graphite, 128 GB)  (8 GB RAM)",
          "SAMSUNG Galaxy S23 FE (Graphite, 128 GB)  (8 GB RAM)",
          "SAMSUNG Galaxy S23 FE (Graphite, 128 GB)  (8 GB RAM)",
          "SAMSUNG Galaxy S23 FE (Graphite, 128 GB)  (8 GB RAM)",
          "SAMSUNG Galaxy S23 FE (Graphite, 128 GB)  (8 GB RAM)",
          "SAMSUNG Galaxy S23 FE (Graphite, 128 GB)  (8 GB RAM)",
          "SAMSUNG Galaxy S23 FE (Graphite, 128 GB)  (8 GB RAM)",
          "SAMSUNG Galaxy S23 FE (Graphite, 128 GB)  (8 GB RAM)",
          "SAMSUNG Galaxy S23 FE (Graphite, 128 GB)  (8 GB RAM)",
          "SAMSUNG Galaxy S23 FE (Graphite, 128 GB)  (8 GB RAM)",
          "SAMSUNG Galaxy S23 FE (Graphite, 128 GB)  (8 GB RAM)",
          "SAMSUNG Galaxy S23 FE (Graphite, 128 GB)  (8 GB RAM)",
          "SAMSUNG Galaxy S23 FE (Graphite, 128 GB)  (8 GB RAM)",
          "Motorola Edge 50 Pro 5G with 125W Charger (Moonlight Pearl, 256 GB)  (12 GB RAM)",
          "Motorola Edge 50 Pro 5G with 125W Charger (Moonlight Pearl, 256 GB)  (12 GB RAM)",
          "Motorola Edge 50 Pro 5G with 125W Charger (Moonlight Pearl, 256 GB)  (12 GB RAM)",
          "Motorola Edge 50 Pro 5G with 125W Charger (Moonlight Pearl, 256 GB)  (12 GB RAM)",
          "Motorola Edge 50 Pro 5G with 125W Charger (Moonlight Pearl, 256 GB)  (12 GB RAM)",
          "Motorola Edge 50 Pro 5G with 125W Charger (Moonlight Pearl, 256 GB)  (12 GB RAM)",
          "Motorola Edge 50 Pro 5G with 125W Charger (Moonlight Pearl, 256 GB)  (12 GB RAM)",
          "Motorola Edge 50 Pro 5G with 125W Charger (Moonlight Pearl, 256 GB)  (12 GB RAM)",
          "Motorola Edge 50 Pro 5G with 125W Charger (Moonlight Pearl, 256 GB)  (12 GB RAM)",
          "Motorola Edge 50 Pro 5G with 125W Charger (Moonlight Pearl, 256 GB)  (12 GB RAM)",
          "Motorola Edge 50 Pro 5G with 125W Charger (Moonlight Pearl, 256 GB)  (12 GB RAM)",
          "Motorola Edge 50 Pro 5G with 125W Charger (Moonlight Pearl, 256 GB)  (12 GB RAM)",
          "Motorola Edge 50 Pro 5G with 125W Charger (Moonlight Pearl, 256 GB)  (12 GB RAM)",
          "Motorola Edge 50 Pro 5G with 125W Charger (Moonlight Pearl, 256 GB)  (12 GB RAM)",
          "Motorola Edge 50 Pro 5G with 125W Charger (Moonlight Pearl, 256 GB)  (12 GB RAM)",
          "Motorola Edge 50 Pro 5G with 125W Charger (Moonlight Pearl, 256 GB)  (12 GB RAM)",
          "Motorola Edge 50 Pro 5G with 125W Charger (Moonlight Pearl, 256 GB)  (12 GB RAM)",
          "Motorola Edge 50 Pro 5G with 125W Charger (Moonlight Pearl, 256 GB)  (12 GB RAM)",
          "Motorola Edge 50 Pro 5G with 125W Charger (Moonlight Pearl, 256 GB)  (12 GB RAM)",
          "Motorola Edge 50 Pro 5G with 125W Charger (Moonlight Pearl, 256 GB)  (12 GB RAM)",
          "Motorola Edge 50 Pro 5G with 125W Charger (Moonlight Pearl, 256 GB)  (12 GB RAM)",
          "Motorola Edge 50 Pro 5G with 125W Charger (Moonlight Pearl, 256 GB)  (12 GB RAM)",
          "Motorola Edge 50 Pro 5G with 125W Charger (Moonlight Pearl, 256 GB)  (12 GB RAM)",
          "Motorola Edge 50 Pro 5G with 125W Charger (Moonlight Pearl, 256 GB)  (12 GB RAM)",
          "Motorola Edge 50 Pro 5G with 125W Charger (Moonlight Pearl, 256 GB)  (12 GB RAM)",
          "Motorola Edge 50 Pro 5G with 125W Charger (Moonlight Pearl, 256 GB)  (12 GB RAM)",
          "Motorola Edge 50 Pro 5G with 125W Charger (Moonlight Pearl, 256 GB)  (12 GB RAM)",
          "Motorola Edge 50 Pro 5G with 125W Charger (Moonlight Pearl, 256 GB)  (12 GB RAM)",
          "Motorola Edge 50 Pro 5G with 125W Charger (Moonlight Pearl, 256 GB)  (12 GB RAM)",
          "Motorola Edge 50 Pro 5G with 125W Charger (Moonlight Pearl, 256 GB)  (12 GB RAM)",
          "Motorola Edge 50 Pro 5G with 125W Charger (Moonlight Pearl, 256 GB)  (12 GB RAM)",
          "Motorola Edge 50 Pro 5G with 125W Charger (Moonlight Pearl, 256 GB)  (12 GB RAM)",
          "Motorola Edge 50 Pro 5G with 125W Charger (Moonlight Pearl, 256 GB)  (12 GB RAM)",
          "Motorola Edge 50 Pro 5G with 125W Charger (Moonlight Pearl, 256 GB)  (12 GB RAM)",
          "Motorola Edge 50 Pro 5G with 125W Charger (Moonlight Pearl, 256 GB)  (12 GB RAM)",
          "Motorola Edge 50 Pro 5G with 125W Charger (Moonlight Pearl, 256 GB)  (12 GB RAM)",
          "Motorola Edge 50 Pro 5G with 125W Charger (Moonlight Pearl, 256 GB)  (12 GB RAM)",
          "Motorola Edge 50 Pro 5G with 125W Charger (Moonlight Pearl, 256 GB)  (12 GB RAM)",
          "Motorola Edge 50 Pro 5G with 125W Charger (Moonlight Pearl, 256 GB)  (12 GB RAM)",
          "Motorola Edge 50 Pro 5G with 125W Charger (Moonlight Pearl, 256 GB)  (12 GB RAM)",
          "Motorola Edge 50 Pro 5G with 125W Charger (Moonlight Pearl, 256 GB)  (12 GB RAM)",
          "Motorola Edge 50 Pro 5G with 125W Charger (Moonlight Pearl, 256 GB)  (12 GB RAM)",
          "Motorola Edge 50 Pro 5G with 125W Charger (Moonlight Pearl, 256 GB)  (12 GB RAM)",
          "Motorola Edge 50 Pro 5G with 125W Charger (Moonlight Pearl, 256 GB)  (12 GB RAM)",
          "Motorola Edge 50 Pro 5G with 125W Charger (Moonlight Pearl, 256 GB)  (12 GB RAM)",
          "Motorola Edge 50 Pro 5G with 125W Charger (Moonlight Pearl, 256 GB)  (12 GB RAM)",
          "Motorola Edge 50 Pro 5G with 125W Charger (Moonlight Pearl, 256 GB)  (12 GB RAM)",
          "Motorola Edge 50 Pro 5G with 125W Charger (Moonlight Pearl, 256 GB)  (12 GB RAM)",
          "Motorola Edge 50 Pro 5G with 125W Charger (Moonlight Pearl, 256 GB)  (12 GB RAM)",
          "Motorola Edge 50 Pro 5G with 125W Charger (Moonlight Pearl, 256 GB)  (12 GB RAM)",
          "Motorola Edge 50 Pro 5G with 125W Charger (Moonlight Pearl, 256 GB)  (12 GB RAM)",
          "Motorola Edge 50 Pro 5G with 125W Charger (Moonlight Pearl, 256 GB)  (12 GB RAM)",
          "Motorola Edge 50 Pro 5G with 125W Charger (Moonlight Pearl, 256 GB)  (12 GB RAM)",
          "Motorola Edge 50 Pro 5G with 125W Charger (Moonlight Pearl, 256 GB)  (12 GB RAM)",
          "Motorola Edge 50 Pro 5G with 125W Charger (Moonlight Pearl, 256 GB)  (12 GB RAM)",
          "Motorola Edge 50 Pro 5G with 125W Charger (Moonlight Pearl, 256 GB)  (12 GB RAM)",
          "Motorola Edge 50 Pro 5G with 125W Charger (Moonlight Pearl, 256 GB)  (12 GB RAM)",
          "Motorola Edge 50 Pro 5G with 125W Charger (Moonlight Pearl, 256 GB)  (12 GB RAM)",
          "Motorola Edge 50 Pro 5G with 125W Charger (Moonlight Pearl, 256 GB)  (12 GB RAM)",
          "Motorola Edge 50 Pro 5G with 125W Charger (Moonlight Pearl, 256 GB)  (12 GB RAM)",
          "Motorola Edge 50 Pro 5G with 125W Charger (Moonlight Pearl, 256 GB)  (12 GB RAM)",
          "Motorola Edge 50 Pro 5G with 125W Charger (Moonlight Pearl, 256 GB)  (12 GB RAM)",
          "Motorola Edge 50 Pro 5G with 125W Charger (Moonlight Pearl, 256 GB)  (12 GB RAM)",
          "Motorola Edge 50 Pro 5G with 125W Charger (Moonlight Pearl, 256 GB)  (12 GB RAM)",
          "Motorola Edge 50 Pro 5G with 125W Charger (Moonlight Pearl, 256 GB)  (12 GB RAM)",
          "Motorola Edge 50 Pro 5G with 125W Charger (Moonlight Pearl, 256 GB)  (12 GB RAM)",
          "Motorola Edge 50 Pro 5G with 125W Charger (Moonlight Pearl, 256 GB)  (12 GB RAM)",
          "Motorola Edge 50 Pro 5G with 125W Charger (Moonlight Pearl, 256 GB)  (12 GB RAM)",
          "Motorola Edge 50 Pro 5G with 125W Charger (Moonlight Pearl, 256 GB)  (12 GB RAM)",
          "Motorola Edge 50 Pro 5G with 125W Charger (Moonlight Pearl, 256 GB)  (12 GB RAM)",
          "Motorola Edge 50 Pro 5G with 125W Charger (Moonlight Pearl, 256 GB)  (12 GB RAM)",
          "Motorola Edge 50 Pro 5G with 125W Charger (Moonlight Pearl, 256 GB)  (12 GB RAM)",
          "Motorola Edge 50 Pro 5G with 125W Charger (Moonlight Pearl, 256 GB)  (12 GB RAM)",
          "Motorola Edge 50 Pro 5G with 125W Charger (Moonlight Pearl, 256 GB)  (12 GB RAM)",
          "Motorola Edge 50 Pro 5G with 125W Charger (Moonlight Pearl, 256 GB)  (12 GB RAM)",
          "Motorola Edge 50 Pro 5G with 125W Charger (Moonlight Pearl, 256 GB)  (12 GB RAM)",
          "realme 12 Pro+ 5G (Explorer Red, 256 GB)  (12 GB RAM)",
          "realme 12 Pro+ 5G (Explorer Red, 256 GB)  (12 GB RAM)",
          "realme 12 Pro+ 5G (Explorer Red, 256 GB)  (12 GB RAM)",
          "realme 12 Pro+ 5G (Explorer Red, 256 GB)  (12 GB RAM)",
          "realme 12 Pro+ 5G (Explorer Red, 256 GB)  (12 GB RAM)",
          "realme 12 Pro+ 5G (Explorer Red, 256 GB)  (12 GB RAM)",
          "realme 12 Pro+ 5G (Explorer Red, 256 GB)  (12 GB RAM)",
          "realme 12 Pro+ 5G (Explorer Red, 256 GB)  (12 GB RAM)",
          "realme 12 Pro+ 5G (Explorer Red, 256 GB)  (12 GB RAM)",
          "realme 12 Pro+ 5G (Explorer Red, 256 GB)  (12 GB RAM)",
          "realme 12 Pro+ 5G (Explorer Red, 256 GB)  (12 GB RAM)",
          "realme 12 Pro+ 5G (Explorer Red, 256 GB)  (12 GB RAM)",
          "realme 12 Pro+ 5G (Explorer Red, 256 GB)  (12 GB RAM)",
          "realme 12 Pro+ 5G (Explorer Red, 256 GB)  (12 GB RAM)",
          "realme 12 Pro+ 5G (Explorer Red, 256 GB)  (12 GB RAM)",
          "realme 12 Pro+ 5G (Explorer Red, 256 GB)  (12 GB RAM)",
          "realme 12 Pro+ 5G (Explorer Red, 256 GB)  (12 GB RAM)",
          "realme 12 Pro+ 5G (Explorer Red, 256 GB)  (12 GB RAM)",
          "realme 12 Pro+ 5G (Explorer Red, 256 GB)  (12 GB RAM)",
          "realme 12 Pro+ 5G (Explorer Red, 256 GB)  (12 GB RAM)",
          "realme 12 Pro+ 5G (Explorer Red, 256 GB)  (12 GB RAM)",
          "realme 12 Pro+ 5G (Explorer Red, 256 GB)  (12 GB RAM)",
          "realme 12 Pro+ 5G (Explorer Red, 256 GB)  (12 GB RAM)",
          "realme 12 Pro+ 5G (Explorer Red, 256 GB)  (12 GB RAM)",
          "realme 12 Pro+ 5G (Explorer Red, 256 GB)  (12 GB RAM)",
          "realme 12 Pro+ 5G (Explorer Red, 256 GB)  (12 GB RAM)",
          "realme 12 Pro+ 5G (Explorer Red, 256 GB)  (12 GB RAM)",
          "realme 12 Pro+ 5G (Explorer Red, 256 GB)  (12 GB RAM)",
          "realme 12 Pro+ 5G (Explorer Red, 256 GB)  (12 GB RAM)",
          "realme 12 Pro+ 5G (Explorer Red, 256 GB)  (12 GB RAM)",
          "realme 12 Pro+ 5G (Explorer Red, 256 GB)  (12 GB RAM)",
          "realme 12 Pro+ 5G (Explorer Red, 256 GB)  (12 GB RAM)",
          "realme 12 Pro+ 5G (Explorer Red, 256 GB)  (12 GB RAM)",
          "realme 12 Pro+ 5G (Explorer Red, 256 GB)  (12 GB RAM)",
          "realme 12 Pro+ 5G (Explorer Red, 256 GB)  (12 GB RAM)",
          "realme 12 Pro+ 5G (Explorer Red, 256 GB)  (12 GB RAM)",
          "realme 12 Pro+ 5G (Explorer Red, 256 GB)  (12 GB RAM)",
          "realme 12 Pro+ 5G (Explorer Red, 256 GB)  (12 GB RAM)",
          "realme 12 Pro+ 5G (Explorer Red, 256 GB)  (12 GB RAM)",
          "realme 12 Pro+ 5G (Explorer Red, 256 GB)  (12 GB RAM)",
          "realme 12 Pro+ 5G (Explorer Red, 256 GB)  (12 GB RAM)",
          "realme 12 Pro+ 5G (Explorer Red, 256 GB)  (12 GB RAM)",
          "realme 12 Pro+ 5G (Explorer Red, 256 GB)  (12 GB RAM)",
          "realme 12 Pro+ 5G (Explorer Red, 256 GB)  (12 GB RAM)",
          "realme 12 Pro+ 5G (Explorer Red, 256 GB)  (12 GB RAM)",
          "realme 12 Pro+ 5G (Explorer Red, 256 GB)  (12 GB RAM)",
          "realme 12 Pro+ 5G (Explorer Red, 256 GB)  (12 GB RAM)",
          "realme 12 Pro+ 5G (Explorer Red, 256 GB)  (12 GB RAM)",
          "realme 12 Pro+ 5G (Explorer Red, 256 GB)  (12 GB RAM)",
          "realme 12 Pro+ 5G (Explorer Red, 256 GB)  (12 GB RAM)",
          "realme 12 Pro+ 5G (Explorer Red, 256 GB)  (12 GB RAM)",
          "realme 12 Pro+ 5G (Explorer Red, 256 GB)  (12 GB RAM)",
          "realme 12 Pro+ 5G (Explorer Red, 256 GB)  (12 GB RAM)",
          "realme 12 Pro+ 5G (Explorer Red, 256 GB)  (12 GB RAM)",
          "realme 12 Pro+ 5G (Explorer Red, 256 GB)  (12 GB RAM)",
          "realme 12 Pro+ 5G (Explorer Red, 256 GB)  (12 GB RAM)",
          "realme 12 Pro+ 5G (Explorer Red, 256 GB)  (12 GB RAM)",
          "realme 12 Pro+ 5G (Explorer Red, 256 GB)  (12 GB RAM)",
          "realme 12 Pro+ 5G (Explorer Red, 256 GB)  (12 GB RAM)",
          "realme 12 Pro+ 5G (Explorer Red, 256 GB)  (12 GB RAM)",
          "realme 12 Pro+ 5G (Explorer Red, 256 GB)  (12 GB RAM)",
          "realme 12 Pro+ 5G (Explorer Red, 256 GB)  (12 GB RAM)",
          "realme 12 Pro+ 5G (Explorer Red, 256 GB)  (12 GB RAM)",
          "realme 12 Pro+ 5G (Explorer Red, 256 GB)  (12 GB RAM)",
          "realme 12 Pro+ 5G (Explorer Red, 256 GB)  (12 GB RAM)",
          "realme 12 Pro+ 5G (Explorer Red, 256 GB)  (12 GB RAM)",
          "realme 12 Pro+ 5G (Explorer Red, 256 GB)  (12 GB RAM)",
          "realme 12 Pro+ 5G (Explorer Red, 256 GB)  (12 GB RAM)",
          "realme 12 Pro+ 5G (Explorer Red, 256 GB)  (12 GB RAM)",
          "realme 12 Pro+ 5G (Explorer Red, 256 GB)  (12 GB RAM)",
          "realme 12 Pro+ 5G (Explorer Red, 256 GB)  (12 GB RAM)",
          "realme 12 Pro+ 5G (Explorer Red, 256 GB)  (12 GB RAM)",
          "realme 12 Pro+ 5G (Explorer Red, 256 GB)  (12 GB RAM)",
          "realme 12 Pro+ 5G (Explorer Red, 256 GB)  (12 GB RAM)",
          "realme 12 Pro+ 5G (Explorer Red, 256 GB)  (12 GB RAM)",
          "realme 12 Pro+ 5G (Explorer Red, 256 GB)  (12 GB RAM)",
          "realme 12 Pro+ 5G (Explorer Red, 256 GB)  (12 GB RAM)",
          "realme 12 Pro+ 5G (Explorer Red, 256 GB)  (12 GB RAM)",
          "realme 12 Pro+ 5G (Explorer Red, 256 GB)  (12 GB RAM)",
          "realme 12 Pro+ 5G (Explorer Red, 256 GB)  (12 GB RAM)",
          "realme 12 Pro+ 5G (Explorer Red, 256 GB)  (12 GB RAM)",
          "realme 12 Pro+ 5G (Explorer Red, 256 GB)  (12 GB RAM)",
          "realme 12 Pro+ 5G (Explorer Red, 256 GB)  (12 GB RAM)",
          "realme 12 Pro+ 5G (Explorer Red, 256 GB)  (12 GB RAM)",
          "realme 12 Pro+ 5G (Explorer Red, 256 GB)  (12 GB RAM)",
          "realme 12 Pro+ 5G (Explorer Red, 256 GB)  (12 GB RAM)",
          "realme 12 Pro+ 5G (Explorer Red, 256 GB)  (12 GB RAM)",
          "Apple iPhone 12 (Blue, 128 GB)",
          "Apple iPhone 12 (Blue, 128 GB)",
          "Apple iPhone 12 (Blue, 128 GB)",
          "Apple iPhone 12 (Blue, 128 GB)",
          "Apple iPhone 12 (Blue, 128 GB)",
          "Apple iPhone 12 (Blue, 128 GB)",
          "Apple iPhone 12 (Blue, 128 GB)",
          "Apple iPhone 12 (Blue, 128 GB)",
          "Apple iPhone 12 (Blue, 128 GB)",
          "Apple iPhone 12 (Blue, 128 GB)",
          "Apple iPhone 12 (Blue, 128 GB)",
          "Apple iPhone 12 (Blue, 128 GB)",
          "Apple iPhone 12 (Blue, 128 GB)",
          "Apple iPhone 12 (Blue, 128 GB)",
          "Apple iPhone 12 (Blue, 128 GB)",
          "Apple iPhone 12 (Blue, 128 GB)",
          "Apple iPhone 12 (Blue, 128 GB)",
          "Apple iPhone 12 (Blue, 128 GB)",
          "Apple iPhone 12 (Blue, 128 GB)",
          "Apple iPhone 12 (Blue, 128 GB)",
          "Apple iPhone 12 (Blue, 128 GB)",
          "Apple iPhone 12 (Blue, 128 GB)",
          "Apple iPhone 12 (Blue, 128 GB)",
          "Apple iPhone 12 (Blue, 128 GB)",
          "Apple iPhone 12 (Blue, 128 GB)",
          "Apple iPhone 12 (Blue, 128 GB)",
          "Apple iPhone 12 (Blue, 128 GB)",
          "Apple iPhone 12 (Blue, 128 GB)",
          "Apple iPhone 12 (Blue, 128 GB)",
          "Apple iPhone 12 (Blue, 128 GB)",
          "Apple iPhone 12 (Blue, 128 GB)",
          "Apple iPhone 12 (Blue, 128 GB)",
          "Apple iPhone 12 (Blue, 128 GB)",
          "Apple iPhone 12 (Blue, 128 GB)",
          "Apple iPhone 12 (Blue, 128 GB)",
          "Apple iPhone 12 (Blue, 128 GB)",
          "Apple iPhone 12 (Blue, 128 GB)",
          "Apple iPhone 12 (Blue, 128 GB)",
          "Apple iPhone 12 (Blue, 128 GB)",
          "Apple iPhone 12 (Blue, 128 GB)",
          "Apple iPhone 12 (Blue, 128 GB)",
          "Apple iPhone 12 (Blue, 128 GB)",
          "Apple iPhone 12 (Blue, 128 GB)",
          "Apple iPhone 12 (Blue, 128 GB)",
          "Apple iPhone 12 (Blue, 128 GB)",
          "Apple iPhone 12 (Blue, 128 GB)",
          "Apple iPhone 12 (Blue, 128 GB)",
          "Apple iPhone 12 (Blue, 128 GB)",
          "Apple iPhone 12 (Blue, 128 GB)",
          "Apple iPhone 12 (Blue, 128 GB)",
          "Apple iPhone 12 (Blue, 128 GB)",
          "Apple iPhone 12 (Blue, 128 GB)",
          "Apple iPhone 12 (Blue, 128 GB)",
          "Apple iPhone 12 (Blue, 128 GB)",
          "Apple iPhone 12 (Blue, 128 GB)",
          "Apple iPhone 12 (Blue, 128 GB)",
          "Apple iPhone 12 (Blue, 128 GB)",
          "Apple iPhone 12 (Blue, 128 GB)",
          "Apple iPhone 12 (Blue, 128 GB)",
          "Apple iPhone 12 (Blue, 128 GB)",
          "Apple iPhone 12 (Blue, 128 GB)",
          "Apple iPhone 12 (Blue, 128 GB)",
          "Apple iPhone 12 (Blue, 128 GB)",
          "Apple iPhone 12 (Blue, 128 GB)",
          "Apple iPhone 12 (Blue, 128 GB)",
          "Apple iPhone 12 (Blue, 128 GB)",
          "Apple iPhone 12 (Blue, 128 GB)",
          "Apple iPhone 12 (Blue, 128 GB)",
          "Apple iPhone 12 (Blue, 128 GB)",
          "Apple iPhone 12 (Blue, 128 GB)",
          "Apple iPhone 12 (Blue, 128 GB)",
          "Apple iPhone 12 (Blue, 128 GB)",
          "Apple iPhone 12 (Blue, 128 GB)",
          "Apple iPhone 12 (Blue, 128 GB)",
          "Apple iPhone 12 (Blue, 128 GB)",
          "Apple iPhone 12 (Blue, 128 GB)",
          "Apple iPhone 12 (Blue, 128 GB)",
          "Apple iPhone 12 (Blue, 128 GB)",
          "Apple iPhone 12 (Blue, 128 GB)",
          "Apple iPhone 12 (Blue, 128 GB)",
          "Apple iPhone 12 (Blue, 128 GB)",
          "Apple iPhone 12 (Blue, 128 GB)",
          "Apple iPhone 12 (Blue, 128 GB)",
          "Apple iPhone 12 (Blue, 128 GB)",
          "Apple iPhone 12 (Blue, 128 GB)",
          "Apple iPhone 12 (Blue, 128 GB)",
          "Apple iPhone 12 (Blue, 128 GB)",
          "Apple iPhone 12 (Blue, 128 GB)",
          "Apple iPhone 12 (Blue, 128 GB)",
          "Apple iPhone 12 (Blue, 128 GB)",
          "Apple iPhone 12 (Blue, 128 GB)",
          "Apple iPhone 12 (Blue, 128 GB)",
          "Apple iPhone 12 (Blue, 128 GB)",
          "Apple iPhone 12 (Blue, 128 GB)",
          "Apple iPhone 12 (Blue, 128 GB)",
          "Apple iPhone 12 (Blue, 128 GB)",
          "Apple iPhone 12 (Blue, 128 GB)",
          "Apple iPhone 12 (Blue, 128 GB)",
          "Apple iPhone 12 (Blue, 128 GB)",
          "Apple iPhone 12 (Blue, 128 GB)",
          "Apple iPhone 12 (Blue, 128 GB)",
          "Apple iPhone 12 (Blue, 128 GB)",
          "Apple iPhone 12 (Blue, 128 GB)",
          "Apple iPhone 12 (Blue, 128 GB)",
          "Apple iPhone 12 (Blue, 128 GB)",
          "Apple iPhone 12 (Blue, 128 GB)",
          "Apple iPhone 12 (Blue, 128 GB)",
          "Apple iPhone 12 (Blue, 128 GB)",
          "Apple iPhone 12 (Blue, 128 GB)",
          "Apple iPhone 12 (Blue, 128 GB)",
          "Apple iPhone 12 (Blue, 128 GB)",
          "Apple iPhone 12 (Blue, 128 GB)",
          "Apple iPhone 12 (Blue, 128 GB)",
          "Apple iPhone 12 (Blue, 128 GB)",
          "Apple iPhone 12 (Blue, 128 GB)",
          "Apple iPhone 12 (Blue, 128 GB)",
          "Apple iPhone 12 (Blue, 128 GB)",
          "Apple iPhone 12 (Blue, 128 GB)",
          "Apple iPhone 12 (Blue, 128 GB)",
          "Apple iPhone 12 (Blue, 128 GB)",
          "Apple iPhone 12 (Blue, 128 GB)",
          "Apple iPhone 12 (Blue, 128 GB)",
          "Apple iPhone 12 (Blue, 128 GB)",
          "Apple iPhone 12 (Blue, 128 GB)",
          "Apple iPhone 12 (Blue, 128 GB)",
          "Apple iPhone 12 (Blue, 128 GB)",
          "Apple iPhone 12 (Blue, 128 GB)",
          "Apple iPhone 12 (Blue, 128 GB)",
          "Apple iPhone 12 (Blue, 128 GB)",
          "Apple iPhone 12 (Blue, 128 GB)",
          "Apple iPhone 12 (Blue, 128 GB)",
          "Apple iPhone 12 (Blue, 128 GB)",
          "Apple iPhone 12 (Blue, 128 GB)",
          "Apple iPhone 12 (Blue, 128 GB)",
          "Apple iPhone 12 (Blue, 128 GB)",
          "Apple iPhone 12 (Blue, 128 GB)",
          "Apple iPhone 12 (Blue, 128 GB)",
          "Apple iPhone 12 (Blue, 128 GB)",
          "Apple iPhone 12 (Blue, 128 GB)",
          "Apple iPhone 12 (Blue, 128 GB)",
          "Apple iPhone 12 (Blue, 128 GB)",
          "Apple iPhone 12 (Blue, 128 GB)",
          "Apple iPhone 12 (Blue, 128 GB)",
          "Apple iPhone 12 (Blue, 128 GB)",
          "Apple iPhone 12 (Blue, 128 GB)",
          "Apple iPhone 12 (Blue, 128 GB)",
          "Apple iPhone 12 (Blue, 128 GB)",
          "Apple iPhone 12 (Blue, 128 GB)",
          "Apple iPhone 12 (Blue, 128 GB)",
          "Apple iPhone 12 (Blue, 128 GB)",
          "Apple iPhone 12 (Blue, 128 GB)",
          "Apple iPhone 12 (Blue, 128 GB)",
          "Apple iPhone 12 (Blue, 128 GB)",
          "Apple iPhone 12 (Blue, 128 GB)",
          "Apple iPhone 12 (Blue, 128 GB)",
          "Apple iPhone 12 (Blue, 128 GB)",
          "Apple iPhone 12 (Blue, 128 GB)",
          "Apple iPhone 12 (Blue, 128 GB)",
          "Apple iPhone 12 (Blue, 128 GB)",
          "Apple iPhone 12 (Blue, 128 GB)",
          "Apple iPhone 12 (Blue, 128 GB)",
          "Apple iPhone 12 (Blue, 128 GB)",
          "Apple iPhone 12 (Blue, 128 GB)",
          "Apple iPhone 12 (Blue, 128 GB)",
          "Apple iPhone 12 (Blue, 128 GB)",
          "Apple iPhone 12 (Blue, 128 GB)",
          "Apple iPhone 12 (Blue, 128 GB)",
          "Apple iPhone 12 (Blue, 128 GB)",
          "Apple iPhone 12 (Blue, 128 GB)",
          "Apple iPhone 12 (Blue, 128 GB)",
          "Apple iPhone 12 (Blue, 128 GB)",
          "Apple iPhone 12 (Blue, 128 GB)",
          "OnePlus Nord 3 5G (Tempest Gray, 128 GB)  (8 GB RAM)",
          "OnePlus Nord 3 5G (Tempest Gray, 128 GB)  (8 GB RAM)",
          "OnePlus Nord 3 5G (Tempest Gray, 128 GB)  (8 GB RAM)",
          "OnePlus Nord 3 5G (Tempest Gray, 128 GB)  (8 GB RAM)",
          "OnePlus Nord 3 5G (Tempest Gray, 128 GB)  (8 GB RAM)",
          "OnePlus Nord 3 5G (Tempest Gray, 128 GB)  (8 GB RAM)",
          "OnePlus Nord 3 5G (Tempest Gray, 128 GB)  (8 GB RAM)",
          "OnePlus Nord 3 5G (Tempest Gray, 128 GB)  (8 GB RAM)",
          "OnePlus Nord 3 5G (Tempest Gray, 128 GB)  (8 GB RAM)",
          "OnePlus Nord 3 5G (Tempest Gray, 128 GB)  (8 GB RAM)",
          "OnePlus Nord 3 5G (Tempest Gray, 128 GB)  (8 GB RAM)",
          "OnePlus Nord 3 5G (Tempest Gray, 128 GB)  (8 GB RAM)",
          "OnePlus Nord 3 5G (Tempest Gray, 128 GB)  (8 GB RAM)",
          "OnePlus Nord 3 5G (Tempest Gray, 128 GB)  (8 GB RAM)",
          "OnePlus Nord 3 5G (Tempest Gray, 128 GB)  (8 GB RAM)",
          "OnePlus Nord 3 5G (Tempest Gray, 128 GB)  (8 GB RAM)",
          "OnePlus Nord 3 5G (Tempest Gray, 128 GB)  (8 GB RAM)",
          "OnePlus Nord 3 5G (Tempest Gray, 128 GB)  (8 GB RAM)",
          "OnePlus Nord 3 5G (Tempest Gray, 128 GB)  (8 GB RAM)",
          "OnePlus Nord 3 5G (Tempest Gray, 128 GB)  (8 GB RAM)",
          "OnePlus Nord 3 5G (Tempest Gray, 128 GB)  (8 GB RAM)",
          "OnePlus Nord 3 5G (Tempest Gray, 128 GB)  (8 GB RAM)",
          "OnePlus Nord 3 5G (Tempest Gray, 128 GB)  (8 GB RAM)",
          "OnePlus Nord 3 5G (Tempest Gray, 128 GB)  (8 GB RAM)",
          "OnePlus Nord 3 5G (Tempest Gray, 128 GB)  (8 GB RAM)",
          "OnePlus Nord 3 5G (Tempest Gray, 128 GB)  (8 GB RAM)",
          "OnePlus Nord 3 5G (Tempest Gray, 128 GB)  (8 GB RAM)",
          "OnePlus Nord 3 5G (Tempest Gray, 128 GB)  (8 GB RAM)",
          "OnePlus Nord 3 5G (Tempest Gray, 128 GB)  (8 GB RAM)",
          "OnePlus Nord 3 5G (Tempest Gray, 128 GB)  (8 GB RAM)",
          "OnePlus Nord 3 5G (Tempest Gray, 128 GB)  (8 GB RAM)",
          "OnePlus Nord 3 5G (Tempest Gray, 128 GB)  (8 GB RAM)",
          "OnePlus Nord 3 5G (Tempest Gray, 128 GB)  (8 GB RAM)",
          "OnePlus Nord 3 5G (Tempest Gray, 128 GB)  (8 GB RAM)",
          "OnePlus Nord 3 5G (Tempest Gray, 128 GB)  (8 GB RAM)",
          "OnePlus Nord 3 5G (Tempest Gray, 128 GB)  (8 GB RAM)",
          "OnePlus Nord 3 5G (Tempest Gray, 128 GB)  (8 GB RAM)",
          "OnePlus Nord 3 5G (Tempest Gray, 128 GB)  (8 GB RAM)",
          "OnePlus Nord 3 5G (Tempest Gray, 128 GB)  (8 GB RAM)",
          "OnePlus Nord 3 5G (Tempest Gray, 128 GB)  (8 GB RAM)",
          "OnePlus Nord 3 5G (Tempest Gray, 128 GB)  (8 GB RAM)",
          "OnePlus Nord 3 5G (Tempest Gray, 128 GB)  (8 GB RAM)",
          "OnePlus Nord 3 5G (Tempest Gray, 128 GB)  (8 GB RAM)",
          "OnePlus Nord 3 5G (Tempest Gray, 128 GB)  (8 GB RAM)",
          "OnePlus Nord 3 5G (Tempest Gray, 128 GB)  (8 GB RAM)",
          "OnePlus Nord 3 5G (Tempest Gray, 128 GB)  (8 GB RAM)",
          "OnePlus Nord 3 5G (Tempest Gray, 128 GB)  (8 GB RAM)",
          "OnePlus Nord 3 5G (Tempest Gray, 128 GB)  (8 GB RAM)",
          "OnePlus Nord 3 5G (Tempest Gray, 128 GB)  (8 GB RAM)",
          "OnePlus Nord 3 5G (Tempest Gray, 128 GB)  (8 GB RAM)",
          "OnePlus Nord 3 5G (Tempest Gray, 128 GB)  (8 GB RAM)",
          "OnePlus Nord 3 5G (Tempest Gray, 128 GB)  (8 GB RAM)",
          "OnePlus Nord 3 5G (Tempest Gray, 128 GB)  (8 GB RAM)",
          "OnePlus Nord 3 5G (Tempest Gray, 128 GB)  (8 GB RAM)",
          "OnePlus Nord 3 5G (Tempest Gray, 128 GB)  (8 GB RAM)",
          "OnePlus Nord 3 5G (Tempest Gray, 128 GB)  (8 GB RAM)",
          "OnePlus Nord 3 5G (Tempest Gray, 128 GB)  (8 GB RAM)",
          "OnePlus Nord 3 5G (Tempest Gray, 128 GB)  (8 GB RAM)",
          "OnePlus Nord 3 5G (Tempest Gray, 128 GB)  (8 GB RAM)",
          "OnePlus Nord 3 5G (Tempest Gray, 128 GB)  (8 GB RAM)",
          "OnePlus Nord 3 5G (Tempest Gray, 128 GB)  (8 GB RAM)",
          "OnePlus Nord 3 5G (Tempest Gray, 128 GB)  (8 GB RAM)",
          "OnePlus Nord 3 5G (Tempest Gray, 128 GB)  (8 GB RAM)",
          "OnePlus Nord 3 5G (Tempest Gray, 128 GB)  (8 GB RAM)",
          "OnePlus Nord 3 5G (Tempest Gray, 128 GB)  (8 GB RAM)",
          "OnePlus Nord 3 5G (Tempest Gray, 128 GB)  (8 GB RAM)",
          "OnePlus Nord 3 5G (Tempest Gray, 128 GB)  (8 GB RAM)",
          "OnePlus Nord 3 5G (Tempest Gray, 128 GB)  (8 GB RAM)",
          "OnePlus Nord 3 5G (Tempest Gray, 128 GB)  (8 GB RAM)",
          "OnePlus Nord 3 5G (Tempest Gray, 128 GB)  (8 GB RAM)",
          "OnePlus Nord 3 5G (Tempest Gray, 128 GB)  (8 GB RAM)",
          "OnePlus Nord 3 5G (Tempest Gray, 128 GB)  (8 GB RAM)",
          "OnePlus Nord 3 5G (Tempest Gray, 128 GB)  (8 GB RAM)",
          "OnePlus Nord 3 5G (Tempest Gray, 128 GB)  (8 GB RAM)",
          "OnePlus Nord 3 5G (Tempest Gray, 128 GB)  (8 GB RAM)",
          "OnePlus Nord 3 5G (Tempest Gray, 128 GB)  (8 GB RAM)",
          "OnePlus Nord 3 5G (Tempest Gray, 128 GB)  (8 GB RAM)",
          "OnePlus Nord 3 5G (Tempest Gray, 128 GB)  (8 GB RAM)",
          "OnePlus Nord 3 5G (Tempest Gray, 128 GB)  (8 GB RAM)",
          "OnePlus Nord 3 5G (Tempest Gray, 128 GB)  (8 GB RAM)",
          "OnePlus Nord 3 5G (Tempest Gray, 128 GB)  (8 GB RAM)",
          "OnePlus Nord 3 5G (Tempest Gray, 128 GB)  (8 GB RAM)",
          "OnePlus Nord 3 5G (Tempest Gray, 128 GB)  (8 GB RAM)",
          "OnePlus Nord 3 5G (Tempest Gray, 128 GB)  (8 GB RAM)",
          "OnePlus Nord 3 5G (Tempest Gray, 128 GB)  (8 GB RAM)",
          "OnePlus Nord 3 5G (Tempest Gray, 128 GB)  (8 GB RAM)",
          "OnePlus Nord 3 5G (Tempest Gray, 128 GB)  (8 GB RAM)",
          "OnePlus Nord 3 5G (Tempest Gray, 128 GB)  (8 GB RAM)",
          "OnePlus Nord 3 5G (Tempest Gray, 128 GB)  (8 GB RAM)",
          "OnePlus Nord 3 5G (Tempest Gray, 128 GB)  (8 GB RAM)",
          "OnePlus Nord 3 5G (Tempest Gray, 128 GB)  (8 GB RAM)",
          "OnePlus Nord 3 5G (Tempest Gray, 128 GB)  (8 GB RAM)",
          "OnePlus Nord 3 5G (Tempest Gray, 128 GB)  (8 GB RAM)",
          "OnePlus Nord 3 5G (Tempest Gray, 128 GB)  (8 GB RAM)",
          "OnePlus Nord 3 5G (Tempest Gray, 128 GB)  (8 GB RAM)",
          "OnePlus Nord 3 5G (Tempest Gray, 128 GB)  (8 GB RAM)",
          "OnePlus Nord 3 5G (Tempest Gray, 128 GB)  (8 GB RAM)",
          "OnePlus Nord 3 5G (Tempest Gray, 128 GB)  (8 GB RAM)",
          "OnePlus Nord 3 5G (Tempest Gray, 128 GB)  (8 GB RAM)",
          "OnePlus Nord 3 5G (Tempest Gray, 128 GB)  (8 GB RAM)",
          "OnePlus Nord 3 5G (Tempest Gray, 128 GB)  (8 GB RAM)",
          "OnePlus Nord 3 5G (Tempest Gray, 128 GB)  (8 GB RAM)",
          "OnePlus Nord 3 5G (Tempest Gray, 128 GB)  (8 GB RAM)"
         ],
         "xaxis": "x",
         "y": [
          0.03125,
          0.6000000000000001,
          0.2125,
          1,
          1,
          0.4170454545454545,
          0.8333333333333334,
          0.3171428571428571,
          0.5,
          0.3357142857142857,
          0.75,
          0.6,
          0.3333333333333333,
          0.2799999999999999,
          0.3166666666666666,
          0.28125,
          0.321875,
          0.065530303030303,
          0.0958333333333333,
          0.1999999999999999,
          0.85,
          0.1569444444444444,
          0.0518518518518518,
          0.35375,
          0.4589285714285714,
          0.64,
          0.7,
          0.35,
          0.095,
          1,
          0.535,
          0.2,
          0.7333333333333334,
          0.3225,
          0.5666666666666667,
          0.5166666666666666,
          0.36,
          0.4499999999999999,
          0.3430555555555556,
          0.8574999999999999,
          1,
          0.7,
          0.91,
          0.8,
          1,
          0.5333333333333333,
          0.45,
          0.6,
          0.3366666666666666,
          0.1333333333333333,
          1,
          0.3333333333333333,
          0.52,
          0.3349999999999999,
          0.6,
          0.49375,
          0.2183333333333333,
          0.4499999999999999,
          0.1029220779220779,
          0.2341499409681228,
          0.4,
          0.6666666666666666,
          0.6,
          0.2666666666666666,
          0.3733333333333333,
          0.4083333333333333,
          0.3808333333333333,
          0.1666666666666666,
          0.128125,
          0.75,
          0.1463541666666666,
          0.4,
          0.3739999999999999,
          0.2993055555555555,
          0.6000000000000001,
          0.4549999999999999,
          0.4215277777777778,
          0.4,
          0.1,
          0.5366666666666666,
          0.2333333333333333,
          1,
          0.7,
          0.2666666666666666,
          1,
          0.0372916666666667,
          0.7,
          1,
          0.4499999999999999,
          0.09,
          0.164,
          0.7,
          0.89,
          0.0518518518518518,
          0.065530303030303,
          0.91,
          0.43,
          0.8266666666666667,
          0.2733333333333333,
          0.3298397435897436,
          0.2142857142857142,
          0.91,
          0.2583333333333333,
          0.7,
          0.5,
          0.3999999999999999,
          0.2008333333333333,
          0.2197596656217346,
          0.5253070175438597,
          0.2957142857142857,
          0.1981770833333333,
          0.78,
          0.6000000000000001,
          0.3690624999999999,
          0.3179166666666666,
          0.4166666666666666,
          0.7,
          0.0888888888888888,
          0.1649999999999999,
          0.3625,
          0.0249999999999999,
          0.1499999999999999,
          1,
          0.4499999999999999,
          0.3333333333333333,
          0.3716666666666667,
          0.6,
          0.4666666666666666,
          0.0937499999999999,
          0.85,
          0.5583333333333333,
          0.925,
          0.4,
          0.5,
          0.9333333333333332,
          0.91,
          0.3027777777777777,
          0.305,
          0.259090909090909,
          0.2,
          0.21875,
          0.0833333333333333,
          0.22125,
          0.7,
          0.2166666666666666,
          0.75,
          0.475,
          0.65,
          0.3145833333333333,
          0.3833333333333333,
          0.7,
          0.2875,
          0.63,
          0.05,
          0.8,
          0.2,
          0.35,
          0.6000000000000001,
          0.425,
          0.8,
          0.2312121212121212,
          0.55,
          0.74,
          0.7,
          0.3333333333333333,
          0.125,
          0.5,
          0.4222222222222222,
          0.2333333333333333,
          0.5083333333333333,
          0.7,
          0.3533333333333333,
          0.6666666666666666,
          0.6000000000000001,
          0.6,
          0.211,
          0.7,
          0.65,
          0.91,
          0.845,
          0.91,
          0.2513095238095238,
          0.4499999999999999,
          0.2111458333333333,
          0.78,
          0.7,
          0.4555555555555555,
          1,
          0.4166666666666667,
          1,
          0.4291666666666667,
          0.4109788359788359,
          0.3,
          0.2799999999999999,
          0.5492063492063493,
          0.3333333333333333,
          0.7333333333333334,
          0.6785714285714286,
          0.51875,
          0.5833333333333333,
          1,
          0.5,
          0.354,
          0.85,
          0.6,
          0.6000000000000001,
          0.5133333333333333,
          0.715,
          0.7,
          0.1222222222222221,
          0.4499999999999999,
          0.3199999999999999,
          0.7666666666666666,
          0.91,
          0.1653124999999999,
          1,
          0.26,
          0.5,
          0.2866666666666667,
          0.5292727272727272,
          1,
          0.9,
          0.7,
          0.7,
          0.55,
          0.7,
          0.91,
          1,
          0.4,
          0.6,
          0.6,
          0.3,
          0.2408333333333333,
          0.025,
          1,
          0.3742857142857143,
          0.2625,
          0.3580952380952381,
          0.3333333333333333,
          1,
          0.75,
          0.5599999999999999,
          0.2,
          0.6,
          0.23375,
          0.4,
          0.4115740740740741,
          0.475,
          0.35,
          0.7,
          0.475,
          0.4166666666666666,
          0.3,
          0.8400000000000001,
          0.6,
          0.7,
          1,
          0.6,
          0.87,
          0.6,
          0.4775,
          1,
          0.1954166666666666,
          0.6499999999999999,
          0.6000000000000001,
          0.7,
          0.6,
          0.5,
          1,
          0.1333333333333333,
          0.6466666666666667,
          0.55,
          0.6175,
          1,
          1,
          0.8,
          0.3333333333333333,
          0.54,
          0.6499999999999999,
          0.6,
          1,
          0.5,
          0.1666666666666666,
          0.6749999999999999,
          0.5,
          0.5,
          1,
          1,
          0.6,
          0.5,
          0.6333333333333333,
          0.85,
          0.9,
          0.7100000000000001,
          0.75,
          0.6,
          0.54,
          0.525,
          0.5,
          0.7,
          0.6333333333333333,
          1,
          1,
          0.3536111111111111,
          0.8,
          0.8,
          1,
          0.5,
          0.4833333333333333,
          0.6,
          1,
          0.78,
          0.1,
          0.5166666666666666,
          0.2561507936507937,
          0.3833333333333333,
          0.34,
          0.7,
          0.5,
          1,
          0.77,
          0.8333333333333334,
          0.4092592592592592,
          0.3333333333333333,
          0.3633333333333333,
          0.6000000000000001,
          0.91,
          0.525,
          0.7,
          0.91,
          0.4833333333333333,
          0.85,
          0.2992592592592593,
          0.7,
          0.4121428571428572,
          0.3917857142857143,
          0.5774999999999999,
          0.2288888888888888,
          0.5,
          0.75,
          1,
          0.33875,
          0.9,
          0.3757575757575758,
          0.6,
          0.3944444444444445,
          0.18,
          0.4589999999999999,
          0.4071428571428572,
          0.3444444444444444,
          0.4051282051282051,
          0.2528571428571429,
          0.2808080808080808,
          0.425,
          0.5142857142857143,
          1,
          0.5549999999999999,
          0.4777777777777777,
          0.2291666666666666,
          0.2842592592592592,
          0.4771978021978022,
          0.3549107142857143,
          0.3333333333333333,
          0.4666666666666666,
          0.7999999999999999,
          0.4083333333333332,
          1,
          0.575,
          0.4366666666666666,
          0.6333333333333334,
          0.77,
          0.85,
          1,
          0.5,
          0.6749999999999999,
          0.0633333333333333,
          0.32,
          0.4666666666666667,
          0.4071428571428572,
          0.328125,
          0.5,
          0.7,
          0.261111111111111,
          0.7,
          0.1954545454545454,
          0.75,
          1,
          1,
          0.3444444444444444,
          0.35,
          0.434375,
          0.7,
          0.4,
          0.375,
          0.4092592592592592,
          0.2605555555555556,
          1,
          0.65,
          0.3874999999999999,
          1,
          0.6000000000000001,
          0.192,
          1,
          0.9,
          0.5833333333333334,
          1,
          0.2285714285714286,
          0.3333333333333333,
          0.2493749999999999,
          0.2854166666666666,
          0.7,
          0.5,
          0.3,
          0.515,
          0.7,
          0.6022222222222222,
          0.6,
          0.5111111111111111,
          1,
          0.524375,
          0.6,
          0.8666666666666667,
          0.855,
          1,
          0.375,
          1,
          0.6766666666666667,
          0.3008333333333333,
          0.1839285714285714,
          0.3642857142857144,
          0.3375,
          0.0125,
          1,
          1,
          1,
          0.3916666666666666,
          0.0400252525252525,
          0.6,
          0.4972727272727272,
          0.6666666666666666,
          0.519047619047619,
          0.2,
          0.1881410256410256,
          0.7,
          0.8,
          0.3333333333333333,
          0.91,
          0.6,
          0.7,
          0.91,
          0.6,
          1,
          0.7,
          0.175,
          0.5,
          0.1,
          0.4166666666666667,
          0.3043333333333334,
          0.7,
          0.6,
          0.7,
          0.2168749999999999,
          0.1166666666666666,
          0.35,
          0.2574999999999999,
          1,
          0.89,
          0.2833333333333333,
          0.3333333333333333,
          0.6066666666666667,
          0.1749999999999999,
          0.7,
          0.6,
          0.91,
          0.2525,
          0.4,
          0.3,
          0.91,
          0.6333333333333333,
          0.6,
          0.25,
          0.1981060606060605,
          0.3107142857142857,
          0.91,
          0.78,
          0.7,
          0.4322222222222223,
          0.282,
          0.75,
          0.0709523809523809,
          0.7,
          0.4600000000000001,
          1,
          0.7,
          0.36,
          0.3,
          0.7,
          1,
          0.2799999999999999,
          0.575,
          0.3716666666666667,
          0.1687499999999999,
          0.3,
          0.6,
          0.55,
          0.2,
          1,
          1,
          0.0214285714285714,
          0.0124999999999999,
          1,
          0.6000000000000001,
          0.2472222222222222,
          0.6,
          0.4933333333333332,
          0.5366666666666666,
          0.7,
          0.2925,
          0.71,
          0.7,
          0.8,
          0.315,
          0.35,
          0.35,
          0.91,
          0.4,
          0.7,
          0.325,
          0.3757222222222222,
          0.1825,
          0.6,
          0.7,
          0.7,
          0.6000000000000001,
          0.7066666666666667,
          0.47,
          0.46875,
          0.85,
          0.45,
          0.6499999999999999,
          1,
          0.26,
          0.6,
          0.6
         ],
         "yaxis": "y"
        },
        {
         "hovertemplate": "<b>%{hovertext}</b><br><br>Sentiment=Neutral<br>Product Name=%{x}<br>Sentiment_Score=%{y}<br>Rating Stars =%{marker.size}<extra></extra>",
         "hovertext": [
          "SAMSUNG Galaxy S23 FE (Graphite, 128 GB)  (8 GB RAM)",
          "SAMSUNG Galaxy S23 FE (Graphite, 128 GB)  (8 GB RAM)",
          "SAMSUNG Galaxy S23 FE (Graphite, 128 GB)  (8 GB RAM)",
          "SAMSUNG Galaxy S23 FE (Graphite, 128 GB)  (8 GB RAM)",
          "SAMSUNG Galaxy S23 FE (Graphite, 128 GB)  (8 GB RAM)",
          "SAMSUNG Galaxy S23 FE (Graphite, 128 GB)  (8 GB RAM)",
          "Motorola Edge 50 Pro 5G with 125W Charger (Moonlight Pearl, 256 GB)  (12 GB RAM)",
          "Motorola Edge 50 Pro 5G with 125W Charger (Moonlight Pearl, 256 GB)  (12 GB RAM)",
          "Motorola Edge 50 Pro 5G with 125W Charger (Moonlight Pearl, 256 GB)  (12 GB RAM)",
          "Motorola Edge 50 Pro 5G with 125W Charger (Moonlight Pearl, 256 GB)  (12 GB RAM)",
          "realme 12 Pro+ 5G (Explorer Red, 256 GB)  (12 GB RAM)",
          "realme 12 Pro+ 5G (Explorer Red, 256 GB)  (12 GB RAM)",
          "realme 12 Pro+ 5G (Explorer Red, 256 GB)  (12 GB RAM)",
          "realme 12 Pro+ 5G (Explorer Red, 256 GB)  (12 GB RAM)",
          "realme 12 Pro+ 5G (Explorer Red, 256 GB)  (12 GB RAM)",
          "realme 12 Pro+ 5G (Explorer Red, 256 GB)  (12 GB RAM)",
          "realme 12 Pro+ 5G (Explorer Red, 256 GB)  (12 GB RAM)",
          "realme 12 Pro+ 5G (Explorer Red, 256 GB)  (12 GB RAM)",
          "realme 12 Pro+ 5G (Explorer Red, 256 GB)  (12 GB RAM)",
          "Apple iPhone 12 (Blue, 128 GB)",
          "Apple iPhone 12 (Blue, 128 GB)",
          "Apple iPhone 12 (Blue, 128 GB)",
          "Apple iPhone 12 (Blue, 128 GB)",
          "Apple iPhone 12 (Blue, 128 GB)",
          "Apple iPhone 12 (Blue, 128 GB)",
          "Apple iPhone 12 (Blue, 128 GB)",
          "OnePlus Nord 3 5G (Tempest Gray, 128 GB)  (8 GB RAM)",
          "OnePlus Nord 3 5G (Tempest Gray, 128 GB)  (8 GB RAM)",
          "OnePlus Nord 3 5G (Tempest Gray, 128 GB)  (8 GB RAM)",
          "OnePlus Nord 3 5G (Tempest Gray, 128 GB)  (8 GB RAM)",
          "OnePlus Nord 3 5G (Tempest Gray, 128 GB)  (8 GB RAM)",
          "OnePlus Nord 3 5G (Tempest Gray, 128 GB)  (8 GB RAM)",
          "OnePlus Nord 3 5G (Tempest Gray, 128 GB)  (8 GB RAM)"
         ],
         "legendgroup": "Neutral",
         "marker": {
          "color": "#EF553B",
          "size": [
           4,
           5,
           5,
           4,
           4,
           4,
           5,
           5,
           4,
           4,
           5,
           5,
           5,
           4,
           5,
           4,
           4,
           5,
           5,
           5,
           5,
           5,
           5,
           4,
           5,
           5,
           5,
           5,
           5,
           5,
           4,
           5,
           3
          ],
          "sizemode": "area",
          "sizeref": 0.005555555555555556,
          "symbol": "circle"
         },
         "mode": "markers",
         "name": "Neutral",
         "orientation": "v",
         "showlegend": true,
         "type": "scatter",
         "x": [
          "SAMSUNG Galaxy S23 FE (Graphite, 128 GB)  (8 GB RAM)",
          "SAMSUNG Galaxy S23 FE (Graphite, 128 GB)  (8 GB RAM)",
          "SAMSUNG Galaxy S23 FE (Graphite, 128 GB)  (8 GB RAM)",
          "SAMSUNG Galaxy S23 FE (Graphite, 128 GB)  (8 GB RAM)",
          "SAMSUNG Galaxy S23 FE (Graphite, 128 GB)  (8 GB RAM)",
          "SAMSUNG Galaxy S23 FE (Graphite, 128 GB)  (8 GB RAM)",
          "Motorola Edge 50 Pro 5G with 125W Charger (Moonlight Pearl, 256 GB)  (12 GB RAM)",
          "Motorola Edge 50 Pro 5G with 125W Charger (Moonlight Pearl, 256 GB)  (12 GB RAM)",
          "Motorola Edge 50 Pro 5G with 125W Charger (Moonlight Pearl, 256 GB)  (12 GB RAM)",
          "Motorola Edge 50 Pro 5G with 125W Charger (Moonlight Pearl, 256 GB)  (12 GB RAM)",
          "realme 12 Pro+ 5G (Explorer Red, 256 GB)  (12 GB RAM)",
          "realme 12 Pro+ 5G (Explorer Red, 256 GB)  (12 GB RAM)",
          "realme 12 Pro+ 5G (Explorer Red, 256 GB)  (12 GB RAM)",
          "realme 12 Pro+ 5G (Explorer Red, 256 GB)  (12 GB RAM)",
          "realme 12 Pro+ 5G (Explorer Red, 256 GB)  (12 GB RAM)",
          "realme 12 Pro+ 5G (Explorer Red, 256 GB)  (12 GB RAM)",
          "realme 12 Pro+ 5G (Explorer Red, 256 GB)  (12 GB RAM)",
          "realme 12 Pro+ 5G (Explorer Red, 256 GB)  (12 GB RAM)",
          "realme 12 Pro+ 5G (Explorer Red, 256 GB)  (12 GB RAM)",
          "Apple iPhone 12 (Blue, 128 GB)",
          "Apple iPhone 12 (Blue, 128 GB)",
          "Apple iPhone 12 (Blue, 128 GB)",
          "Apple iPhone 12 (Blue, 128 GB)",
          "Apple iPhone 12 (Blue, 128 GB)",
          "Apple iPhone 12 (Blue, 128 GB)",
          "Apple iPhone 12 (Blue, 128 GB)",
          "OnePlus Nord 3 5G (Tempest Gray, 128 GB)  (8 GB RAM)",
          "OnePlus Nord 3 5G (Tempest Gray, 128 GB)  (8 GB RAM)",
          "OnePlus Nord 3 5G (Tempest Gray, 128 GB)  (8 GB RAM)",
          "OnePlus Nord 3 5G (Tempest Gray, 128 GB)  (8 GB RAM)",
          "OnePlus Nord 3 5G (Tempest Gray, 128 GB)  (8 GB RAM)",
          "OnePlus Nord 3 5G (Tempest Gray, 128 GB)  (8 GB RAM)",
          "OnePlus Nord 3 5G (Tempest Gray, 128 GB)  (8 GB RAM)"
         ],
         "xaxis": "x",
         "y": [
          0,
          0,
          0,
          0,
          0,
          0,
          0,
          0,
          0,
          0,
          0,
          0,
          0,
          0,
          0,
          0,
          0,
          0,
          0,
          0,
          0,
          0,
          0,
          0,
          0,
          0,
          0,
          0,
          0,
          0,
          0,
          0,
          0
         ],
         "yaxis": "y"
        },
        {
         "hovertemplate": "<b>%{hovertext}</b><br><br>Sentiment=Negative<br>Product Name=%{x}<br>Sentiment_Score=%{y}<br>Rating Stars =%{marker.size}<extra></extra>",
         "hovertext": [
          "SAMSUNG Galaxy S23 FE (Graphite, 128 GB)  (8 GB RAM)",
          "SAMSUNG Galaxy S23 FE (Graphite, 128 GB)  (8 GB RAM)",
          "SAMSUNG Galaxy S23 FE (Graphite, 128 GB)  (8 GB RAM)",
          "SAMSUNG Galaxy S23 FE (Graphite, 128 GB)  (8 GB RAM)",
          "SAMSUNG Galaxy S23 FE (Graphite, 128 GB)  (8 GB RAM)",
          "SAMSUNG Galaxy S23 FE (Graphite, 128 GB)  (8 GB RAM)",
          "SAMSUNG Galaxy S23 FE (Graphite, 128 GB)  (8 GB RAM)",
          "SAMSUNG Galaxy S23 FE (Graphite, 128 GB)  (8 GB RAM)",
          "SAMSUNG Galaxy S23 FE (Graphite, 128 GB)  (8 GB RAM)",
          "SAMSUNG Galaxy S23 FE (Graphite, 128 GB)  (8 GB RAM)",
          "realme 12 Pro+ 5G (Explorer Red, 256 GB)  (12 GB RAM)",
          "realme 12 Pro+ 5G (Explorer Red, 256 GB)  (12 GB RAM)",
          "realme 12 Pro+ 5G (Explorer Red, 256 GB)  (12 GB RAM)",
          "Apple iPhone 12 (Blue, 128 GB)",
          "Apple iPhone 12 (Blue, 128 GB)",
          "Apple iPhone 12 (Blue, 128 GB)",
          "Apple iPhone 12 (Blue, 128 GB)",
          "Apple iPhone 12 (Blue, 128 GB)",
          "OnePlus Nord 3 5G (Tempest Gray, 128 GB)  (8 GB RAM)",
          "OnePlus Nord 3 5G (Tempest Gray, 128 GB)  (8 GB RAM)",
          "OnePlus Nord 3 5G (Tempest Gray, 128 GB)  (8 GB RAM)",
          "OnePlus Nord 3 5G (Tempest Gray, 128 GB)  (8 GB RAM)",
          "OnePlus Nord 3 5G (Tempest Gray, 128 GB)  (8 GB RAM)"
         ],
         "legendgroup": "Negative",
         "marker": {
          "color": "#00cc96",
          "size": [
           3,
           4,
           5,
           5,
           3,
           4,
           4,
           3,
           3,
           5,
           5,
           3,
           5,
           5,
           4,
           3,
           3,
           3,
           3,
           5,
           5,
           5,
           4
          ],
          "sizemode": "area",
          "sizeref": 0.005555555555555556,
          "symbol": "circle"
         },
         "mode": "markers",
         "name": "Negative",
         "orientation": "v",
         "showlegend": true,
         "type": "scatter",
         "x": [
          "SAMSUNG Galaxy S23 FE (Graphite, 128 GB)  (8 GB RAM)",
          "SAMSUNG Galaxy S23 FE (Graphite, 128 GB)  (8 GB RAM)",
          "SAMSUNG Galaxy S23 FE (Graphite, 128 GB)  (8 GB RAM)",
          "SAMSUNG Galaxy S23 FE (Graphite, 128 GB)  (8 GB RAM)",
          "SAMSUNG Galaxy S23 FE (Graphite, 128 GB)  (8 GB RAM)",
          "SAMSUNG Galaxy S23 FE (Graphite, 128 GB)  (8 GB RAM)",
          "SAMSUNG Galaxy S23 FE (Graphite, 128 GB)  (8 GB RAM)",
          "SAMSUNG Galaxy S23 FE (Graphite, 128 GB)  (8 GB RAM)",
          "SAMSUNG Galaxy S23 FE (Graphite, 128 GB)  (8 GB RAM)",
          "SAMSUNG Galaxy S23 FE (Graphite, 128 GB)  (8 GB RAM)",
          "realme 12 Pro+ 5G (Explorer Red, 256 GB)  (12 GB RAM)",
          "realme 12 Pro+ 5G (Explorer Red, 256 GB)  (12 GB RAM)",
          "realme 12 Pro+ 5G (Explorer Red, 256 GB)  (12 GB RAM)",
          "Apple iPhone 12 (Blue, 128 GB)",
          "Apple iPhone 12 (Blue, 128 GB)",
          "Apple iPhone 12 (Blue, 128 GB)",
          "Apple iPhone 12 (Blue, 128 GB)",
          "Apple iPhone 12 (Blue, 128 GB)",
          "OnePlus Nord 3 5G (Tempest Gray, 128 GB)  (8 GB RAM)",
          "OnePlus Nord 3 5G (Tempest Gray, 128 GB)  (8 GB RAM)",
          "OnePlus Nord 3 5G (Tempest Gray, 128 GB)  (8 GB RAM)",
          "OnePlus Nord 3 5G (Tempest Gray, 128 GB)  (8 GB RAM)",
          "OnePlus Nord 3 5G (Tempest Gray, 128 GB)  (8 GB RAM)"
         ],
         "xaxis": "x",
         "y": [
          -1,
          -0.1875,
          -0.0276190476190476,
          -0.9099999999999998,
          -0.3333333333333333,
          -0.35,
          -0.0999999999999999,
          -0.385,
          -0.08,
          -0.1541666666666666,
          -0.1,
          -0.1638888888888889,
          -0.075,
          -0.3125,
          -0.35,
          -0.0785714285714285,
          -0.4,
          -0.4,
          -0.0566666666666666,
          -0.2,
          -0.8049999999999998,
          -0.15,
          -0.0749999999999999
         ],
         "yaxis": "y"
        }
       ],
       "layout": {
        "height": 1000,
        "legend": {
         "itemsizing": "constant",
         "title": {
          "text": "Sentiment"
         },
         "tracegroupgap": 0
        },
        "margin": {
         "t": 60
        },
        "template": {
         "data": {
          "bar": [
           {
            "error_x": {
             "color": "#2a3f5f"
            },
            "error_y": {
             "color": "#2a3f5f"
            },
            "marker": {
             "line": {
              "color": "#E5ECF6",
              "width": 0.5
             },
             "pattern": {
              "fillmode": "overlay",
              "size": 10,
              "solidity": 0.2
             }
            },
            "type": "bar"
           }
          ],
          "barpolar": [
           {
            "marker": {
             "line": {
              "color": "#E5ECF6",
              "width": 0.5
             },
             "pattern": {
              "fillmode": "overlay",
              "size": 10,
              "solidity": 0.2
             }
            },
            "type": "barpolar"
           }
          ],
          "carpet": [
           {
            "aaxis": {
             "endlinecolor": "#2a3f5f",
             "gridcolor": "white",
             "linecolor": "white",
             "minorgridcolor": "white",
             "startlinecolor": "#2a3f5f"
            },
            "baxis": {
             "endlinecolor": "#2a3f5f",
             "gridcolor": "white",
             "linecolor": "white",
             "minorgridcolor": "white",
             "startlinecolor": "#2a3f5f"
            },
            "type": "carpet"
           }
          ],
          "choropleth": [
           {
            "colorbar": {
             "outlinewidth": 0,
             "ticks": ""
            },
            "type": "choropleth"
           }
          ],
          "contour": [
           {
            "colorbar": {
             "outlinewidth": 0,
             "ticks": ""
            },
            "colorscale": [
             [
              0,
              "#0d0887"
             ],
             [
              0.1111111111111111,
              "#46039f"
             ],
             [
              0.2222222222222222,
              "#7201a8"
             ],
             [
              0.3333333333333333,
              "#9c179e"
             ],
             [
              0.4444444444444444,
              "#bd3786"
             ],
             [
              0.5555555555555556,
              "#d8576b"
             ],
             [
              0.6666666666666666,
              "#ed7953"
             ],
             [
              0.7777777777777778,
              "#fb9f3a"
             ],
             [
              0.8888888888888888,
              "#fdca26"
             ],
             [
              1,
              "#f0f921"
             ]
            ],
            "type": "contour"
           }
          ],
          "contourcarpet": [
           {
            "colorbar": {
             "outlinewidth": 0,
             "ticks": ""
            },
            "type": "contourcarpet"
           }
          ],
          "heatmap": [
           {
            "colorbar": {
             "outlinewidth": 0,
             "ticks": ""
            },
            "colorscale": [
             [
              0,
              "#0d0887"
             ],
             [
              0.1111111111111111,
              "#46039f"
             ],
             [
              0.2222222222222222,
              "#7201a8"
             ],
             [
              0.3333333333333333,
              "#9c179e"
             ],
             [
              0.4444444444444444,
              "#bd3786"
             ],
             [
              0.5555555555555556,
              "#d8576b"
             ],
             [
              0.6666666666666666,
              "#ed7953"
             ],
             [
              0.7777777777777778,
              "#fb9f3a"
             ],
             [
              0.8888888888888888,
              "#fdca26"
             ],
             [
              1,
              "#f0f921"
             ]
            ],
            "type": "heatmap"
           }
          ],
          "heatmapgl": [
           {
            "colorbar": {
             "outlinewidth": 0,
             "ticks": ""
            },
            "colorscale": [
             [
              0,
              "#0d0887"
             ],
             [
              0.1111111111111111,
              "#46039f"
             ],
             [
              0.2222222222222222,
              "#7201a8"
             ],
             [
              0.3333333333333333,
              "#9c179e"
             ],
             [
              0.4444444444444444,
              "#bd3786"
             ],
             [
              0.5555555555555556,
              "#d8576b"
             ],
             [
              0.6666666666666666,
              "#ed7953"
             ],
             [
              0.7777777777777778,
              "#fb9f3a"
             ],
             [
              0.8888888888888888,
              "#fdca26"
             ],
             [
              1,
              "#f0f921"
             ]
            ],
            "type": "heatmapgl"
           }
          ],
          "histogram": [
           {
            "marker": {
             "pattern": {
              "fillmode": "overlay",
              "size": 10,
              "solidity": 0.2
             }
            },
            "type": "histogram"
           }
          ],
          "histogram2d": [
           {
            "colorbar": {
             "outlinewidth": 0,
             "ticks": ""
            },
            "colorscale": [
             [
              0,
              "#0d0887"
             ],
             [
              0.1111111111111111,
              "#46039f"
             ],
             [
              0.2222222222222222,
              "#7201a8"
             ],
             [
              0.3333333333333333,
              "#9c179e"
             ],
             [
              0.4444444444444444,
              "#bd3786"
             ],
             [
              0.5555555555555556,
              "#d8576b"
             ],
             [
              0.6666666666666666,
              "#ed7953"
             ],
             [
              0.7777777777777778,
              "#fb9f3a"
             ],
             [
              0.8888888888888888,
              "#fdca26"
             ],
             [
              1,
              "#f0f921"
             ]
            ],
            "type": "histogram2d"
           }
          ],
          "histogram2dcontour": [
           {
            "colorbar": {
             "outlinewidth": 0,
             "ticks": ""
            },
            "colorscale": [
             [
              0,
              "#0d0887"
             ],
             [
              0.1111111111111111,
              "#46039f"
             ],
             [
              0.2222222222222222,
              "#7201a8"
             ],
             [
              0.3333333333333333,
              "#9c179e"
             ],
             [
              0.4444444444444444,
              "#bd3786"
             ],
             [
              0.5555555555555556,
              "#d8576b"
             ],
             [
              0.6666666666666666,
              "#ed7953"
             ],
             [
              0.7777777777777778,
              "#fb9f3a"
             ],
             [
              0.8888888888888888,
              "#fdca26"
             ],
             [
              1,
              "#f0f921"
             ]
            ],
            "type": "histogram2dcontour"
           }
          ],
          "mesh3d": [
           {
            "colorbar": {
             "outlinewidth": 0,
             "ticks": ""
            },
            "type": "mesh3d"
           }
          ],
          "parcoords": [
           {
            "line": {
             "colorbar": {
              "outlinewidth": 0,
              "ticks": ""
             }
            },
            "type": "parcoords"
           }
          ],
          "pie": [
           {
            "automargin": true,
            "type": "pie"
           }
          ],
          "scatter": [
           {
            "fillpattern": {
             "fillmode": "overlay",
             "size": 10,
             "solidity": 0.2
            },
            "type": "scatter"
           }
          ],
          "scatter3d": [
           {
            "line": {
             "colorbar": {
              "outlinewidth": 0,
              "ticks": ""
             }
            },
            "marker": {
             "colorbar": {
              "outlinewidth": 0,
              "ticks": ""
             }
            },
            "type": "scatter3d"
           }
          ],
          "scattercarpet": [
           {
            "marker": {
             "colorbar": {
              "outlinewidth": 0,
              "ticks": ""
             }
            },
            "type": "scattercarpet"
           }
          ],
          "scattergeo": [
           {
            "marker": {
             "colorbar": {
              "outlinewidth": 0,
              "ticks": ""
             }
            },
            "type": "scattergeo"
           }
          ],
          "scattergl": [
           {
            "marker": {
             "colorbar": {
              "outlinewidth": 0,
              "ticks": ""
             }
            },
            "type": "scattergl"
           }
          ],
          "scattermapbox": [
           {
            "marker": {
             "colorbar": {
              "outlinewidth": 0,
              "ticks": ""
             }
            },
            "type": "scattermapbox"
           }
          ],
          "scatterpolar": [
           {
            "marker": {
             "colorbar": {
              "outlinewidth": 0,
              "ticks": ""
             }
            },
            "type": "scatterpolar"
           }
          ],
          "scatterpolargl": [
           {
            "marker": {
             "colorbar": {
              "outlinewidth": 0,
              "ticks": ""
             }
            },
            "type": "scatterpolargl"
           }
          ],
          "scatterternary": [
           {
            "marker": {
             "colorbar": {
              "outlinewidth": 0,
              "ticks": ""
             }
            },
            "type": "scatterternary"
           }
          ],
          "surface": [
           {
            "colorbar": {
             "outlinewidth": 0,
             "ticks": ""
            },
            "colorscale": [
             [
              0,
              "#0d0887"
             ],
             [
              0.1111111111111111,
              "#46039f"
             ],
             [
              0.2222222222222222,
              "#7201a8"
             ],
             [
              0.3333333333333333,
              "#9c179e"
             ],
             [
              0.4444444444444444,
              "#bd3786"
             ],
             [
              0.5555555555555556,
              "#d8576b"
             ],
             [
              0.6666666666666666,
              "#ed7953"
             ],
             [
              0.7777777777777778,
              "#fb9f3a"
             ],
             [
              0.8888888888888888,
              "#fdca26"
             ],
             [
              1,
              "#f0f921"
             ]
            ],
            "type": "surface"
           }
          ],
          "table": [
           {
            "cells": {
             "fill": {
              "color": "#EBF0F8"
             },
             "line": {
              "color": "white"
             }
            },
            "header": {
             "fill": {
              "color": "#C8D4E3"
             },
             "line": {
              "color": "white"
             }
            },
            "type": "table"
           }
          ]
         },
         "layout": {
          "annotationdefaults": {
           "arrowcolor": "#2a3f5f",
           "arrowhead": 0,
           "arrowwidth": 1
          },
          "autotypenumbers": "strict",
          "coloraxis": {
           "colorbar": {
            "outlinewidth": 0,
            "ticks": ""
           }
          },
          "colorscale": {
           "diverging": [
            [
             0,
             "#8e0152"
            ],
            [
             0.1,
             "#c51b7d"
            ],
            [
             0.2,
             "#de77ae"
            ],
            [
             0.3,
             "#f1b6da"
            ],
            [
             0.4,
             "#fde0ef"
            ],
            [
             0.5,
             "#f7f7f7"
            ],
            [
             0.6,
             "#e6f5d0"
            ],
            [
             0.7,
             "#b8e186"
            ],
            [
             0.8,
             "#7fbc41"
            ],
            [
             0.9,
             "#4d9221"
            ],
            [
             1,
             "#276419"
            ]
           ],
           "sequential": [
            [
             0,
             "#0d0887"
            ],
            [
             0.1111111111111111,
             "#46039f"
            ],
            [
             0.2222222222222222,
             "#7201a8"
            ],
            [
             0.3333333333333333,
             "#9c179e"
            ],
            [
             0.4444444444444444,
             "#bd3786"
            ],
            [
             0.5555555555555556,
             "#d8576b"
            ],
            [
             0.6666666666666666,
             "#ed7953"
            ],
            [
             0.7777777777777778,
             "#fb9f3a"
            ],
            [
             0.8888888888888888,
             "#fdca26"
            ],
            [
             1,
             "#f0f921"
            ]
           ],
           "sequentialminus": [
            [
             0,
             "#0d0887"
            ],
            [
             0.1111111111111111,
             "#46039f"
            ],
            [
             0.2222222222222222,
             "#7201a8"
            ],
            [
             0.3333333333333333,
             "#9c179e"
            ],
            [
             0.4444444444444444,
             "#bd3786"
            ],
            [
             0.5555555555555556,
             "#d8576b"
            ],
            [
             0.6666666666666666,
             "#ed7953"
            ],
            [
             0.7777777777777778,
             "#fb9f3a"
            ],
            [
             0.8888888888888888,
             "#fdca26"
            ],
            [
             1,
             "#f0f921"
            ]
           ]
          },
          "colorway": [
           "#636efa",
           "#EF553B",
           "#00cc96",
           "#ab63fa",
           "#FFA15A",
           "#19d3f3",
           "#FF6692",
           "#B6E880",
           "#FF97FF",
           "#FECB52"
          ],
          "font": {
           "color": "#2a3f5f"
          },
          "geo": {
           "bgcolor": "white",
           "lakecolor": "white",
           "landcolor": "#E5ECF6",
           "showlakes": true,
           "showland": true,
           "subunitcolor": "white"
          },
          "hoverlabel": {
           "align": "left"
          },
          "hovermode": "closest",
          "mapbox": {
           "style": "light"
          },
          "paper_bgcolor": "white",
          "plot_bgcolor": "#E5ECF6",
          "polar": {
           "angularaxis": {
            "gridcolor": "white",
            "linecolor": "white",
            "ticks": ""
           },
           "bgcolor": "#E5ECF6",
           "radialaxis": {
            "gridcolor": "white",
            "linecolor": "white",
            "ticks": ""
           }
          },
          "scene": {
           "xaxis": {
            "backgroundcolor": "#E5ECF6",
            "gridcolor": "white",
            "gridwidth": 2,
            "linecolor": "white",
            "showbackground": true,
            "ticks": "",
            "zerolinecolor": "white"
           },
           "yaxis": {
            "backgroundcolor": "#E5ECF6",
            "gridcolor": "white",
            "gridwidth": 2,
            "linecolor": "white",
            "showbackground": true,
            "ticks": "",
            "zerolinecolor": "white"
           },
           "zaxis": {
            "backgroundcolor": "#E5ECF6",
            "gridcolor": "white",
            "gridwidth": 2,
            "linecolor": "white",
            "showbackground": true,
            "ticks": "",
            "zerolinecolor": "white"
           }
          },
          "shapedefaults": {
           "line": {
            "color": "#2a3f5f"
           }
          },
          "ternary": {
           "aaxis": {
            "gridcolor": "white",
            "linecolor": "white",
            "ticks": ""
           },
           "baxis": {
            "gridcolor": "white",
            "linecolor": "white",
            "ticks": ""
           },
           "bgcolor": "#E5ECF6",
           "caxis": {
            "gridcolor": "white",
            "linecolor": "white",
            "ticks": ""
           }
          },
          "title": {
           "x": 0.05
          },
          "xaxis": {
           "automargin": true,
           "gridcolor": "white",
           "linecolor": "white",
           "ticks": "",
           "title": {
            "standoff": 15
           },
           "zerolinecolor": "white",
           "zerolinewidth": 2
          },
          "yaxis": {
           "automargin": true,
           "gridcolor": "white",
           "linecolor": "white",
           "ticks": "",
           "title": {
            "standoff": 15
           },
           "zerolinecolor": "white",
           "zerolinewidth": 2
          }
         }
        },
        "title": {
         "text": "Scatter Plot of Product Name vs. Sentiment Score (colored by Sentiment)"
        },
        "width": 1000,
        "xaxis": {
         "anchor": "y",
         "domain": [
          0,
          1
         ],
         "title": {
          "text": "Product Name"
         }
        },
        "yaxis": {
         "anchor": "x",
         "domain": [
          0,
          1
         ],
         "title": {
          "text": "Sentiment_Score"
         }
        }
       }
      }
     },
     "metadata": {},
     "output_type": "display_data"
    }
   ],
   "source": [
    "import\tplotly.express\tas\tpx\n",
    "fig = px.scatter(df, x='Product Name', y='Sentiment_Score', color='Sentiment', size='Rating Stars ', size_max=30, hover_name='Product Name')\n",
    "fig.update_layout(width=1000, height=1000)\n",
    "fig.update_layout(title_text='Scatter Plot of Product Name vs. Sentiment Score (colored by Sentiment)')\n",
    "fig.show()\n"
   ]
  },
  {
   "cell_type": "code",
   "execution_count": 18,
   "metadata": {},
   "outputs": [
    {
     "data": {
      "application/vnd.plotly.v1+json": {
       "config": {
        "plotlyServerURL": "https://plot.ly"
       },
       "data": [
        {
         "alignmentgroup": "True",
         "bingroup": "x",
         "hovertemplate": "Sentiment=Positive<br>Rating Stars =%{x}<br>count=%{y}<extra></extra>",
         "legendgroup": "Positive",
         "marker": {
          "color": "purple",
          "pattern": {
           "shape": ""
          }
         },
         "name": "Positive",
         "offsetgroup": "Positive",
         "orientation": "v",
         "showlegend": true,
         "type": "histogram",
         "x": [
          4,
          5,
          5,
          4,
          5,
          4,
          5,
          5,
          4,
          4,
          5,
          4,
          5,
          4,
          4,
          5,
          5,
          3,
          3,
          3,
          5,
          5,
          5,
          4,
          5,
          5,
          4,
          5,
          4,
          4,
          4,
          4,
          4,
          4,
          4,
          3,
          5,
          4,
          5,
          4,
          5,
          5,
          5,
          5,
          4,
          4,
          4,
          4,
          4,
          5,
          5,
          5,
          5,
          5,
          5,
          5,
          4,
          5,
          3,
          5,
          4,
          4,
          4,
          4,
          4,
          4,
          5,
          5,
          5,
          5,
          5,
          5,
          5,
          5,
          5,
          5,
          5,
          5,
          5,
          5,
          5,
          5,
          5,
          5,
          5,
          4,
          5,
          5,
          4,
          4,
          3,
          5,
          5,
          3,
          5,
          5,
          4,
          5,
          4,
          4,
          4,
          5,
          4,
          5,
          5,
          4,
          4,
          5,
          5,
          4,
          5,
          5,
          5,
          4,
          4,
          5,
          5,
          3,
          5,
          5,
          4,
          5,
          5,
          4,
          5,
          4,
          5,
          5,
          3,
          5,
          5,
          4,
          4,
          5,
          4,
          4,
          3,
          4,
          4,
          5,
          5,
          5,
          4,
          5,
          5,
          5,
          5,
          5,
          5,
          5,
          5,
          5,
          5,
          3,
          5,
          4,
          4,
          5,
          5,
          5,
          5,
          5,
          5,
          3,
          5,
          4,
          5,
          4,
          5,
          5,
          5,
          5,
          5,
          4,
          5,
          5,
          5,
          5,
          5,
          3,
          5,
          4,
          5,
          5,
          5,
          5,
          4,
          5,
          5,
          5,
          5,
          5,
          4,
          5,
          5,
          4,
          5,
          5,
          5,
          5,
          5,
          4,
          3,
          5,
          5,
          5,
          5,
          5,
          5,
          5,
          5,
          5,
          5,
          4,
          4,
          5,
          5,
          5,
          5,
          5,
          4,
          5,
          5,
          4,
          4,
          5,
          5,
          5,
          5,
          5,
          5,
          4,
          4,
          5,
          5,
          5,
          5,
          5,
          5,
          5,
          5,
          3,
          5,
          4,
          4,
          4,
          4,
          4,
          4,
          4,
          4,
          4,
          4,
          5,
          5,
          5,
          5,
          5,
          5,
          5,
          5,
          5,
          5,
          5,
          5,
          5,
          5,
          5,
          5,
          5,
          5,
          5,
          5,
          5,
          5,
          5,
          5,
          5,
          5,
          5,
          5,
          5,
          5,
          5,
          5,
          5,
          5,
          5,
          5,
          5,
          5,
          4,
          4,
          5,
          5,
          5,
          5,
          5,
          5,
          5,
          5,
          5,
          5,
          5,
          5,
          5,
          5,
          5,
          5,
          5,
          5,
          5,
          5,
          5,
          5,
          5,
          5,
          5,
          5,
          5,
          5,
          5,
          5,
          5,
          5,
          5,
          5,
          5,
          5,
          5,
          5,
          5,
          5,
          5,
          5,
          5,
          5,
          5,
          5,
          5,
          5,
          5,
          5,
          5,
          5,
          5,
          4,
          5,
          5,
          4,
          5,
          5,
          5,
          5,
          5,
          4,
          5,
          5,
          5,
          5,
          4,
          5,
          5,
          5,
          5,
          5,
          5,
          5,
          5,
          5,
          5,
          4,
          5,
          5,
          5,
          5,
          4,
          5,
          5,
          5,
          5,
          5,
          5,
          5,
          5,
          5,
          5,
          5,
          4,
          5,
          4,
          5,
          5,
          5,
          5,
          4,
          5,
          5,
          5,
          5,
          5,
          4,
          5,
          5,
          4,
          5,
          5,
          5,
          5,
          5,
          5,
          5,
          5,
          5,
          5,
          5,
          5,
          5,
          5,
          5,
          5,
          5,
          5,
          5,
          5,
          5,
          5,
          5,
          5,
          5,
          5,
          5,
          5,
          4,
          5,
          5,
          3,
          5,
          5,
          5,
          5,
          4,
          4,
          5,
          5,
          5,
          4,
          4,
          4,
          4,
          5,
          5,
          5,
          5,
          5,
          4,
          5,
          5,
          4,
          5,
          4,
          5,
          5,
          5,
          4,
          5,
          5,
          4,
          5,
          5,
          5,
          5,
          4,
          5,
          5,
          5,
          5,
          3,
          5,
          4,
          4,
          4,
          5,
          5,
          5,
          5,
          5,
          4,
          5,
          3,
          5,
          5,
          5,
          5,
          4,
          4,
          4,
          4,
          5,
          5,
          5,
          5,
          5,
          5,
          5,
          5,
          5,
          5,
          3,
          3,
          5,
          5,
          4,
          5,
          4,
          5,
          5,
          4,
          4,
          4,
          4,
          4,
          4,
          4,
          4,
          4,
          4,
          3,
          5,
          5,
          5,
          5,
          5,
          5,
          5,
          5,
          5,
          4,
          5,
          5,
          5,
          3,
          3,
          5
         ],
         "xaxis": "x",
         "yaxis": "y"
        },
        {
         "alignmentgroup": "True",
         "bingroup": "x",
         "hovertemplate": "Sentiment=Neutral<br>Rating Stars =%{x}<br>count=%{y}<extra></extra>",
         "legendgroup": "Neutral",
         "marker": {
          "color": "pink",
          "pattern": {
           "shape": ""
          }
         },
         "name": "Neutral",
         "offsetgroup": "Neutral",
         "orientation": "v",
         "showlegend": true,
         "type": "histogram",
         "x": [
          4,
          5,
          5,
          4,
          4,
          4,
          5,
          5,
          4,
          4,
          5,
          5,
          5,
          4,
          5,
          4,
          4,
          5,
          5,
          5,
          5,
          5,
          5,
          4,
          5,
          5,
          5,
          5,
          5,
          5,
          4,
          5,
          3
         ],
         "xaxis": "x",
         "yaxis": "y"
        },
        {
         "alignmentgroup": "True",
         "bingroup": "x",
         "hovertemplate": "Sentiment=Negative<br>Rating Stars =%{x}<br>count=%{y}<extra></extra>",
         "legendgroup": "Negative",
         "marker": {
          "color": "green",
          "pattern": {
           "shape": ""
          }
         },
         "name": "Negative",
         "offsetgroup": "Negative",
         "orientation": "v",
         "showlegend": true,
         "type": "histogram",
         "x": [
          3,
          4,
          5,
          5,
          3,
          4,
          4,
          3,
          3,
          5,
          5,
          3,
          5,
          5,
          4,
          3,
          3,
          3,
          3,
          5,
          5,
          5,
          4
         ],
         "xaxis": "x",
         "yaxis": "y"
        }
       ],
       "layout": {
        "barmode": "relative",
        "font": {
         "color": "grey",
         "family": "Times New Roman"
        },
        "height": 500,
        "legend": {
         "title": {
          "text": "Sentiment"
         },
         "tracegroupgap": 0
        },
        "margin": {
         "t": 60
        },
        "template": {
         "data": {
          "bar": [
           {
            "error_x": {
             "color": "rgb(36,36,36)"
            },
            "error_y": {
             "color": "rgb(36,36,36)"
            },
            "marker": {
             "line": {
              "color": "white",
              "width": 0.5
             },
             "pattern": {
              "fillmode": "overlay",
              "size": 10,
              "solidity": 0.2
             }
            },
            "type": "bar"
           }
          ],
          "barpolar": [
           {
            "marker": {
             "line": {
              "color": "white",
              "width": 0.5
             },
             "pattern": {
              "fillmode": "overlay",
              "size": 10,
              "solidity": 0.2
             }
            },
            "type": "barpolar"
           }
          ],
          "carpet": [
           {
            "aaxis": {
             "endlinecolor": "rgb(36,36,36)",
             "gridcolor": "white",
             "linecolor": "white",
             "minorgridcolor": "white",
             "startlinecolor": "rgb(36,36,36)"
            },
            "baxis": {
             "endlinecolor": "rgb(36,36,36)",
             "gridcolor": "white",
             "linecolor": "white",
             "minorgridcolor": "white",
             "startlinecolor": "rgb(36,36,36)"
            },
            "type": "carpet"
           }
          ],
          "choropleth": [
           {
            "colorbar": {
             "outlinewidth": 1,
             "tickcolor": "rgb(36,36,36)",
             "ticks": "outside"
            },
            "type": "choropleth"
           }
          ],
          "contour": [
           {
            "colorbar": {
             "outlinewidth": 1,
             "tickcolor": "rgb(36,36,36)",
             "ticks": "outside"
            },
            "colorscale": [
             [
              0,
              "#440154"
             ],
             [
              0.1111111111111111,
              "#482878"
             ],
             [
              0.2222222222222222,
              "#3e4989"
             ],
             [
              0.3333333333333333,
              "#31688e"
             ],
             [
              0.4444444444444444,
              "#26828e"
             ],
             [
              0.5555555555555556,
              "#1f9e89"
             ],
             [
              0.6666666666666666,
              "#35b779"
             ],
             [
              0.7777777777777778,
              "#6ece58"
             ],
             [
              0.8888888888888888,
              "#b5de2b"
             ],
             [
              1,
              "#fde725"
             ]
            ],
            "type": "contour"
           }
          ],
          "contourcarpet": [
           {
            "colorbar": {
             "outlinewidth": 1,
             "tickcolor": "rgb(36,36,36)",
             "ticks": "outside"
            },
            "type": "contourcarpet"
           }
          ],
          "heatmap": [
           {
            "colorbar": {
             "outlinewidth": 1,
             "tickcolor": "rgb(36,36,36)",
             "ticks": "outside"
            },
            "colorscale": [
             [
              0,
              "#440154"
             ],
             [
              0.1111111111111111,
              "#482878"
             ],
             [
              0.2222222222222222,
              "#3e4989"
             ],
             [
              0.3333333333333333,
              "#31688e"
             ],
             [
              0.4444444444444444,
              "#26828e"
             ],
             [
              0.5555555555555556,
              "#1f9e89"
             ],
             [
              0.6666666666666666,
              "#35b779"
             ],
             [
              0.7777777777777778,
              "#6ece58"
             ],
             [
              0.8888888888888888,
              "#b5de2b"
             ],
             [
              1,
              "#fde725"
             ]
            ],
            "type": "heatmap"
           }
          ],
          "heatmapgl": [
           {
            "colorbar": {
             "outlinewidth": 1,
             "tickcolor": "rgb(36,36,36)",
             "ticks": "outside"
            },
            "colorscale": [
             [
              0,
              "#440154"
             ],
             [
              0.1111111111111111,
              "#482878"
             ],
             [
              0.2222222222222222,
              "#3e4989"
             ],
             [
              0.3333333333333333,
              "#31688e"
             ],
             [
              0.4444444444444444,
              "#26828e"
             ],
             [
              0.5555555555555556,
              "#1f9e89"
             ],
             [
              0.6666666666666666,
              "#35b779"
             ],
             [
              0.7777777777777778,
              "#6ece58"
             ],
             [
              0.8888888888888888,
              "#b5de2b"
             ],
             [
              1,
              "#fde725"
             ]
            ],
            "type": "heatmapgl"
           }
          ],
          "histogram": [
           {
            "marker": {
             "line": {
              "color": "white",
              "width": 0.6
             }
            },
            "type": "histogram"
           }
          ],
          "histogram2d": [
           {
            "colorbar": {
             "outlinewidth": 1,
             "tickcolor": "rgb(36,36,36)",
             "ticks": "outside"
            },
            "colorscale": [
             [
              0,
              "#440154"
             ],
             [
              0.1111111111111111,
              "#482878"
             ],
             [
              0.2222222222222222,
              "#3e4989"
             ],
             [
              0.3333333333333333,
              "#31688e"
             ],
             [
              0.4444444444444444,
              "#26828e"
             ],
             [
              0.5555555555555556,
              "#1f9e89"
             ],
             [
              0.6666666666666666,
              "#35b779"
             ],
             [
              0.7777777777777778,
              "#6ece58"
             ],
             [
              0.8888888888888888,
              "#b5de2b"
             ],
             [
              1,
              "#fde725"
             ]
            ],
            "type": "histogram2d"
           }
          ],
          "histogram2dcontour": [
           {
            "colorbar": {
             "outlinewidth": 1,
             "tickcolor": "rgb(36,36,36)",
             "ticks": "outside"
            },
            "colorscale": [
             [
              0,
              "#440154"
             ],
             [
              0.1111111111111111,
              "#482878"
             ],
             [
              0.2222222222222222,
              "#3e4989"
             ],
             [
              0.3333333333333333,
              "#31688e"
             ],
             [
              0.4444444444444444,
              "#26828e"
             ],
             [
              0.5555555555555556,
              "#1f9e89"
             ],
             [
              0.6666666666666666,
              "#35b779"
             ],
             [
              0.7777777777777778,
              "#6ece58"
             ],
             [
              0.8888888888888888,
              "#b5de2b"
             ],
             [
              1,
              "#fde725"
             ]
            ],
            "type": "histogram2dcontour"
           }
          ],
          "mesh3d": [
           {
            "colorbar": {
             "outlinewidth": 1,
             "tickcolor": "rgb(36,36,36)",
             "ticks": "outside"
            },
            "type": "mesh3d"
           }
          ],
          "parcoords": [
           {
            "line": {
             "colorbar": {
              "outlinewidth": 1,
              "tickcolor": "rgb(36,36,36)",
              "ticks": "outside"
             }
            },
            "type": "parcoords"
           }
          ],
          "pie": [
           {
            "automargin": true,
            "type": "pie"
           }
          ],
          "scatter": [
           {
            "fillpattern": {
             "fillmode": "overlay",
             "size": 10,
             "solidity": 0.2
            },
            "type": "scatter"
           }
          ],
          "scatter3d": [
           {
            "line": {
             "colorbar": {
              "outlinewidth": 1,
              "tickcolor": "rgb(36,36,36)",
              "ticks": "outside"
             }
            },
            "marker": {
             "colorbar": {
              "outlinewidth": 1,
              "tickcolor": "rgb(36,36,36)",
              "ticks": "outside"
             }
            },
            "type": "scatter3d"
           }
          ],
          "scattercarpet": [
           {
            "marker": {
             "colorbar": {
              "outlinewidth": 1,
              "tickcolor": "rgb(36,36,36)",
              "ticks": "outside"
             }
            },
            "type": "scattercarpet"
           }
          ],
          "scattergeo": [
           {
            "marker": {
             "colorbar": {
              "outlinewidth": 1,
              "tickcolor": "rgb(36,36,36)",
              "ticks": "outside"
             }
            },
            "type": "scattergeo"
           }
          ],
          "scattergl": [
           {
            "marker": {
             "colorbar": {
              "outlinewidth": 1,
              "tickcolor": "rgb(36,36,36)",
              "ticks": "outside"
             }
            },
            "type": "scattergl"
           }
          ],
          "scattermapbox": [
           {
            "marker": {
             "colorbar": {
              "outlinewidth": 1,
              "tickcolor": "rgb(36,36,36)",
              "ticks": "outside"
             }
            },
            "type": "scattermapbox"
           }
          ],
          "scatterpolar": [
           {
            "marker": {
             "colorbar": {
              "outlinewidth": 1,
              "tickcolor": "rgb(36,36,36)",
              "ticks": "outside"
             }
            },
            "type": "scatterpolar"
           }
          ],
          "scatterpolargl": [
           {
            "marker": {
             "colorbar": {
              "outlinewidth": 1,
              "tickcolor": "rgb(36,36,36)",
              "ticks": "outside"
             }
            },
            "type": "scatterpolargl"
           }
          ],
          "scatterternary": [
           {
            "marker": {
             "colorbar": {
              "outlinewidth": 1,
              "tickcolor": "rgb(36,36,36)",
              "ticks": "outside"
             }
            },
            "type": "scatterternary"
           }
          ],
          "surface": [
           {
            "colorbar": {
             "outlinewidth": 1,
             "tickcolor": "rgb(36,36,36)",
             "ticks": "outside"
            },
            "colorscale": [
             [
              0,
              "#440154"
             ],
             [
              0.1111111111111111,
              "#482878"
             ],
             [
              0.2222222222222222,
              "#3e4989"
             ],
             [
              0.3333333333333333,
              "#31688e"
             ],
             [
              0.4444444444444444,
              "#26828e"
             ],
             [
              0.5555555555555556,
              "#1f9e89"
             ],
             [
              0.6666666666666666,
              "#35b779"
             ],
             [
              0.7777777777777778,
              "#6ece58"
             ],
             [
              0.8888888888888888,
              "#b5de2b"
             ],
             [
              1,
              "#fde725"
             ]
            ],
            "type": "surface"
           }
          ],
          "table": [
           {
            "cells": {
             "fill": {
              "color": "rgb(237,237,237)"
             },
             "line": {
              "color": "white"
             }
            },
            "header": {
             "fill": {
              "color": "rgb(217,217,217)"
             },
             "line": {
              "color": "white"
             }
            },
            "type": "table"
           }
          ]
         },
         "layout": {
          "annotationdefaults": {
           "arrowhead": 0,
           "arrowwidth": 1
          },
          "autotypenumbers": "strict",
          "coloraxis": {
           "colorbar": {
            "outlinewidth": 1,
            "tickcolor": "rgb(36,36,36)",
            "ticks": "outside"
           }
          },
          "colorscale": {
           "diverging": [
            [
             0,
             "rgb(103,0,31)"
            ],
            [
             0.1,
             "rgb(178,24,43)"
            ],
            [
             0.2,
             "rgb(214,96,77)"
            ],
            [
             0.3,
             "rgb(244,165,130)"
            ],
            [
             0.4,
             "rgb(253,219,199)"
            ],
            [
             0.5,
             "rgb(247,247,247)"
            ],
            [
             0.6,
             "rgb(209,229,240)"
            ],
            [
             0.7,
             "rgb(146,197,222)"
            ],
            [
             0.8,
             "rgb(67,147,195)"
            ],
            [
             0.9,
             "rgb(33,102,172)"
            ],
            [
             1,
             "rgb(5,48,97)"
            ]
           ],
           "sequential": [
            [
             0,
             "#440154"
            ],
            [
             0.1111111111111111,
             "#482878"
            ],
            [
             0.2222222222222222,
             "#3e4989"
            ],
            [
             0.3333333333333333,
             "#31688e"
            ],
            [
             0.4444444444444444,
             "#26828e"
            ],
            [
             0.5555555555555556,
             "#1f9e89"
            ],
            [
             0.6666666666666666,
             "#35b779"
            ],
            [
             0.7777777777777778,
             "#6ece58"
            ],
            [
             0.8888888888888888,
             "#b5de2b"
            ],
            [
             1,
             "#fde725"
            ]
           ],
           "sequentialminus": [
            [
             0,
             "#440154"
            ],
            [
             0.1111111111111111,
             "#482878"
            ],
            [
             0.2222222222222222,
             "#3e4989"
            ],
            [
             0.3333333333333333,
             "#31688e"
            ],
            [
             0.4444444444444444,
             "#26828e"
            ],
            [
             0.5555555555555556,
             "#1f9e89"
            ],
            [
             0.6666666666666666,
             "#35b779"
            ],
            [
             0.7777777777777778,
             "#6ece58"
            ],
            [
             0.8888888888888888,
             "#b5de2b"
            ],
            [
             1,
             "#fde725"
            ]
           ]
          },
          "colorway": [
           "#1F77B4",
           "#FF7F0E",
           "#2CA02C",
           "#D62728",
           "#9467BD",
           "#8C564B",
           "#E377C2",
           "#7F7F7F",
           "#BCBD22",
           "#17BECF"
          ],
          "font": {
           "color": "rgb(36,36,36)"
          },
          "geo": {
           "bgcolor": "white",
           "lakecolor": "white",
           "landcolor": "white",
           "showlakes": true,
           "showland": true,
           "subunitcolor": "white"
          },
          "hoverlabel": {
           "align": "left"
          },
          "hovermode": "closest",
          "mapbox": {
           "style": "light"
          },
          "paper_bgcolor": "white",
          "plot_bgcolor": "white",
          "polar": {
           "angularaxis": {
            "gridcolor": "rgb(232,232,232)",
            "linecolor": "rgb(36,36,36)",
            "showgrid": false,
            "showline": true,
            "ticks": "outside"
           },
           "bgcolor": "white",
           "radialaxis": {
            "gridcolor": "rgb(232,232,232)",
            "linecolor": "rgb(36,36,36)",
            "showgrid": false,
            "showline": true,
            "ticks": "outside"
           }
          },
          "scene": {
           "xaxis": {
            "backgroundcolor": "white",
            "gridcolor": "rgb(232,232,232)",
            "gridwidth": 2,
            "linecolor": "rgb(36,36,36)",
            "showbackground": true,
            "showgrid": false,
            "showline": true,
            "ticks": "outside",
            "zeroline": false,
            "zerolinecolor": "rgb(36,36,36)"
           },
           "yaxis": {
            "backgroundcolor": "white",
            "gridcolor": "rgb(232,232,232)",
            "gridwidth": 2,
            "linecolor": "rgb(36,36,36)",
            "showbackground": true,
            "showgrid": false,
            "showline": true,
            "ticks": "outside",
            "zeroline": false,
            "zerolinecolor": "rgb(36,36,36)"
           },
           "zaxis": {
            "backgroundcolor": "white",
            "gridcolor": "rgb(232,232,232)",
            "gridwidth": 2,
            "linecolor": "rgb(36,36,36)",
            "showbackground": true,
            "showgrid": false,
            "showline": true,
            "ticks": "outside",
            "zeroline": false,
            "zerolinecolor": "rgb(36,36,36)"
           }
          },
          "shapedefaults": {
           "fillcolor": "black",
           "line": {
            "width": 0
           },
           "opacity": 0.3
          },
          "ternary": {
           "aaxis": {
            "gridcolor": "rgb(232,232,232)",
            "linecolor": "rgb(36,36,36)",
            "showgrid": false,
            "showline": true,
            "ticks": "outside"
           },
           "baxis": {
            "gridcolor": "rgb(232,232,232)",
            "linecolor": "rgb(36,36,36)",
            "showgrid": false,
            "showline": true,
            "ticks": "outside"
           },
           "bgcolor": "white",
           "caxis": {
            "gridcolor": "rgb(232,232,232)",
            "linecolor": "rgb(36,36,36)",
            "showgrid": false,
            "showline": true,
            "ticks": "outside"
           }
          },
          "title": {
           "x": 0.05
          },
          "xaxis": {
           "automargin": true,
           "gridcolor": "rgb(232,232,232)",
           "linecolor": "rgb(36,36,36)",
           "showgrid": false,
           "showline": true,
           "ticks": "outside",
           "title": {
            "standoff": 15
           },
           "zeroline": false,
           "zerolinecolor": "rgb(36,36,36)"
          },
          "yaxis": {
           "automargin": true,
           "gridcolor": "rgb(232,232,232)",
           "linecolor": "rgb(36,36,36)",
           "showgrid": false,
           "showline": true,
           "ticks": "outside",
           "title": {
            "standoff": 15
           },
           "zeroline": false,
           "zerolinecolor": "rgb(36,36,36)"
          }
         }
        },
        "title": {
         "font": {
          "color": "darkgrey",
          "family": "Times New Roman",
          "size": 25
         },
         "text": "Histogram of Ratings by Sentiment",
         "x": 0.2
        },
        "width": 900,
        "xaxis": {
         "anchor": "y",
         "domain": [
          0,
          1
         ],
         "title": {
          "font": {
           "size": 18
          },
          "text": "Rating Stars"
         }
        },
        "yaxis": {
         "anchor": "x",
         "domain": [
          0,
          1
         ],
         "title": {
          "font": {
           "size": 18
          },
          "text": "Count"
         }
        }
       }
      }
     },
     "metadata": {},
     "output_type": "display_data"
    }
   ],
   "source": [
    "import plotly.express as px\n",
    "\n",
    "# Create the histogram\n",
    "fig = px.histogram(df, x='Rating Stars ', height=500, width=900, template='simple_white',\n",
    "                   color='Sentiment',  # using 'Sentiment' instead of 'sex'\n",
    "                   color_discrete_sequence=['purple', 'pink', 'green'])  # Colors for different sentiments\n",
    "\n",
    "# Customize the layout\n",
    "fig.update_layout(title={'text': 'Histogram of Ratings by Sentiment', 'font': {'size': 25}},\n",
    "                  title_font_family=\"Times New Roman\",\n",
    "                  title_font_color=\"darkgrey\",\n",
    "                  title_x=0.2)\n",
    "\n",
    "fig.update_layout(font_family='Times New Roman',\n",
    "                  font_color='grey',\n",
    "                  yaxis_title={'text': \"Count\", 'font': {'size': 18}},\n",
    "                  xaxis_title={'text': \"Rating Stars\", 'font': {'size': 18}})\n",
    "\n",
    "# Show the plot\n",
    "fig.show()\n"
   ]
  },
  {
   "cell_type": "code",
   "execution_count": 19,
   "metadata": {},
   "outputs": [
    {
     "data": {
      "application/vnd.plotly.v1+json": {
       "config": {
        "linkText": "Export to plot.ly",
        "plotlyServerURL": "https://plot.ly",
        "showLink": false
       },
       "data": [
        {
         "alignmentgroup": "True",
         "hovertemplate": "Sentiment=%{x}<br>Frequency in (Percentage%)=%{y}<br>text=%{text}<extra></extra>",
         "legendgroup": "Positive",
         "marker": {
          "color": "#636efa",
          "pattern": {
           "shape": ""
          }
         },
         "name": "Positive",
         "offsetgroup": "Positive",
         "orientation": "v",
         "showlegend": true,
         "text": [
          "90.7%"
         ],
         "textfont": {
          "family": "consolas",
          "size": 20
         },
         "textposition": "auto",
         "type": "bar",
         "x": [
          "Positive"
         ],
         "xaxis": "x",
         "y": [
          90.66666666666666
         ],
         "yaxis": "y"
        },
        {
         "alignmentgroup": "True",
         "hovertemplate": "Sentiment=%{x}<br>Frequency in (Percentage%)=%{y}<br>text=%{text}<extra></extra>",
         "legendgroup": "Neutral",
         "marker": {
          "color": "#EF553B",
          "pattern": {
           "shape": ""
          }
         },
         "name": "Neutral",
         "offsetgroup": "Neutral",
         "orientation": "v",
         "showlegend": true,
         "text": [
          "5.5%"
         ],
         "textfont": {
          "family": "consolas",
          "size": 20
         },
         "textposition": "auto",
         "type": "bar",
         "x": [
          "Neutral"
         ],
         "xaxis": "x",
         "y": [
          5.5
         ],
         "yaxis": "y"
        },
        {
         "alignmentgroup": "True",
         "hovertemplate": "Sentiment=%{x}<br>Frequency in (Percentage%)=%{y}<br>text=%{text}<extra></extra>",
         "legendgroup": "Negative",
         "marker": {
          "color": "#00cc96",
          "pattern": {
           "shape": ""
          }
         },
         "name": "Negative",
         "offsetgroup": "Negative",
         "orientation": "v",
         "showlegend": true,
         "text": [
          "3.8%"
         ],
         "textfont": {
          "family": "consolas",
          "size": 20
         },
         "textposition": "auto",
         "type": "bar",
         "x": [
          "Negative"
         ],
         "xaxis": "x",
         "y": [
          3.833333333333333
         ],
         "yaxis": "y"
        }
       ],
       "layout": {
        "barmode": "relative",
        "legend": {
         "title": {
          "text": "Sentiment"
         },
         "tracegroupgap": 0
        },
        "showlegend": false,
        "template": {
         "data": {
          "bar": [
           {
            "error_x": {
             "color": "#f2f5fa"
            },
            "error_y": {
             "color": "#f2f5fa"
            },
            "marker": {
             "line": {
              "color": "rgb(17,17,17)",
              "width": 0.5
             },
             "pattern": {
              "fillmode": "overlay",
              "size": 10,
              "solidity": 0.2
             }
            },
            "type": "bar"
           }
          ],
          "barpolar": [
           {
            "marker": {
             "line": {
              "color": "rgb(17,17,17)",
              "width": 0.5
             },
             "pattern": {
              "fillmode": "overlay",
              "size": 10,
              "solidity": 0.2
             }
            },
            "type": "barpolar"
           }
          ],
          "carpet": [
           {
            "aaxis": {
             "endlinecolor": "#A2B1C6",
             "gridcolor": "#506784",
             "linecolor": "#506784",
             "minorgridcolor": "#506784",
             "startlinecolor": "#A2B1C6"
            },
            "baxis": {
             "endlinecolor": "#A2B1C6",
             "gridcolor": "#506784",
             "linecolor": "#506784",
             "minorgridcolor": "#506784",
             "startlinecolor": "#A2B1C6"
            },
            "type": "carpet"
           }
          ],
          "choropleth": [
           {
            "colorbar": {
             "outlinewidth": 0,
             "ticks": ""
            },
            "type": "choropleth"
           }
          ],
          "contour": [
           {
            "colorbar": {
             "outlinewidth": 0,
             "ticks": ""
            },
            "colorscale": [
             [
              0,
              "#0d0887"
             ],
             [
              0.1111111111111111,
              "#46039f"
             ],
             [
              0.2222222222222222,
              "#7201a8"
             ],
             [
              0.3333333333333333,
              "#9c179e"
             ],
             [
              0.4444444444444444,
              "#bd3786"
             ],
             [
              0.5555555555555556,
              "#d8576b"
             ],
             [
              0.6666666666666666,
              "#ed7953"
             ],
             [
              0.7777777777777778,
              "#fb9f3a"
             ],
             [
              0.8888888888888888,
              "#fdca26"
             ],
             [
              1,
              "#f0f921"
             ]
            ],
            "type": "contour"
           }
          ],
          "contourcarpet": [
           {
            "colorbar": {
             "outlinewidth": 0,
             "ticks": ""
            },
            "type": "contourcarpet"
           }
          ],
          "heatmap": [
           {
            "colorbar": {
             "outlinewidth": 0,
             "ticks": ""
            },
            "colorscale": [
             [
              0,
              "#0d0887"
             ],
             [
              0.1111111111111111,
              "#46039f"
             ],
             [
              0.2222222222222222,
              "#7201a8"
             ],
             [
              0.3333333333333333,
              "#9c179e"
             ],
             [
              0.4444444444444444,
              "#bd3786"
             ],
             [
              0.5555555555555556,
              "#d8576b"
             ],
             [
              0.6666666666666666,
              "#ed7953"
             ],
             [
              0.7777777777777778,
              "#fb9f3a"
             ],
             [
              0.8888888888888888,
              "#fdca26"
             ],
             [
              1,
              "#f0f921"
             ]
            ],
            "type": "heatmap"
           }
          ],
          "heatmapgl": [
           {
            "colorbar": {
             "outlinewidth": 0,
             "ticks": ""
            },
            "colorscale": [
             [
              0,
              "#0d0887"
             ],
             [
              0.1111111111111111,
              "#46039f"
             ],
             [
              0.2222222222222222,
              "#7201a8"
             ],
             [
              0.3333333333333333,
              "#9c179e"
             ],
             [
              0.4444444444444444,
              "#bd3786"
             ],
             [
              0.5555555555555556,
              "#d8576b"
             ],
             [
              0.6666666666666666,
              "#ed7953"
             ],
             [
              0.7777777777777778,
              "#fb9f3a"
             ],
             [
              0.8888888888888888,
              "#fdca26"
             ],
             [
              1,
              "#f0f921"
             ]
            ],
            "type": "heatmapgl"
           }
          ],
          "histogram": [
           {
            "marker": {
             "pattern": {
              "fillmode": "overlay",
              "size": 10,
              "solidity": 0.2
             }
            },
            "type": "histogram"
           }
          ],
          "histogram2d": [
           {
            "colorbar": {
             "outlinewidth": 0,
             "ticks": ""
            },
            "colorscale": [
             [
              0,
              "#0d0887"
             ],
             [
              0.1111111111111111,
              "#46039f"
             ],
             [
              0.2222222222222222,
              "#7201a8"
             ],
             [
              0.3333333333333333,
              "#9c179e"
             ],
             [
              0.4444444444444444,
              "#bd3786"
             ],
             [
              0.5555555555555556,
              "#d8576b"
             ],
             [
              0.6666666666666666,
              "#ed7953"
             ],
             [
              0.7777777777777778,
              "#fb9f3a"
             ],
             [
              0.8888888888888888,
              "#fdca26"
             ],
             [
              1,
              "#f0f921"
             ]
            ],
            "type": "histogram2d"
           }
          ],
          "histogram2dcontour": [
           {
            "colorbar": {
             "outlinewidth": 0,
             "ticks": ""
            },
            "colorscale": [
             [
              0,
              "#0d0887"
             ],
             [
              0.1111111111111111,
              "#46039f"
             ],
             [
              0.2222222222222222,
              "#7201a8"
             ],
             [
              0.3333333333333333,
              "#9c179e"
             ],
             [
              0.4444444444444444,
              "#bd3786"
             ],
             [
              0.5555555555555556,
              "#d8576b"
             ],
             [
              0.6666666666666666,
              "#ed7953"
             ],
             [
              0.7777777777777778,
              "#fb9f3a"
             ],
             [
              0.8888888888888888,
              "#fdca26"
             ],
             [
              1,
              "#f0f921"
             ]
            ],
            "type": "histogram2dcontour"
           }
          ],
          "mesh3d": [
           {
            "colorbar": {
             "outlinewidth": 0,
             "ticks": ""
            },
            "type": "mesh3d"
           }
          ],
          "parcoords": [
           {
            "line": {
             "colorbar": {
              "outlinewidth": 0,
              "ticks": ""
             }
            },
            "type": "parcoords"
           }
          ],
          "pie": [
           {
            "automargin": true,
            "type": "pie"
           }
          ],
          "scatter": [
           {
            "marker": {
             "line": {
              "color": "#283442"
             }
            },
            "type": "scatter"
           }
          ],
          "scatter3d": [
           {
            "line": {
             "colorbar": {
              "outlinewidth": 0,
              "ticks": ""
             }
            },
            "marker": {
             "colorbar": {
              "outlinewidth": 0,
              "ticks": ""
             }
            },
            "type": "scatter3d"
           }
          ],
          "scattercarpet": [
           {
            "marker": {
             "colorbar": {
              "outlinewidth": 0,
              "ticks": ""
             }
            },
            "type": "scattercarpet"
           }
          ],
          "scattergeo": [
           {
            "marker": {
             "colorbar": {
              "outlinewidth": 0,
              "ticks": ""
             }
            },
            "type": "scattergeo"
           }
          ],
          "scattergl": [
           {
            "marker": {
             "line": {
              "color": "#283442"
             }
            },
            "type": "scattergl"
           }
          ],
          "scattermapbox": [
           {
            "marker": {
             "colorbar": {
              "outlinewidth": 0,
              "ticks": ""
             }
            },
            "type": "scattermapbox"
           }
          ],
          "scatterpolar": [
           {
            "marker": {
             "colorbar": {
              "outlinewidth": 0,
              "ticks": ""
             }
            },
            "type": "scatterpolar"
           }
          ],
          "scatterpolargl": [
           {
            "marker": {
             "colorbar": {
              "outlinewidth": 0,
              "ticks": ""
             }
            },
            "type": "scatterpolargl"
           }
          ],
          "scatterternary": [
           {
            "marker": {
             "colorbar": {
              "outlinewidth": 0,
              "ticks": ""
             }
            },
            "type": "scatterternary"
           }
          ],
          "surface": [
           {
            "colorbar": {
             "outlinewidth": 0,
             "ticks": ""
            },
            "colorscale": [
             [
              0,
              "#0d0887"
             ],
             [
              0.1111111111111111,
              "#46039f"
             ],
             [
              0.2222222222222222,
              "#7201a8"
             ],
             [
              0.3333333333333333,
              "#9c179e"
             ],
             [
              0.4444444444444444,
              "#bd3786"
             ],
             [
              0.5555555555555556,
              "#d8576b"
             ],
             [
              0.6666666666666666,
              "#ed7953"
             ],
             [
              0.7777777777777778,
              "#fb9f3a"
             ],
             [
              0.8888888888888888,
              "#fdca26"
             ],
             [
              1,
              "#f0f921"
             ]
            ],
            "type": "surface"
           }
          ],
          "table": [
           {
            "cells": {
             "fill": {
              "color": "#506784"
             },
             "line": {
              "color": "rgb(17,17,17)"
             }
            },
            "header": {
             "fill": {
              "color": "#2a3f5f"
             },
             "line": {
              "color": "rgb(17,17,17)"
             }
            },
            "type": "table"
           }
          ]
         },
         "layout": {
          "annotationdefaults": {
           "arrowcolor": "#f2f5fa",
           "arrowhead": 0,
           "arrowwidth": 1
          },
          "autotypenumbers": "strict",
          "coloraxis": {
           "colorbar": {
            "outlinewidth": 0,
            "ticks": ""
           }
          },
          "colorscale": {
           "diverging": [
            [
             0,
             "#8e0152"
            ],
            [
             0.1,
             "#c51b7d"
            ],
            [
             0.2,
             "#de77ae"
            ],
            [
             0.3,
             "#f1b6da"
            ],
            [
             0.4,
             "#fde0ef"
            ],
            [
             0.5,
             "#f7f7f7"
            ],
            [
             0.6,
             "#e6f5d0"
            ],
            [
             0.7,
             "#b8e186"
            ],
            [
             0.8,
             "#7fbc41"
            ],
            [
             0.9,
             "#4d9221"
            ],
            [
             1,
             "#276419"
            ]
           ],
           "sequential": [
            [
             0,
             "#0d0887"
            ],
            [
             0.1111111111111111,
             "#46039f"
            ],
            [
             0.2222222222222222,
             "#7201a8"
            ],
            [
             0.3333333333333333,
             "#9c179e"
            ],
            [
             0.4444444444444444,
             "#bd3786"
            ],
            [
             0.5555555555555556,
             "#d8576b"
            ],
            [
             0.6666666666666666,
             "#ed7953"
            ],
            [
             0.7777777777777778,
             "#fb9f3a"
            ],
            [
             0.8888888888888888,
             "#fdca26"
            ],
            [
             1,
             "#f0f921"
            ]
           ],
           "sequentialminus": [
            [
             0,
             "#0d0887"
            ],
            [
             0.1111111111111111,
             "#46039f"
            ],
            [
             0.2222222222222222,
             "#7201a8"
            ],
            [
             0.3333333333333333,
             "#9c179e"
            ],
            [
             0.4444444444444444,
             "#bd3786"
            ],
            [
             0.5555555555555556,
             "#d8576b"
            ],
            [
             0.6666666666666666,
             "#ed7953"
            ],
            [
             0.7777777777777778,
             "#fb9f3a"
            ],
            [
             0.8888888888888888,
             "#fdca26"
            ],
            [
             1,
             "#f0f921"
            ]
           ]
          },
          "colorway": [
           "#636efa",
           "#EF553B",
           "#00cc96",
           "#ab63fa",
           "#FFA15A",
           "#19d3f3",
           "#FF6692",
           "#B6E880",
           "#FF97FF",
           "#FECB52"
          ],
          "font": {
           "color": "#f2f5fa"
          },
          "geo": {
           "bgcolor": "rgb(17,17,17)",
           "lakecolor": "rgb(17,17,17)",
           "landcolor": "rgb(17,17,17)",
           "showlakes": true,
           "showland": true,
           "subunitcolor": "#506784"
          },
          "hoverlabel": {
           "align": "left"
          },
          "hovermode": "closest",
          "mapbox": {
           "style": "dark"
          },
          "paper_bgcolor": "rgb(17,17,17)",
          "plot_bgcolor": "rgb(17,17,17)",
          "polar": {
           "angularaxis": {
            "gridcolor": "#506784",
            "linecolor": "#506784",
            "ticks": ""
           },
           "bgcolor": "rgb(17,17,17)",
           "radialaxis": {
            "gridcolor": "#506784",
            "linecolor": "#506784",
            "ticks": ""
           }
          },
          "scene": {
           "xaxis": {
            "backgroundcolor": "rgb(17,17,17)",
            "gridcolor": "#506784",
            "gridwidth": 2,
            "linecolor": "#506784",
            "showbackground": true,
            "ticks": "",
            "zerolinecolor": "#C8D4E3"
           },
           "yaxis": {
            "backgroundcolor": "rgb(17,17,17)",
            "gridcolor": "#506784",
            "gridwidth": 2,
            "linecolor": "#506784",
            "showbackground": true,
            "ticks": "",
            "zerolinecolor": "#C8D4E3"
           },
           "zaxis": {
            "backgroundcolor": "rgb(17,17,17)",
            "gridcolor": "#506784",
            "gridwidth": 2,
            "linecolor": "#506784",
            "showbackground": true,
            "ticks": "",
            "zerolinecolor": "#C8D4E3"
           }
          },
          "shapedefaults": {
           "line": {
            "color": "#f2f5fa"
           }
          },
          "sliderdefaults": {
           "bgcolor": "#C8D4E3",
           "bordercolor": "rgb(17,17,17)",
           "borderwidth": 1,
           "tickwidth": 0
          },
          "ternary": {
           "aaxis": {
            "gridcolor": "#506784",
            "linecolor": "#506784",
            "ticks": ""
           },
           "baxis": {
            "gridcolor": "#506784",
            "linecolor": "#506784",
            "ticks": ""
           },
           "bgcolor": "rgb(17,17,17)",
           "caxis": {
            "gridcolor": "#506784",
            "linecolor": "#506784",
            "ticks": ""
           }
          },
          "title": {
           "x": 0.05
          },
          "updatemenudefaults": {
           "bgcolor": "#506784",
           "borderwidth": 0
          },
          "xaxis": {
           "automargin": true,
           "gridcolor": "#283442",
           "linecolor": "#506784",
           "ticks": "",
           "title": {
            "standoff": 15
           },
           "zerolinecolor": "#283442",
           "zerolinewidth": 2
          },
          "yaxis": {
           "automargin": true,
           "gridcolor": "#283442",
           "linecolor": "#506784",
           "ticks": "",
           "title": {
            "standoff": 15
           },
           "zerolinecolor": "#283442",
           "zerolinewidth": 2
          }
         }
        },
        "title": {
         "text": "Frequency of Sentiment Category in Percentage"
        },
        "xaxis": {
         "anchor": "y",
         "categoryarray": [
          "Positive",
          "Neutral",
          "Negative"
         ],
         "categoryorder": "array",
         "domain": [
          0,
          1
         ],
         "title": {
          "text": "Sentiment"
         }
        },
        "yaxis": {
         "anchor": "x",
         "domain": [
          0,
          1
         ],
         "title": {
          "text": "Frequency in (Percentage%)"
         }
        }
       }
      }
     },
     "metadata": {},
     "output_type": "display_data"
    }
   ],
   "source": [
    "from plotly.offline import iplot\n",
    "import plotly.express as px\n",
    "\n",
    "# Get the value counts for the 'Sentiment' column\n",
    "category = df[\"Sentiment\"].value_counts()\n",
    "\n",
    "# Create a bar plot for the sentiment category frequency in percentage\n",
    "fig = px.bar(category, \n",
    "             x=category.index,  # Sentiment categories (e.g., Positive, Negative)\n",
    "             y=(category / sum(category)) * 100,  # Percentage\n",
    "             color=category.index,  # Color by sentiment category\n",
    "             labels={\"y\": \"Frequency in (Percentage%)\", \"category\": \"Category\"},\n",
    "             title=\"Frequency of Sentiment Category in Percentage\",\n",
    "             text=category.apply(lambda x: f'{(x / sum(category)) * 100:.1f}%'),\n",
    "             template=\"plotly_dark\"\n",
    "            )\n",
    "\n",
    "# Customize the layout\n",
    "fig.update_layout(showlegend=False)\n",
    "\n",
    "# Customize the font for the text labels\n",
    "fig.update_traces(\n",
    "    textfont={\n",
    "        \"family\": \"consolas\",\n",
    "        \"size\": 20,        \n",
    "    }\n",
    ")\n",
    "\n",
    "# Display the plot\n",
    "iplot(fig)\n"
   ]
  }
 ],
 "metadata": {
  "kernelspec": {
   "display_name": "Python 3",
   "language": "python",
   "name": "python3"
  },
  "language_info": {
   "codemirror_mode": {
    "name": "ipython",
    "version": 3
   },
   "file_extension": ".py",
   "mimetype": "text/x-python",
   "name": "python",
   "nbconvert_exporter": "python",
   "pygments_lexer": "ipython3",
   "version": "3.8.0"
  }
 },
 "nbformat": 4,
 "nbformat_minor": 2
}
