{
 "cells": [
  {
   "cell_type": "code",
   "execution_count": 1,
   "metadata": {},
   "outputs": [
    {
     "name": "stdout",
     "output_type": "stream",
     "text": [
      "Product Name: SAMSUNG Galaxy S23 FE (Graphite, 128 GB)  (8 GB RAM)\n",
      "Error navigating to the next page: Message: \n",
      "Stacktrace:\n",
      "\tGetHandleVerifier [0x00007FF7D29DB125+29573]\n",
      "\t(No symbol) [0x00007FF7D294FF50]\n",
      "\t(No symbol) [0x00007FF7D280B6EA]\n",
      "\t(No symbol) [0x00007FF7D285F815]\n",
      "\t(No symbol) [0x00007FF7D285FA6C]\n",
      "\t(No symbol) [0x00007FF7D28AB917]\n",
      "\t(No symbol) [0x00007FF7D288733F]\n",
      "\t(No symbol) [0x00007FF7D28A86BC]\n",
      "\t(No symbol) [0x00007FF7D28870A3]\n",
      "\t(No symbol) [0x00007FF7D28512DF]\n",
      "\t(No symbol) [0x00007FF7D2852441]\n",
      "\tGetHandleVerifier [0x00007FF7D2D0C76D+3377613]\n",
      "\tGetHandleVerifier [0x00007FF7D2D57B67+3685831]\n",
      "\tGetHandleVerifier [0x00007FF7D2D4CF8B+3641835]\n",
      "\tGetHandleVerifier [0x00007FF7D2A9B2A6+816390]\n",
      "\t(No symbol) [0x00007FF7D295B25F]\n",
      "\t(No symbol) [0x00007FF7D2957084]\n",
      "\t(No symbol) [0x00007FF7D2957220]\n",
      "\t(No symbol) [0x00007FF7D294607F]\n",
      "\tBaseThreadInitThunk [0x00007FFB851E257D+29]\n",
      "\tRtlUserThreadStart [0x00007FFB86A6AF28+40]\n",
      "\n",
      "Product Name: Motorola Edge 50 Pro 5G with 125W Charger (Moonlight Pearl, 256 GB)  (12 GB RAM)\n",
      "Error navigating to the next page: Message: element click intercepted: Element <span>...</span> is not clickable at point (1293, 792). Other element would receive the click: <div class=\"H30l+S h-JV4l\">...</div>\n",
      "  (Session info: chrome=129.0.6668.90)\n",
      "Stacktrace:\n",
      "\tGetHandleVerifier [0x00007FF7D29DB125+29573]\n",
      "\t(No symbol) [0x00007FF7D294FF50]\n",
      "\t(No symbol) [0x00007FF7D280B6EA]\n",
      "\t(No symbol) [0x00007FF7D28674EE]\n",
      "\t(No symbol) [0x00007FF7D2864F3C]\n",
      "\t(No symbol) [0x00007FF7D2862408]\n",
      "\t(No symbol) [0x00007FF7D286161A]\n",
      "\t(No symbol) [0x00007FF7D28536BE]\n",
      "\t(No symbol) [0x00007FF7D28872FA]\n",
      "\t(No symbol) [0x00007FF7D2852FF6]\n",
      "\t(No symbol) [0x00007FF7D2887510]\n",
      "\t(No symbol) [0x00007FF7D28A86BC]\n",
      "\t(No symbol) [0x00007FF7D28870A3]\n",
      "\t(No symbol) [0x00007FF7D28512DF]\n",
      "\t(No symbol) [0x00007FF7D2852441]\n",
      "\tGetHandleVerifier [0x00007FF7D2D0C76D+3377613]\n",
      "\tGetHandleVerifier [0x00007FF7D2D57B67+3685831]\n",
      "\tGetHandleVerifier [0x00007FF7D2D4CF8B+3641835]\n",
      "\tGetHandleVerifier [0x00007FF7D2A9B2A6+816390]\n",
      "\t(No symbol) [0x00007FF7D295B25F]\n",
      "\t(No symbol) [0x00007FF7D2957084]\n",
      "\t(No symbol) [0x00007FF7D2957220]\n",
      "\t(No symbol) [0x00007FF7D294607F]\n",
      "\tBaseThreadInitThunk [0x00007FFB851E257D+29]\n",
      "\tRtlUserThreadStart [0x00007FFB86A6AF28+40]\n",
      "\n",
      "Product Name: realme 12 Pro+ 5G (Explorer Red, 256 GB)  (12 GB RAM)\n",
      "Error navigating to the next page: Message: \n",
      "Stacktrace:\n",
      "\tGetHandleVerifier [0x00007FF7D29DB125+29573]\n",
      "\t(No symbol) [0x00007FF7D294FF50]\n",
      "\t(No symbol) [0x00007FF7D280B6EA]\n",
      "\t(No symbol) [0x00007FF7D285F815]\n",
      "\t(No symbol) [0x00007FF7D285FA6C]\n",
      "\t(No symbol) [0x00007FF7D28AB917]\n",
      "\t(No symbol) [0x00007FF7D288733F]\n",
      "\t(No symbol) [0x00007FF7D28A86BC]\n",
      "\t(No symbol) [0x00007FF7D28870A3]\n",
      "\t(No symbol) [0x00007FF7D28512DF]\n",
      "\t(No symbol) [0x00007FF7D2852441]\n",
      "\tGetHandleVerifier [0x00007FF7D2D0C76D+3377613]\n",
      "\tGetHandleVerifier [0x00007FF7D2D57B67+3685831]\n",
      "\tGetHandleVerifier [0x00007FF7D2D4CF8B+3641835]\n",
      "\tGetHandleVerifier [0x00007FF7D2A9B2A6+816390]\n",
      "\t(No symbol) [0x00007FF7D295B25F]\n",
      "\t(No symbol) [0x00007FF7D2957084]\n",
      "\t(No symbol) [0x00007FF7D2957220]\n",
      "\t(No symbol) [0x00007FF7D294607F]\n",
      "\tBaseThreadInitThunk [0x00007FFB851E257D+29]\n",
      "\tRtlUserThreadStart [0x00007FFB86A6AF28+40]\n",
      "\n",
      "Product Name: Apple iPhone 12 (Blue, 128 GB)\n",
      "Error navigating to the next page: Message: \n",
      "Stacktrace:\n",
      "\tGetHandleVerifier [0x00007FF7D29DB125+29573]\n",
      "\t(No symbol) [0x00007FF7D294FF50]\n",
      "\t(No symbol) [0x00007FF7D280B6EA]\n",
      "\t(No symbol) [0x00007FF7D285F815]\n",
      "\t(No symbol) [0x00007FF7D285FA6C]\n",
      "\t(No symbol) [0x00007FF7D28AB917]\n",
      "\t(No symbol) [0x00007FF7D288733F]\n",
      "\t(No symbol) [0x00007FF7D28A86BC]\n",
      "\t(No symbol) [0x00007FF7D28870A3]\n",
      "\t(No symbol) [0x00007FF7D28512DF]\n",
      "\t(No symbol) [0x00007FF7D2852441]\n",
      "\tGetHandleVerifier [0x00007FF7D2D0C76D+3377613]\n",
      "\tGetHandleVerifier [0x00007FF7D2D57B67+3685831]\n",
      "\tGetHandleVerifier [0x00007FF7D2D4CF8B+3641835]\n",
      "\tGetHandleVerifier [0x00007FF7D2A9B2A6+816390]\n",
      "\t(No symbol) [0x00007FF7D295B25F]\n",
      "\t(No symbol) [0x00007FF7D2957084]\n",
      "\t(No symbol) [0x00007FF7D2957220]\n",
      "\t(No symbol) [0x00007FF7D294607F]\n",
      "\tBaseThreadInitThunk [0x00007FFB851E257D+29]\n",
      "\tRtlUserThreadStart [0x00007FFB86A6AF28+40]\n",
      "\n",
      "Product Name: OnePlus Nord 3 5G (Tempest Gray, 128 GB)  (8 GB RAM)\n",
      "Error navigating to the next page: Message: \n",
      "Stacktrace:\n",
      "\tGetHandleVerifier [0x00007FF7D29DB125+29573]\n",
      "\t(No symbol) [0x00007FF7D294FF50]\n",
      "\t(No symbol) [0x00007FF7D280B6EA]\n",
      "\t(No symbol) [0x00007FF7D285F815]\n",
      "\t(No symbol) [0x00007FF7D285FA6C]\n",
      "\t(No symbol) [0x00007FF7D28AB917]\n",
      "\t(No symbol) [0x00007FF7D288733F]\n",
      "\t(No symbol) [0x00007FF7D28A86BC]\n",
      "\t(No symbol) [0x00007FF7D28870A3]\n",
      "\t(No symbol) [0x00007FF7D28512DF]\n",
      "\t(No symbol) [0x00007FF7D2852441]\n",
      "\tGetHandleVerifier [0x00007FF7D2D0C76D+3377613]\n",
      "\tGetHandleVerifier [0x00007FF7D2D57B67+3685831]\n",
      "\tGetHandleVerifier [0x00007FF7D2D4CF8B+3641835]\n",
      "\tGetHandleVerifier [0x00007FF7D2A9B2A6+816390]\n",
      "\t(No symbol) [0x00007FF7D295B25F]\n",
      "\t(No symbol) [0x00007FF7D2957084]\n",
      "\t(No symbol) [0x00007FF7D2957220]\n",
      "\t(No symbol) [0x00007FF7D294607F]\n",
      "\tBaseThreadInitThunk [0x00007FFB851E257D+29]\n",
      "\tRtlUserThreadStart [0x00007FFB86A6AF28+40]\n",
      "\n",
      "Sucessful to download Flipkart Reviews \n"
     ]
    }
   ],
   "source": [
    "from selenium import webdriver\n",
    "from selenium.webdriver.chrome.service import Service\n",
    "from selenium.webdriver.common.by import By\n",
    "from selenium.webdriver.support.ui import WebDriverWait\n",
    "from selenium.webdriver.support import expected_conditions as EC\n",
    "import time\n",
    "from bs4 import BeautifulSoup\n",
    "import pandas as pd\n",
    "\n",
    "\n",
    "chrome_driver_path = \"C:/Users/bavan/Downloads/chromedriver-win64 (1)/chromedriver-win64/chromedriver.exe\"\n",
    "service = Service(chrome_driver_path)\n",
    "driver = webdriver.Chrome(service=service)\n",
    "\n",
    "\n",
    "urls = ['https://www.flipkart.com/samsung-galaxy-s23-fe-graphite-128-gb/p/itme751066521899?pid=MOBGVTA2836DQWTT&lid=LSTMOBGVTA2836DQWTTISGIME&marketplace=FLIPKART&q=20000+to+40000+mobile&store=tyy%2F4io&srno=s_1_11&otracker=AS_Query_OnlineSuffix_1_17_na_na_na&otracker1=AS_Query_OnlineSuffix_1_17_na_na_na&fm=organic&iid=ec5ee332-7942-414f-a948-0ca137688ad2.MOBGVTA2836DQWTT.SEARCH&ppt=clp&ppn=mobile-phones-store&ssid=j84nckqg5s0000001728217254232&qH=e28ec92a51ccd8a6',\n",
    "            'https://www.flipkart.com/motorola-edge-50-pro-5g-125w-charger-moonlight-pearl-256-gb/p/itm58844545548bd?pid=MOBGXFXYK3GVSARU&lid=LSTMOBGXFXYK3GVSARULH9LJF&marketplace=FLIPKART&q=20000+to+40000+mobile&store=tyy%2F4io&srno=s_2_37&otracker=AS_Query_OnlineSuffix_1_17_na_na_na&otracker1=AS_Query_OnlineSuffix_1_17_na_na_na&fm=search-autosuggest&iid=528b9b1c-4b01-423d-91f0-2bbca373ea0d.MOBGXFXYK3GVSARU.SEARCH&ppt=sp&ppn=sp&qH=e28ec92a51ccd8a6',\n",
    "            'https://www.flipkart.com/realme-12-pro-5g-explorer-red-256-gb/p/itm7f042fb6aebdb?pid=MOBGWH8SB4QUY3H7&lid=LSTMOBGWH8SB4QUY3H7UBIQFM&marketplace=FLIPKART&q=20000+to+40000+mobile&store=tyy%2F4io&srno=s_2_39&otracker=AS_Query_OnlineSuffix_1_17_na_na_na&otracker1=AS_Query_OnlineSuffix_1_17_na_na_na&fm=search-autosuggest&iid=528b9b1c-4b01-423d-91f0-2bbca373ea0d.MOBGWH8SB4QUY3H7.SEARCH&ppt=sp&ppn=sp&qH=e28ec92a51ccd8a6',\n",
    "            'https://www.flipkart.com/apple-iphone-12-blue-128-gb/p/itm02853ae92e90a?pid=MOBFWBYZKPTZF9VG&lid=LSTMOBFWBYZKPTZF9VGHUA0UC&marketplace=FLIPKART&q=20000+to+40000+mobile&store=tyy%2F4io&srno=s_1_2&otracker=AS_Query_OnlineSuffix_1_17_na_na_na&otracker1=AS_Query_OnlineSuffix_1_17_na_na_na&fm=search-autosuggest&iid=0228e3cd-b3ac-4e34-95b5-a66ec521c4c0.MOBFWBYZKPTZF9VG.SEARCH&ppt=sp&ppn=sp&qH=e28ec92a51ccd8a6',\n",
    "            'https://www.flipkart.com/oneplus-nord-3-5g-tempest-gray-128-gb/p/itm5fc87afce35dc?pid=MOBGRK2VXCKBADB5&lid=LSTMOBGRK2VXCKBADB5XYKXX3&marketplace=FLIPKART&q=20000+to+40000+mobile&store=tyy%2F4io&srno=s_1_3&otracker=AS_Query_OnlineSuffix_1_17_na_na_na&otracker1=AS_Query_OnlineSuffix_1_17_na_na_na&fm=search-autosuggest&iid=2e7f1777-2272-4777-9239-362acaed3b0c.MOBGRK2VXCKBADB5.SEARCH&ppt=sp&ppn=sp&qH=e28ec92a51ccd8a6'\n",
    "            ]\n",
    "\n",
    "\n",
    "\n",
    "data = []\n",
    "\n",
    "\n",
    "\n",
    "def E_Commerce(url):\n",
    "    product_id = url.split('pid=')[1].split('&')[0]\n",
    "    driver.get(url)  # Load the URL\n",
    "    driver.maximize_window()\n",
    "    time.sleep(5)  # Let the page load completely\n",
    "\n",
    "\n",
    "    try:\n",
    "        soup = BeautifulSoup(driver.page_source, \"html.parser\")\n",
    "        product_name_tag = soup.find('span', class_='VU-ZEz') # Adjust class name accordingly\n",
    "        product_name = product_name_tag.text if product_name_tag else 'N/A'  # Safely handle if tag is not found\n",
    "        print(f\"Product Name: {product_name}\")\n",
    "\n",
    "       # Click to navigate to the review section\n",
    "        view = driver.find_element(By.CSS_SELECTOR, \n",
    "                                    '#container > div > div._39kFie.N3De93.JxFEK3._48O0EI > div.DOjaWF.YJG4Cf > div.DOjaWF.gdgoEp.col-8-12 > div.DOjaWF.gdgoEp > div:nth-child(7) > div > a > div, \\\n",
    "                                    #container > div > div._39kFie.N3De93.JxFEK3._48O0EI > div.DOjaWF.YJG4Cf > div.DOjaWF.gdgoEp.col-8-12 > div.DOjaWF.gdgoEp > div > div > div:nth-child(6) > div > a > div > span, \\\n",
    "                                    #container > div > div._39kFie.N3De93.JxFEK3._48O0EI > div.DOjaWF.YJG4Cf > div.DOjaWF.gdgoEp.col-8-12 > div.DOjaWF.gdgoEp > div:nth-child(6) > div > a > div > span')\n",
    "                                    \n",
    "        driver.execute_script(\"arguments[0].scrollIntoView(true);\", view)  # Scroll to the element\n",
    "        time.sleep(1)  # Give the page time to adjust\n",
    "\n",
    "        # Use JavaScript to click the element\n",
    "        driver.execute_script(\"arguments[0].click();\", view)\n",
    "        time.sleep(5)  # Wait for the next page to load\n",
    "\n",
    "\n",
    "        # Click \"READ MORE\" buttons if present\n",
    "        try:\n",
    "            read_more_buttons = driver.find_elements(By.CSS_SELECTOR, \"#container > div > div.VLIitu > div > div > div.DOjaWF.gdgoEp.col-9-12 > div > div > div > div > div > div > div > span > span\")  # Adjust the class to match \"READ MORE\"\n",
    "            for button in read_more_buttons:\n",
    "                driver.execute_script(\"arguments[0].click();\", button)\n",
    "                time.sleep(1)  # Allow time for content to expand\n",
    "        except:\n",
    "            pass\n",
    "            \n",
    "        # Handle pagination and click \"Next\"\n",
    "        while True:\n",
    "            soup = BeautifulSoup(driver.page_source, \"html.parser\")\n",
    "            reviews = soup.find_all('div', class_='ZmyHeo')  # Adjust the class name to match review section\n",
    "            ratings = soup.find_all('div',class_='XQDdHH Ga3i8K')\n",
    "            for review , rating in zip(reviews,ratings):\n",
    "                review_text = review.text\n",
    "                rating_text  = rating.text.strip() \n",
    "                data.append({\n",
    "                    'Product ID': product_id,\n",
    "                    'Product Name' : product_name,\n",
    "                    'Reviews Text' : review_text,\n",
    "                    'Rating Stars ' : rating_text\n",
    "                })\n",
    "\n",
    "            try:\n",
    "                next_button = WebDriverWait(driver, 10).until(\n",
    "                    EC.element_to_be_clickable((By.CSS_SELECTOR, \".cn\\+\\+Ap+ ._9QVEpD span\"))\n",
    "                )\n",
    "                next_button.click()\n",
    "                time.sleep(5)  # Wait for the next page to load\n",
    "            except Exception as e:\n",
    "                print(f\"Error navigating to the next page: {e}\")\n",
    "                break\n",
    "\n",
    "    except Exception as e:\n",
    "        print(f\"Error: {e}\")\n",
    " \n",
    "        \n",
    "\n",
    "# Loop through each URL in the list\n",
    "for url in urls:\n",
    "    try:\n",
    "        E_Commerce(url)\n",
    "    except Exception as e:\n",
    "        print(f\"Error occurred for {url}: {e}\")\n",
    "        continue\n",
    "\n",
    "\n",
    "# Save the scraped data\n",
    "df = pd.DataFrame(data)\n",
    "df['Reviews Text'] = df['Reviews Text'].str.replace('READ MORE', '', regex=False)\n",
    "df.to_csv('flipkart_reviews.csv', index=False, encoding='utf-8-sig')\n",
    "print(\"Sucessful to download Flipkart Reviews \")\n",
    "\n",
    "\n",
    "# Close the browser once all URLs are processed\n",
    "driver.quit()\n"
   ]
  },
  {
   "cell_type": "code",
   "execution_count": 1,
   "metadata": {},
   "outputs": [
    {
     "data": {
      "text/html": [
       "<div>\n",
       "<style scoped>\n",
       "    .dataframe tbody tr th:only-of-type {\n",
       "        vertical-align: middle;\n",
       "    }\n",
       "\n",
       "    .dataframe tbody tr th {\n",
       "        vertical-align: top;\n",
       "    }\n",
       "\n",
       "    .dataframe thead th {\n",
       "        text-align: right;\n",
       "    }\n",
       "</style>\n",
       "<table border=\"1\" class=\"dataframe\">\n",
       "  <thead>\n",
       "    <tr style=\"text-align: right;\">\n",
       "      <th></th>\n",
       "      <th>Product ID</th>\n",
       "      <th>Product Name</th>\n",
       "      <th>Reviews Text</th>\n",
       "      <th>Rating Stars</th>\n",
       "    </tr>\n",
       "  </thead>\n",
       "  <tbody>\n",
       "    <tr>\n",
       "      <th>0</th>\n",
       "      <td>MOBGVTA2836DQWTT</td>\n",
       "      <td>SAMSUNG Galaxy S23 FE (Graphite, 128 GB)  (8 G...</td>\n",
       "      <td>The camera is next level. But I'm facing some ...</td>\n",
       "      <td>4</td>\n",
       "    </tr>\n",
       "    <tr>\n",
       "      <th>1</th>\n",
       "      <td>MOBGVTA2836DQWTT</td>\n",
       "      <td>SAMSUNG Galaxy S23 FE (Graphite, 128 GB)  (8 G...</td>\n",
       "      <td>Camera quality is amazing</td>\n",
       "      <td>5</td>\n",
       "    </tr>\n",
       "    <tr>\n",
       "      <th>2</th>\n",
       "      <td>MOBGVTA2836DQWTT</td>\n",
       "      <td>SAMSUNG Galaxy S23 FE (Graphite, 128 GB)  (8 G...</td>\n",
       "      <td>Awesome photography like apple must buy don't ...</td>\n",
       "      <td>5</td>\n",
       "    </tr>\n",
       "    <tr>\n",
       "      <th>3</th>\n",
       "      <td>MOBGVTA2836DQWTT</td>\n",
       "      <td>SAMSUNG Galaxy S23 FE (Graphite, 128 GB)  (8 G...</td>\n",
       "      <td>Camera and display is superb 👌 But bettary is ...</td>\n",
       "      <td>4</td>\n",
       "    </tr>\n",
       "    <tr>\n",
       "      <th>4</th>\n",
       "      <td>MOBGVTA2836DQWTT</td>\n",
       "      <td>SAMSUNG Galaxy S23 FE (Graphite, 128 GB)  (8 G...</td>\n",
       "      <td>Awesome phone 👍📱</td>\n",
       "      <td>5</td>\n",
       "    </tr>\n",
       "  </tbody>\n",
       "</table>\n",
       "</div>"
      ],
      "text/plain": [
       "         Product ID                                       Product Name  \\\n",
       "0  MOBGVTA2836DQWTT  SAMSUNG Galaxy S23 FE (Graphite, 128 GB)  (8 G...   \n",
       "1  MOBGVTA2836DQWTT  SAMSUNG Galaxy S23 FE (Graphite, 128 GB)  (8 G...   \n",
       "2  MOBGVTA2836DQWTT  SAMSUNG Galaxy S23 FE (Graphite, 128 GB)  (8 G...   \n",
       "3  MOBGVTA2836DQWTT  SAMSUNG Galaxy S23 FE (Graphite, 128 GB)  (8 G...   \n",
       "4  MOBGVTA2836DQWTT  SAMSUNG Galaxy S23 FE (Graphite, 128 GB)  (8 G...   \n",
       "\n",
       "                                        Reviews Text  Rating Stars   \n",
       "0  The camera is next level. But I'm facing some ...              4  \n",
       "1                          Camera quality is amazing              5  \n",
       "2  Awesome photography like apple must buy don't ...              5  \n",
       "3  Camera and display is superb 👌 But bettary is ...              4  \n",
       "4                                   Awesome phone 👍📱              5  "
      ]
     },
     "execution_count": 1,
     "metadata": {},
     "output_type": "execute_result"
    }
   ],
   "source": [
    "import pandas as pd\n",
    "df = pd.read_csv('C:/Users/bavan/Downloads/last/flipkart_reviews.csv')\n",
    "df.head()"
   ]
  },
  {
   "cell_type": "code",
   "execution_count": 2,
   "metadata": {},
   "outputs": [
    {
     "name": "stdout",
     "output_type": "stream",
     "text": [
      "<class 'pandas.core.frame.DataFrame'>\n",
      "RangeIndex: 600 entries, 0 to 599\n",
      "Data columns (total 4 columns):\n",
      " #   Column         Non-Null Count  Dtype \n",
      "---  ------         --------------  ----- \n",
      " 0   Product ID     600 non-null    object\n",
      " 1   Product Name   600 non-null    object\n",
      " 2   Reviews Text   600 non-null    object\n",
      " 3   Rating Stars   600 non-null    int64 \n",
      "dtypes: int64(1), object(3)\n",
      "memory usage: 18.9+ KB\n"
     ]
    }
   ],
   "source": [
    "df.info()"
   ]
  },
  {
   "cell_type": "code",
   "execution_count": 3,
   "metadata": {},
   "outputs": [],
   "source": [
    "# Create a unique ID column using the DataFrame's index\n",
    "df['UniqueID'] = df.index + 1  # or any other transformation"
   ]
  },
  {
   "cell_type": "code",
   "execution_count": 4,
   "metadata": {},
   "outputs": [
    {
     "data": {
      "text/html": [
       "<div>\n",
       "<style scoped>\n",
       "    .dataframe tbody tr th:only-of-type {\n",
       "        vertical-align: middle;\n",
       "    }\n",
       "\n",
       "    .dataframe tbody tr th {\n",
       "        vertical-align: top;\n",
       "    }\n",
       "\n",
       "    .dataframe thead th {\n",
       "        text-align: right;\n",
       "    }\n",
       "</style>\n",
       "<table border=\"1\" class=\"dataframe\">\n",
       "  <thead>\n",
       "    <tr style=\"text-align: right;\">\n",
       "      <th></th>\n",
       "      <th>Product ID</th>\n",
       "      <th>Product Name</th>\n",
       "      <th>Reviews Text</th>\n",
       "      <th>Rating Stars</th>\n",
       "      <th>UniqueID</th>\n",
       "    </tr>\n",
       "  </thead>\n",
       "  <tbody>\n",
       "    <tr>\n",
       "      <th>0</th>\n",
       "      <td>MOBGVTA2836DQWTT</td>\n",
       "      <td>SAMSUNG Galaxy S23 FE (Graphite, 128 GB)  (8 G...</td>\n",
       "      <td>The camera is next level. But I'm facing some ...</td>\n",
       "      <td>4</td>\n",
       "      <td>1</td>\n",
       "    </tr>\n",
       "    <tr>\n",
       "      <th>1</th>\n",
       "      <td>MOBGVTA2836DQWTT</td>\n",
       "      <td>SAMSUNG Galaxy S23 FE (Graphite, 128 GB)  (8 G...</td>\n",
       "      <td>Camera quality is amazing</td>\n",
       "      <td>5</td>\n",
       "      <td>2</td>\n",
       "    </tr>\n",
       "    <tr>\n",
       "      <th>2</th>\n",
       "      <td>MOBGVTA2836DQWTT</td>\n",
       "      <td>SAMSUNG Galaxy S23 FE (Graphite, 128 GB)  (8 G...</td>\n",
       "      <td>Awesome photography like apple must buy don't ...</td>\n",
       "      <td>5</td>\n",
       "      <td>3</td>\n",
       "    </tr>\n",
       "    <tr>\n",
       "      <th>3</th>\n",
       "      <td>MOBGVTA2836DQWTT</td>\n",
       "      <td>SAMSUNG Galaxy S23 FE (Graphite, 128 GB)  (8 G...</td>\n",
       "      <td>Camera and display is superb 👌 But bettary is ...</td>\n",
       "      <td>4</td>\n",
       "      <td>4</td>\n",
       "    </tr>\n",
       "    <tr>\n",
       "      <th>4</th>\n",
       "      <td>MOBGVTA2836DQWTT</td>\n",
       "      <td>SAMSUNG Galaxy S23 FE (Graphite, 128 GB)  (8 G...</td>\n",
       "      <td>Awesome phone 👍📱</td>\n",
       "      <td>5</td>\n",
       "      <td>5</td>\n",
       "    </tr>\n",
       "  </tbody>\n",
       "</table>\n",
       "</div>"
      ],
      "text/plain": [
       "         Product ID                                       Product Name  \\\n",
       "0  MOBGVTA2836DQWTT  SAMSUNG Galaxy S23 FE (Graphite, 128 GB)  (8 G...   \n",
       "1  MOBGVTA2836DQWTT  SAMSUNG Galaxy S23 FE (Graphite, 128 GB)  (8 G...   \n",
       "2  MOBGVTA2836DQWTT  SAMSUNG Galaxy S23 FE (Graphite, 128 GB)  (8 G...   \n",
       "3  MOBGVTA2836DQWTT  SAMSUNG Galaxy S23 FE (Graphite, 128 GB)  (8 G...   \n",
       "4  MOBGVTA2836DQWTT  SAMSUNG Galaxy S23 FE (Graphite, 128 GB)  (8 G...   \n",
       "\n",
       "                                        Reviews Text  Rating Stars   UniqueID  \n",
       "0  The camera is next level. But I'm facing some ...              4         1  \n",
       "1                          Camera quality is amazing              5         2  \n",
       "2  Awesome photography like apple must buy don't ...              5         3  \n",
       "3  Camera and display is superb 👌 But bettary is ...              4         4  \n",
       "4                                   Awesome phone 👍📱              5         5  "
      ]
     },
     "execution_count": 4,
     "metadata": {},
     "output_type": "execute_result"
    }
   ],
   "source": [
    "df.head()"
   ]
  },
  {
   "cell_type": "code",
   "execution_count": 5,
   "metadata": {},
   "outputs": [
    {
     "data": {
      "text/html": [
       "<div>\n",
       "<style scoped>\n",
       "    .dataframe tbody tr th:only-of-type {\n",
       "        vertical-align: middle;\n",
       "    }\n",
       "\n",
       "    .dataframe tbody tr th {\n",
       "        vertical-align: top;\n",
       "    }\n",
       "\n",
       "    .dataframe thead th {\n",
       "        text-align: right;\n",
       "    }\n",
       "</style>\n",
       "<table border=\"1\" class=\"dataframe\">\n",
       "  <thead>\n",
       "    <tr style=\"text-align: right;\">\n",
       "      <th></th>\n",
       "      <th>UniqueID</th>\n",
       "      <th>Product ID</th>\n",
       "      <th>Product Name</th>\n",
       "      <th>Reviews Text</th>\n",
       "      <th>Rating Stars</th>\n",
       "    </tr>\n",
       "  </thead>\n",
       "  <tbody>\n",
       "    <tr>\n",
       "      <th>0</th>\n",
       "      <td>1</td>\n",
       "      <td>MOBGVTA2836DQWTT</td>\n",
       "      <td>SAMSUNG Galaxy S23 FE (Graphite, 128 GB)  (8 G...</td>\n",
       "      <td>The camera is next level. But I'm facing some ...</td>\n",
       "      <td>4</td>\n",
       "    </tr>\n",
       "    <tr>\n",
       "      <th>1</th>\n",
       "      <td>2</td>\n",
       "      <td>MOBGVTA2836DQWTT</td>\n",
       "      <td>SAMSUNG Galaxy S23 FE (Graphite, 128 GB)  (8 G...</td>\n",
       "      <td>Camera quality is amazing</td>\n",
       "      <td>5</td>\n",
       "    </tr>\n",
       "    <tr>\n",
       "      <th>2</th>\n",
       "      <td>3</td>\n",
       "      <td>MOBGVTA2836DQWTT</td>\n",
       "      <td>SAMSUNG Galaxy S23 FE (Graphite, 128 GB)  (8 G...</td>\n",
       "      <td>Awesome photography like apple must buy don't ...</td>\n",
       "      <td>5</td>\n",
       "    </tr>\n",
       "    <tr>\n",
       "      <th>3</th>\n",
       "      <td>4</td>\n",
       "      <td>MOBGVTA2836DQWTT</td>\n",
       "      <td>SAMSUNG Galaxy S23 FE (Graphite, 128 GB)  (8 G...</td>\n",
       "      <td>Camera and display is superb 👌 But bettary is ...</td>\n",
       "      <td>4</td>\n",
       "    </tr>\n",
       "    <tr>\n",
       "      <th>4</th>\n",
       "      <td>5</td>\n",
       "      <td>MOBGVTA2836DQWTT</td>\n",
       "      <td>SAMSUNG Galaxy S23 FE (Graphite, 128 GB)  (8 G...</td>\n",
       "      <td>Awesome phone 👍📱</td>\n",
       "      <td>5</td>\n",
       "    </tr>\n",
       "    <tr>\n",
       "      <th>...</th>\n",
       "      <td>...</td>\n",
       "      <td>...</td>\n",
       "      <td>...</td>\n",
       "      <td>...</td>\n",
       "      <td>...</td>\n",
       "    </tr>\n",
       "    <tr>\n",
       "      <th>595</th>\n",
       "      <td>596</td>\n",
       "      <td>MOBGRK2VXCKBADB5</td>\n",
       "      <td>OnePlus Nord 3 5G (Tempest Gray, 128 GB)  (8 G...</td>\n",
       "      <td>Best phone</td>\n",
       "      <td>5</td>\n",
       "    </tr>\n",
       "    <tr>\n",
       "      <th>596</th>\n",
       "      <td>597</td>\n",
       "      <td>MOBGRK2VXCKBADB5</td>\n",
       "      <td>OnePlus Nord 3 5G (Tempest Gray, 128 GB)  (8 G...</td>\n",
       "      <td>Proserser is very fast but camra issu</td>\n",
       "      <td>3</td>\n",
       "    </tr>\n",
       "    <tr>\n",
       "      <th>597</th>\n",
       "      <td>598</td>\n",
       "      <td>MOBGRK2VXCKBADB5</td>\n",
       "      <td>OnePlus Nord 3 5G (Tempest Gray, 128 GB)  (8 G...</td>\n",
       "      <td>Phone is very good.but battery is not good.</td>\n",
       "      <td>4</td>\n",
       "    </tr>\n",
       "    <tr>\n",
       "      <th>598</th>\n",
       "      <td>599</td>\n",
       "      <td>MOBGRK2VXCKBADB5</td>\n",
       "      <td>OnePlus Nord 3 5G (Tempest Gray, 128 GB)  (8 G...</td>\n",
       "      <td>Nice camera</td>\n",
       "      <td>3</td>\n",
       "    </tr>\n",
       "    <tr>\n",
       "      <th>599</th>\n",
       "      <td>600</td>\n",
       "      <td>MOBGRK2VXCKBADB5</td>\n",
       "      <td>OnePlus Nord 3 5G (Tempest Gray, 128 GB)  (8 G...</td>\n",
       "      <td>Nice performance this mobile Nord 3</td>\n",
       "      <td>5</td>\n",
       "    </tr>\n",
       "  </tbody>\n",
       "</table>\n",
       "<p>600 rows × 5 columns</p>\n",
       "</div>"
      ],
      "text/plain": [
       "     UniqueID        Product ID  \\\n",
       "0           1  MOBGVTA2836DQWTT   \n",
       "1           2  MOBGVTA2836DQWTT   \n",
       "2           3  MOBGVTA2836DQWTT   \n",
       "3           4  MOBGVTA2836DQWTT   \n",
       "4           5  MOBGVTA2836DQWTT   \n",
       "..        ...               ...   \n",
       "595       596  MOBGRK2VXCKBADB5   \n",
       "596       597  MOBGRK2VXCKBADB5   \n",
       "597       598  MOBGRK2VXCKBADB5   \n",
       "598       599  MOBGRK2VXCKBADB5   \n",
       "599       600  MOBGRK2VXCKBADB5   \n",
       "\n",
       "                                          Product Name  \\\n",
       "0    SAMSUNG Galaxy S23 FE (Graphite, 128 GB)  (8 G...   \n",
       "1    SAMSUNG Galaxy S23 FE (Graphite, 128 GB)  (8 G...   \n",
       "2    SAMSUNG Galaxy S23 FE (Graphite, 128 GB)  (8 G...   \n",
       "3    SAMSUNG Galaxy S23 FE (Graphite, 128 GB)  (8 G...   \n",
       "4    SAMSUNG Galaxy S23 FE (Graphite, 128 GB)  (8 G...   \n",
       "..                                                 ...   \n",
       "595  OnePlus Nord 3 5G (Tempest Gray, 128 GB)  (8 G...   \n",
       "596  OnePlus Nord 3 5G (Tempest Gray, 128 GB)  (8 G...   \n",
       "597  OnePlus Nord 3 5G (Tempest Gray, 128 GB)  (8 G...   \n",
       "598  OnePlus Nord 3 5G (Tempest Gray, 128 GB)  (8 G...   \n",
       "599  OnePlus Nord 3 5G (Tempest Gray, 128 GB)  (8 G...   \n",
       "\n",
       "                                          Reviews Text  Rating Stars   \n",
       "0    The camera is next level. But I'm facing some ...              4  \n",
       "1                            Camera quality is amazing              5  \n",
       "2    Awesome photography like apple must buy don't ...              5  \n",
       "3    Camera and display is superb 👌 But bettary is ...              4  \n",
       "4                                     Awesome phone 👍📱              5  \n",
       "..                                                 ...            ...  \n",
       "595                                         Best phone              5  \n",
       "596              Proserser is very fast but camra issu              3  \n",
       "597        Phone is very good.but battery is not good.              4  \n",
       "598                                        Nice camera              3  \n",
       "599                Nice performance this mobile Nord 3              5  \n",
       "\n",
       "[600 rows x 5 columns]"
      ]
     },
     "execution_count": 5,
     "metadata": {},
     "output_type": "execute_result"
    }
   ],
   "source": [
    "# Assuming your DataFrame is named 'df'\n",
    "cols = list(df.columns)  # Get the list of all column names\n",
    "# Reorder the columns: Move 'UniqueID' to the front, followed by other columns\n",
    "cols = ['UniqueID'] + [col for col in cols if col != 'UniqueID']\n",
    "df = df[cols]  # Apply the new column order to the DataFrame\n",
    "df"
   ]
  },
  {
   "cell_type": "code",
   "execution_count": 6,
   "metadata": {},
   "outputs": [
    {
     "data": {
      "text/plain": [
       "UniqueID         0\n",
       "Product ID       0\n",
       "Product Name     0\n",
       "Reviews Text     0\n",
       "Rating Stars     0\n",
       "dtype: int64"
      ]
     },
     "execution_count": 6,
     "metadata": {},
     "output_type": "execute_result"
    }
   ],
   "source": [
    "df.isnull().sum()"
   ]
  },
  {
   "cell_type": "code",
   "execution_count": 7,
   "metadata": {},
   "outputs": [],
   "source": [
    "df.to_csv('Cleaned Data.csv',index= False)\n"
   ]
  },
  {
   "cell_type": "code",
   "execution_count": 8,
   "metadata": {},
   "outputs": [
    {
     "name": "stdout",
     "output_type": "stream",
     "text": [
      "All unwanted emojis removed and cleaned data saved to 'cleaned_mobile_data.csv'.\n",
      "   UniqueID        Product ID  \\\n",
      "0         1  MOBGVTA2836DQWTT   \n",
      "1         2  MOBGVTA2836DQWTT   \n",
      "2         3  MOBGVTA2836DQWTT   \n",
      "3         4  MOBGVTA2836DQWTT   \n",
      "4         5  MOBGVTA2836DQWTT   \n",
      "\n",
      "                                        Product Name  \\\n",
      "0  SAMSUNG Galaxy S23 FE (Graphite, 128 GB)  (8 G...   \n",
      "1  SAMSUNG Galaxy S23 FE (Graphite, 128 GB)  (8 G...   \n",
      "2  SAMSUNG Galaxy S23 FE (Graphite, 128 GB)  (8 G...   \n",
      "3  SAMSUNG Galaxy S23 FE (Graphite, 128 GB)  (8 G...   \n",
      "4  SAMSUNG Galaxy S23 FE (Graphite, 128 GB)  (8 G...   \n",
      "\n",
      "                                        Reviews Text  Rating Stars   \n",
      "0  The camera is next level. But I'm facing some ...              4  \n",
      "1                          Camera quality is amazing              5  \n",
      "2  Awesome photography like apple must buy don't ...              5  \n",
      "3  Camera and display is superb  But bettary is a...              4  \n",
      "4                                     Awesome phone               5  \n"
     ]
    }
   ],
   "source": [
    "import pandas as pd\n",
    "import re\n",
    "\n",
    "# Load the CSV file into a DataFrame\n",
    "df = pd.read_csv('C:/Users/bavan/Downloads/last/Cleaned Data.csv')\n",
    "\n",
    "# Function to remove all emojis\n",
    "def remove_all_emojis(text):\n",
    "    # Regular expression pattern to match emojis\n",
    "    emoji_pattern = re.compile(\n",
    "        \"[\\U0001F600-\\U0001F64F\"  # emoticons\n",
    "        \"\\U0001F300-\\U0001F5FF\"  # symbols & pictographs\n",
    "        \"\\U0001F680-\\U0001F6FF\"  # transport & map symbols\n",
    "        \"\\U0001F700-\\U0001F77F\"  # alchemical symbols\n",
    "        \"\\U0001F780-\\U0001F7FF\"  # Geometric Shapes Extended\n",
    "        \"\\U0001F800-\\U0001F8FF\"  # Supplemental Arrows-C\n",
    "        \"\\U0001F900-\\U0001F9FF\"  # Supplemental Symbols and Pictographs\n",
    "        \"\\U0001FA00-\\U0001FA6F\"  # Chess Symbols\n",
    "        \"\\U00002702-\\U000027B0\"  # Dingbats\n",
    "        \"]+\", flags=re.UNICODE)\n",
    "    return emoji_pattern.sub(r'', text)  # Replace emojis with an empty string\n",
    "\n",
    "# Check if 'review' column exists in the DataFrame\n",
    "if 'Reviews Text' in df.columns:\n",
    "    # Apply the function to the 'review' column\n",
    "    df['Reviews Text'] = df['Reviews Text'].apply(remove_all_emojis)\n",
    "\n",
    "    # Optionally, save the cleaned DataFrame to a new CSV file\n",
    "    df.to_csv('cleaned_mobile_data.csv', index=False)\n",
    "    print(\"All unwanted emojis removed and cleaned data saved to 'cleaned_mobile_data.csv'.\")\n",
    "else:\n",
    "    print(\"The 'review' column does not exist in the dataset.\")\n",
    "\n",
    "# Display the updated DataFrame\n",
    "print(df.head())  # Display the first few rows to verify\n"
   ]
  },
  {
   "cell_type": "code",
   "execution_count": 9,
   "metadata": {},
   "outputs": [
    {
     "data": {
      "text/html": [
       "<div>\n",
       "<style scoped>\n",
       "    .dataframe tbody tr th:only-of-type {\n",
       "        vertical-align: middle;\n",
       "    }\n",
       "\n",
       "    .dataframe tbody tr th {\n",
       "        vertical-align: top;\n",
       "    }\n",
       "\n",
       "    .dataframe thead th {\n",
       "        text-align: right;\n",
       "    }\n",
       "</style>\n",
       "<table border=\"1\" class=\"dataframe\">\n",
       "  <thead>\n",
       "    <tr style=\"text-align: right;\">\n",
       "      <th></th>\n",
       "      <th>UniqueID</th>\n",
       "      <th>Product ID</th>\n",
       "      <th>Product Name</th>\n",
       "      <th>Reviews Text</th>\n",
       "      <th>Rating Stars</th>\n",
       "    </tr>\n",
       "  </thead>\n",
       "  <tbody>\n",
       "    <tr>\n",
       "      <th>0</th>\n",
       "      <td>1</td>\n",
       "      <td>MOBGVTA2836DQWTT</td>\n",
       "      <td>SAMSUNG Galaxy S23 FE (Graphite, 128 GB)  (8 G...</td>\n",
       "      <td>The camera is next level. But I'm facing some ...</td>\n",
       "      <td>4</td>\n",
       "    </tr>\n",
       "    <tr>\n",
       "      <th>1</th>\n",
       "      <td>2</td>\n",
       "      <td>MOBGVTA2836DQWTT</td>\n",
       "      <td>SAMSUNG Galaxy S23 FE (Graphite, 128 GB)  (8 G...</td>\n",
       "      <td>Camera quality is amazing</td>\n",
       "      <td>5</td>\n",
       "    </tr>\n",
       "    <tr>\n",
       "      <th>2</th>\n",
       "      <td>3</td>\n",
       "      <td>MOBGVTA2836DQWTT</td>\n",
       "      <td>SAMSUNG Galaxy S23 FE (Graphite, 128 GB)  (8 G...</td>\n",
       "      <td>Awesome photography like apple must buy don't ...</td>\n",
       "      <td>5</td>\n",
       "    </tr>\n",
       "    <tr>\n",
       "      <th>3</th>\n",
       "      <td>4</td>\n",
       "      <td>MOBGVTA2836DQWTT</td>\n",
       "      <td>SAMSUNG Galaxy S23 FE (Graphite, 128 GB)  (8 G...</td>\n",
       "      <td>Camera and display is superb  But bettary is a...</td>\n",
       "      <td>4</td>\n",
       "    </tr>\n",
       "    <tr>\n",
       "      <th>4</th>\n",
       "      <td>5</td>\n",
       "      <td>MOBGVTA2836DQWTT</td>\n",
       "      <td>SAMSUNG Galaxy S23 FE (Graphite, 128 GB)  (8 G...</td>\n",
       "      <td>Awesome phone</td>\n",
       "      <td>5</td>\n",
       "    </tr>\n",
       "    <tr>\n",
       "      <th>...</th>\n",
       "      <td>...</td>\n",
       "      <td>...</td>\n",
       "      <td>...</td>\n",
       "      <td>...</td>\n",
       "      <td>...</td>\n",
       "    </tr>\n",
       "    <tr>\n",
       "      <th>595</th>\n",
       "      <td>596</td>\n",
       "      <td>MOBGRK2VXCKBADB5</td>\n",
       "      <td>OnePlus Nord 3 5G (Tempest Gray, 128 GB)  (8 G...</td>\n",
       "      <td>Best phone</td>\n",
       "      <td>5</td>\n",
       "    </tr>\n",
       "    <tr>\n",
       "      <th>596</th>\n",
       "      <td>597</td>\n",
       "      <td>MOBGRK2VXCKBADB5</td>\n",
       "      <td>OnePlus Nord 3 5G (Tempest Gray, 128 GB)  (8 G...</td>\n",
       "      <td>Proserser is very fast but camra issu</td>\n",
       "      <td>3</td>\n",
       "    </tr>\n",
       "    <tr>\n",
       "      <th>597</th>\n",
       "      <td>598</td>\n",
       "      <td>MOBGRK2VXCKBADB5</td>\n",
       "      <td>OnePlus Nord 3 5G (Tempest Gray, 128 GB)  (8 G...</td>\n",
       "      <td>Phone is very good.but battery is not good.</td>\n",
       "      <td>4</td>\n",
       "    </tr>\n",
       "    <tr>\n",
       "      <th>598</th>\n",
       "      <td>599</td>\n",
       "      <td>MOBGRK2VXCKBADB5</td>\n",
       "      <td>OnePlus Nord 3 5G (Tempest Gray, 128 GB)  (8 G...</td>\n",
       "      <td>Nice camera</td>\n",
       "      <td>3</td>\n",
       "    </tr>\n",
       "    <tr>\n",
       "      <th>599</th>\n",
       "      <td>600</td>\n",
       "      <td>MOBGRK2VXCKBADB5</td>\n",
       "      <td>OnePlus Nord 3 5G (Tempest Gray, 128 GB)  (8 G...</td>\n",
       "      <td>Nice performance this mobile Nord 3</td>\n",
       "      <td>5</td>\n",
       "    </tr>\n",
       "  </tbody>\n",
       "</table>\n",
       "<p>600 rows × 5 columns</p>\n",
       "</div>"
      ],
      "text/plain": [
       "     UniqueID        Product ID  \\\n",
       "0           1  MOBGVTA2836DQWTT   \n",
       "1           2  MOBGVTA2836DQWTT   \n",
       "2           3  MOBGVTA2836DQWTT   \n",
       "3           4  MOBGVTA2836DQWTT   \n",
       "4           5  MOBGVTA2836DQWTT   \n",
       "..        ...               ...   \n",
       "595       596  MOBGRK2VXCKBADB5   \n",
       "596       597  MOBGRK2VXCKBADB5   \n",
       "597       598  MOBGRK2VXCKBADB5   \n",
       "598       599  MOBGRK2VXCKBADB5   \n",
       "599       600  MOBGRK2VXCKBADB5   \n",
       "\n",
       "                                          Product Name  \\\n",
       "0    SAMSUNG Galaxy S23 FE (Graphite, 128 GB)  (8 G...   \n",
       "1    SAMSUNG Galaxy S23 FE (Graphite, 128 GB)  (8 G...   \n",
       "2    SAMSUNG Galaxy S23 FE (Graphite, 128 GB)  (8 G...   \n",
       "3    SAMSUNG Galaxy S23 FE (Graphite, 128 GB)  (8 G...   \n",
       "4    SAMSUNG Galaxy S23 FE (Graphite, 128 GB)  (8 G...   \n",
       "..                                                 ...   \n",
       "595  OnePlus Nord 3 5G (Tempest Gray, 128 GB)  (8 G...   \n",
       "596  OnePlus Nord 3 5G (Tempest Gray, 128 GB)  (8 G...   \n",
       "597  OnePlus Nord 3 5G (Tempest Gray, 128 GB)  (8 G...   \n",
       "598  OnePlus Nord 3 5G (Tempest Gray, 128 GB)  (8 G...   \n",
       "599  OnePlus Nord 3 5G (Tempest Gray, 128 GB)  (8 G...   \n",
       "\n",
       "                                          Reviews Text  Rating Stars   \n",
       "0    The camera is next level. But I'm facing some ...              4  \n",
       "1                            Camera quality is amazing              5  \n",
       "2    Awesome photography like apple must buy don't ...              5  \n",
       "3    Camera and display is superb  But bettary is a...              4  \n",
       "4                                       Awesome phone               5  \n",
       "..                                                 ...            ...  \n",
       "595                                         Best phone              5  \n",
       "596              Proserser is very fast but camra issu              3  \n",
       "597        Phone is very good.but battery is not good.              4  \n",
       "598                                        Nice camera              3  \n",
       "599                Nice performance this mobile Nord 3              5  \n",
       "\n",
       "[600 rows x 5 columns]"
      ]
     },
     "execution_count": 9,
     "metadata": {},
     "output_type": "execute_result"
    }
   ],
   "source": [
    "df\n"
   ]
  },
  {
   "cell_type": "code",
   "execution_count": 11,
   "metadata": {},
   "outputs": [
    {
     "name": "stdout",
     "output_type": "stream",
     "text": [
      "All unwanted characters removed and cleaned data saved to 'mobile_data_reviews_cleaned.csv'.\n",
      "   UniqueID        Product ID  \\\n",
      "0         1  MOBGVTA2836DQWTT   \n",
      "1         2  MOBGVTA2836DQWTT   \n",
      "2         3  MOBGVTA2836DQWTT   \n",
      "3         4  MOBGVTA2836DQWTT   \n",
      "4         5  MOBGVTA2836DQWTT   \n",
      "\n",
      "                                        Product Name  \\\n",
      "0  SAMSUNG Galaxy S23 FE (Graphite, 128 GB)  (8 G...   \n",
      "1  SAMSUNG Galaxy S23 FE (Graphite, 128 GB)  (8 G...   \n",
      "2  SAMSUNG Galaxy S23 FE (Graphite, 128 GB)  (8 G...   \n",
      "3  SAMSUNG Galaxy S23 FE (Graphite, 128 GB)  (8 G...   \n",
      "4  SAMSUNG Galaxy S23 FE (Graphite, 128 GB)  (8 G...   \n",
      "\n",
      "                                        Reviews Text  Rating Stars   \n",
      "0  The camera is next level But I'm facing some m...              4  \n",
      "1                          Camera quality is amazing              5  \n",
      "2  Awesome photography like apple must buy don't ...              5  \n",
      "3  Camera and display is superb  But bettary is a...              4  \n",
      "4                                     Awesome phone               5  \n"
     ]
    }
   ],
   "source": [
    "import re\n",
    "\n",
    "\n",
    "# Function to remove all emojis and unwanted characters\n",
    "def remove_unwanted_characters(text):\n",
    "    # Define a pattern to remove unwanted characters and emojis\n",
    "    pattern = re.compile(r'[!@#$%^&*<>.\\-⚡☺️🫶🪲🫡+\\-_+=]+', flags=re.UNICODE)\n",
    "    return pattern.sub('', text)  # Replace unwanted characters with an empty string\n",
    "\n",
    "# Check if 'Review' column exists in the DataFrame\n",
    "if 'Reviews Text' in df.columns:\n",
    "    # Apply the function to the 'Review' column\n",
    "    df['Reviews Text'] = df['Reviews Text'].apply(remove_unwanted_characters)\n",
    "\n",
    "    # Save the cleaned DataFrame to a new CSV file with the new name\n",
    "    df.to_csv('mobile_data_reviews_text_cleaned.csv', index=False)  # New file name\n",
    "    print(\"All unwanted characters removed and cleaned data saved to 'mobile_data_reviews_cleaned.csv'.\")\n",
    "else:\n",
    "    print(\"The 'Review' column does not exist in the dataset.\")\n",
    "\n",
    "# Display the updated DataFrame\n",
    "print(df.head())"
   ]
  },
  {
   "cell_type": "code",
   "execution_count": 12,
   "metadata": {},
   "outputs": [
    {
     "data": {
      "text/html": [
       "<div>\n",
       "<style scoped>\n",
       "    .dataframe tbody tr th:only-of-type {\n",
       "        vertical-align: middle;\n",
       "    }\n",
       "\n",
       "    .dataframe tbody tr th {\n",
       "        vertical-align: top;\n",
       "    }\n",
       "\n",
       "    .dataframe thead th {\n",
       "        text-align: right;\n",
       "    }\n",
       "</style>\n",
       "<table border=\"1\" class=\"dataframe\">\n",
       "  <thead>\n",
       "    <tr style=\"text-align: right;\">\n",
       "      <th></th>\n",
       "      <th>UniqueID</th>\n",
       "      <th>Product ID</th>\n",
       "      <th>Product Name</th>\n",
       "      <th>Reviews Text</th>\n",
       "      <th>Rating Stars</th>\n",
       "    </tr>\n",
       "  </thead>\n",
       "  <tbody>\n",
       "    <tr>\n",
       "      <th>0</th>\n",
       "      <td>1</td>\n",
       "      <td>MOBGVTA2836DQWTT</td>\n",
       "      <td>SAMSUNG Galaxy S23 FE (Graphite, 128 GB)  (8 G...</td>\n",
       "      <td>The camera is next level But I'm facing some m...</td>\n",
       "      <td>4</td>\n",
       "    </tr>\n",
       "    <tr>\n",
       "      <th>1</th>\n",
       "      <td>2</td>\n",
       "      <td>MOBGVTA2836DQWTT</td>\n",
       "      <td>SAMSUNG Galaxy S23 FE (Graphite, 128 GB)  (8 G...</td>\n",
       "      <td>Camera quality is amazing</td>\n",
       "      <td>5</td>\n",
       "    </tr>\n",
       "    <tr>\n",
       "      <th>2</th>\n",
       "      <td>3</td>\n",
       "      <td>MOBGVTA2836DQWTT</td>\n",
       "      <td>SAMSUNG Galaxy S23 FE (Graphite, 128 GB)  (8 G...</td>\n",
       "      <td>Awesome photography like apple must buy don't ...</td>\n",
       "      <td>5</td>\n",
       "    </tr>\n",
       "    <tr>\n",
       "      <th>3</th>\n",
       "      <td>4</td>\n",
       "      <td>MOBGVTA2836DQWTT</td>\n",
       "      <td>SAMSUNG Galaxy S23 FE (Graphite, 128 GB)  (8 G...</td>\n",
       "      <td>Camera and display is superb  But bettary is a...</td>\n",
       "      <td>4</td>\n",
       "    </tr>\n",
       "    <tr>\n",
       "      <th>4</th>\n",
       "      <td>5</td>\n",
       "      <td>MOBGVTA2836DQWTT</td>\n",
       "      <td>SAMSUNG Galaxy S23 FE (Graphite, 128 GB)  (8 G...</td>\n",
       "      <td>Awesome phone</td>\n",
       "      <td>5</td>\n",
       "    </tr>\n",
       "  </tbody>\n",
       "</table>\n",
       "</div>"
      ],
      "text/plain": [
       "   UniqueID        Product ID  \\\n",
       "0         1  MOBGVTA2836DQWTT   \n",
       "1         2  MOBGVTA2836DQWTT   \n",
       "2         3  MOBGVTA2836DQWTT   \n",
       "3         4  MOBGVTA2836DQWTT   \n",
       "4         5  MOBGVTA2836DQWTT   \n",
       "\n",
       "                                        Product Name  \\\n",
       "0  SAMSUNG Galaxy S23 FE (Graphite, 128 GB)  (8 G...   \n",
       "1  SAMSUNG Galaxy S23 FE (Graphite, 128 GB)  (8 G...   \n",
       "2  SAMSUNG Galaxy S23 FE (Graphite, 128 GB)  (8 G...   \n",
       "3  SAMSUNG Galaxy S23 FE (Graphite, 128 GB)  (8 G...   \n",
       "4  SAMSUNG Galaxy S23 FE (Graphite, 128 GB)  (8 G...   \n",
       "\n",
       "                                        Reviews Text  Rating Stars   \n",
       "0  The camera is next level But I'm facing some m...              4  \n",
       "1                          Camera quality is amazing              5  \n",
       "2  Awesome photography like apple must buy don't ...              5  \n",
       "3  Camera and display is superb  But bettary is a...              4  \n",
       "4                                     Awesome phone               5  "
      ]
     },
     "execution_count": 12,
     "metadata": {},
     "output_type": "execute_result"
    }
   ],
   "source": [
    "df.head(\n",
    "    \n",
    ")"
   ]
  },
  {
   "cell_type": "code",
   "execution_count": 15,
   "metadata": {},
   "outputs": [
    {
     "name": "stdout",
     "output_type": "stream",
     "text": [
      "Sentiment analysis completed and saved.\n"
     ]
    }
   ],
   "source": [
    "from textblob import TextBlob\n",
    "\n",
    "# Function to calculate sentiment polarity\n",
    "def get_sentiment(review):\n",
    "    analysis = TextBlob(review)\n",
    "    return analysis.sentiment.polarity\n",
    "\n",
    "# Apply sentiment analysis to the reviews\n",
    "df['Sentiment_Score'] = df['Reviews Text'].apply(get_sentiment)\n",
    "\n",
    "# Categorize sentiment\n",
    "def categorize_sentiment(score):\n",
    "    if score > 0:\n",
    "        return 'Positive'\n",
    "    elif score < 0:\n",
    "        return 'Negative'\n",
    "    else:\n",
    "        return 'Neutral'\n",
    "\n",
    "df['Sentiment'] = df['Sentiment_Score'].apply(categorize_sentiment)\n",
    "\n",
    "# Save results\n",
    "df.to_csv('sentiment_analysis_flipkart_reviews.csv', index=False)\n",
    "print(\"Sentiment analysis completed and saved.\")\n"
   ]
  },
  {
   "cell_type": "code",
   "execution_count": 16,
   "metadata": {},
   "outputs": [
    {
     "data": {
      "text/html": [
       "<div>\n",
       "<style scoped>\n",
       "    .dataframe tbody tr th:only-of-type {\n",
       "        vertical-align: middle;\n",
       "    }\n",
       "\n",
       "    .dataframe tbody tr th {\n",
       "        vertical-align: top;\n",
       "    }\n",
       "\n",
       "    .dataframe thead th {\n",
       "        text-align: right;\n",
       "    }\n",
       "</style>\n",
       "<table border=\"1\" class=\"dataframe\">\n",
       "  <thead>\n",
       "    <tr style=\"text-align: right;\">\n",
       "      <th></th>\n",
       "      <th>UniqueID</th>\n",
       "      <th>Product ID</th>\n",
       "      <th>Product Name</th>\n",
       "      <th>Reviews Text</th>\n",
       "      <th>Rating Stars</th>\n",
       "      <th>Sentiment_Score</th>\n",
       "      <th>Sentiment</th>\n",
       "    </tr>\n",
       "  </thead>\n",
       "  <tbody>\n",
       "    <tr>\n",
       "      <th>0</th>\n",
       "      <td>1</td>\n",
       "      <td>MOBGVTA2836DQWTT</td>\n",
       "      <td>SAMSUNG Galaxy S23 FE (Graphite, 128 GB)  (8 G...</td>\n",
       "      <td>The camera is next level But I'm facing some m...</td>\n",
       "      <td>4</td>\n",
       "      <td>0.03125</td>\n",
       "      <td>Positive</td>\n",
       "    </tr>\n",
       "    <tr>\n",
       "      <th>1</th>\n",
       "      <td>2</td>\n",
       "      <td>MOBGVTA2836DQWTT</td>\n",
       "      <td>SAMSUNG Galaxy S23 FE (Graphite, 128 GB)  (8 G...</td>\n",
       "      <td>Camera quality is amazing</td>\n",
       "      <td>5</td>\n",
       "      <td>0.60000</td>\n",
       "      <td>Positive</td>\n",
       "    </tr>\n",
       "    <tr>\n",
       "      <th>2</th>\n",
       "      <td>3</td>\n",
       "      <td>MOBGVTA2836DQWTT</td>\n",
       "      <td>SAMSUNG Galaxy S23 FE (Graphite, 128 GB)  (8 G...</td>\n",
       "      <td>Awesome photography like apple must buy don't ...</td>\n",
       "      <td>5</td>\n",
       "      <td>0.21250</td>\n",
       "      <td>Positive</td>\n",
       "    </tr>\n",
       "    <tr>\n",
       "      <th>3</th>\n",
       "      <td>4</td>\n",
       "      <td>MOBGVTA2836DQWTT</td>\n",
       "      <td>SAMSUNG Galaxy S23 FE (Graphite, 128 GB)  (8 G...</td>\n",
       "      <td>Camera and display is superb  But bettary is a...</td>\n",
       "      <td>4</td>\n",
       "      <td>1.00000</td>\n",
       "      <td>Positive</td>\n",
       "    </tr>\n",
       "    <tr>\n",
       "      <th>4</th>\n",
       "      <td>5</td>\n",
       "      <td>MOBGVTA2836DQWTT</td>\n",
       "      <td>SAMSUNG Galaxy S23 FE (Graphite, 128 GB)  (8 G...</td>\n",
       "      <td>Awesome phone</td>\n",
       "      <td>5</td>\n",
       "      <td>1.00000</td>\n",
       "      <td>Positive</td>\n",
       "    </tr>\n",
       "    <tr>\n",
       "      <th>...</th>\n",
       "      <td>...</td>\n",
       "      <td>...</td>\n",
       "      <td>...</td>\n",
       "      <td>...</td>\n",
       "      <td>...</td>\n",
       "      <td>...</td>\n",
       "      <td>...</td>\n",
       "    </tr>\n",
       "    <tr>\n",
       "      <th>595</th>\n",
       "      <td>596</td>\n",
       "      <td>MOBGRK2VXCKBADB5</td>\n",
       "      <td>OnePlus Nord 3 5G (Tempest Gray, 128 GB)  (8 G...</td>\n",
       "      <td>Best phone</td>\n",
       "      <td>5</td>\n",
       "      <td>1.00000</td>\n",
       "      <td>Positive</td>\n",
       "    </tr>\n",
       "    <tr>\n",
       "      <th>596</th>\n",
       "      <td>597</td>\n",
       "      <td>MOBGRK2VXCKBADB5</td>\n",
       "      <td>OnePlus Nord 3 5G (Tempest Gray, 128 GB)  (8 G...</td>\n",
       "      <td>Proserser is very fast but camra issu</td>\n",
       "      <td>3</td>\n",
       "      <td>0.26000</td>\n",
       "      <td>Positive</td>\n",
       "    </tr>\n",
       "    <tr>\n",
       "      <th>597</th>\n",
       "      <td>598</td>\n",
       "      <td>MOBGRK2VXCKBADB5</td>\n",
       "      <td>OnePlus Nord 3 5G (Tempest Gray, 128 GB)  (8 G...</td>\n",
       "      <td>Phone is very goodbut battery is not good</td>\n",
       "      <td>4</td>\n",
       "      <td>-0.07500</td>\n",
       "      <td>Negative</td>\n",
       "    </tr>\n",
       "    <tr>\n",
       "      <th>598</th>\n",
       "      <td>599</td>\n",
       "      <td>MOBGRK2VXCKBADB5</td>\n",
       "      <td>OnePlus Nord 3 5G (Tempest Gray, 128 GB)  (8 G...</td>\n",
       "      <td>Nice camera</td>\n",
       "      <td>3</td>\n",
       "      <td>0.60000</td>\n",
       "      <td>Positive</td>\n",
       "    </tr>\n",
       "    <tr>\n",
       "      <th>599</th>\n",
       "      <td>600</td>\n",
       "      <td>MOBGRK2VXCKBADB5</td>\n",
       "      <td>OnePlus Nord 3 5G (Tempest Gray, 128 GB)  (8 G...</td>\n",
       "      <td>Nice performance this mobile Nord 3</td>\n",
       "      <td>5</td>\n",
       "      <td>0.60000</td>\n",
       "      <td>Positive</td>\n",
       "    </tr>\n",
       "  </tbody>\n",
       "</table>\n",
       "<p>600 rows × 7 columns</p>\n",
       "</div>"
      ],
      "text/plain": [
       "     UniqueID        Product ID  \\\n",
       "0           1  MOBGVTA2836DQWTT   \n",
       "1           2  MOBGVTA2836DQWTT   \n",
       "2           3  MOBGVTA2836DQWTT   \n",
       "3           4  MOBGVTA2836DQWTT   \n",
       "4           5  MOBGVTA2836DQWTT   \n",
       "..        ...               ...   \n",
       "595       596  MOBGRK2VXCKBADB5   \n",
       "596       597  MOBGRK2VXCKBADB5   \n",
       "597       598  MOBGRK2VXCKBADB5   \n",
       "598       599  MOBGRK2VXCKBADB5   \n",
       "599       600  MOBGRK2VXCKBADB5   \n",
       "\n",
       "                                          Product Name  \\\n",
       "0    SAMSUNG Galaxy S23 FE (Graphite, 128 GB)  (8 G...   \n",
       "1    SAMSUNG Galaxy S23 FE (Graphite, 128 GB)  (8 G...   \n",
       "2    SAMSUNG Galaxy S23 FE (Graphite, 128 GB)  (8 G...   \n",
       "3    SAMSUNG Galaxy S23 FE (Graphite, 128 GB)  (8 G...   \n",
       "4    SAMSUNG Galaxy S23 FE (Graphite, 128 GB)  (8 G...   \n",
       "..                                                 ...   \n",
       "595  OnePlus Nord 3 5G (Tempest Gray, 128 GB)  (8 G...   \n",
       "596  OnePlus Nord 3 5G (Tempest Gray, 128 GB)  (8 G...   \n",
       "597  OnePlus Nord 3 5G (Tempest Gray, 128 GB)  (8 G...   \n",
       "598  OnePlus Nord 3 5G (Tempest Gray, 128 GB)  (8 G...   \n",
       "599  OnePlus Nord 3 5G (Tempest Gray, 128 GB)  (8 G...   \n",
       "\n",
       "                                          Reviews Text  Rating Stars   \\\n",
       "0    The camera is next level But I'm facing some m...              4   \n",
       "1                            Camera quality is amazing              5   \n",
       "2    Awesome photography like apple must buy don't ...              5   \n",
       "3    Camera and display is superb  But bettary is a...              4   \n",
       "4                                       Awesome phone               5   \n",
       "..                                                 ...            ...   \n",
       "595                                         Best phone              5   \n",
       "596              Proserser is very fast but camra issu              3   \n",
       "597          Phone is very goodbut battery is not good              4   \n",
       "598                                        Nice camera              3   \n",
       "599                Nice performance this mobile Nord 3              5   \n",
       "\n",
       "     Sentiment_Score Sentiment  \n",
       "0            0.03125  Positive  \n",
       "1            0.60000  Positive  \n",
       "2            0.21250  Positive  \n",
       "3            1.00000  Positive  \n",
       "4            1.00000  Positive  \n",
       "..               ...       ...  \n",
       "595          1.00000  Positive  \n",
       "596          0.26000  Positive  \n",
       "597         -0.07500  Negative  \n",
       "598          0.60000  Positive  \n",
       "599          0.60000  Positive  \n",
       "\n",
       "[600 rows x 7 columns]"
      ]
     },
     "execution_count": 16,
     "metadata": {},
     "output_type": "execute_result"
    }
   ],
   "source": [
    "df"
   ]
  },
  {
   "cell_type": "code",
   "execution_count": 1,
   "metadata": {},
   "outputs": [
    {
     "data": {
      "text/html": [
       "<div>\n",
       "<style scoped>\n",
       "    .dataframe tbody tr th:only-of-type {\n",
       "        vertical-align: middle;\n",
       "    }\n",
       "\n",
       "    .dataframe tbody tr th {\n",
       "        vertical-align: top;\n",
       "    }\n",
       "\n",
       "    .dataframe thead th {\n",
       "        text-align: right;\n",
       "    }\n",
       "</style>\n",
       "<table border=\"1\" class=\"dataframe\">\n",
       "  <thead>\n",
       "    <tr style=\"text-align: right;\">\n",
       "      <th></th>\n",
       "      <th>UniqueID</th>\n",
       "      <th>Product ID</th>\n",
       "      <th>Product Name</th>\n",
       "      <th>Reviews Text</th>\n",
       "      <th>Rating Stars</th>\n",
       "      <th>Sentiment_Score</th>\n",
       "      <th>Sentiment</th>\n",
       "    </tr>\n",
       "  </thead>\n",
       "  <tbody>\n",
       "    <tr>\n",
       "      <th>0</th>\n",
       "      <td>1</td>\n",
       "      <td>MOBGVTA2836DQWTT</td>\n",
       "      <td>SAMSUNG Galaxy S23 FE (Graphite, 128 GB)  (8 G...</td>\n",
       "      <td>The camera is next level But I'm facing some m...</td>\n",
       "      <td>4</td>\n",
       "      <td>0.03125</td>\n",
       "      <td>Positive</td>\n",
       "    </tr>\n",
       "    <tr>\n",
       "      <th>1</th>\n",
       "      <td>2</td>\n",
       "      <td>MOBGVTA2836DQWTT</td>\n",
       "      <td>SAMSUNG Galaxy S23 FE (Graphite, 128 GB)  (8 G...</td>\n",
       "      <td>Camera quality is amazing</td>\n",
       "      <td>5</td>\n",
       "      <td>0.60000</td>\n",
       "      <td>Positive</td>\n",
       "    </tr>\n",
       "    <tr>\n",
       "      <th>2</th>\n",
       "      <td>3</td>\n",
       "      <td>MOBGVTA2836DQWTT</td>\n",
       "      <td>SAMSUNG Galaxy S23 FE (Graphite, 128 GB)  (8 G...</td>\n",
       "      <td>Awesome photography like apple must buy don't ...</td>\n",
       "      <td>5</td>\n",
       "      <td>0.21250</td>\n",
       "      <td>Positive</td>\n",
       "    </tr>\n",
       "    <tr>\n",
       "      <th>3</th>\n",
       "      <td>4</td>\n",
       "      <td>MOBGVTA2836DQWTT</td>\n",
       "      <td>SAMSUNG Galaxy S23 FE (Graphite, 128 GB)  (8 G...</td>\n",
       "      <td>Camera and display is superb  But bettary is a...</td>\n",
       "      <td>4</td>\n",
       "      <td>1.00000</td>\n",
       "      <td>Positive</td>\n",
       "    </tr>\n",
       "    <tr>\n",
       "      <th>4</th>\n",
       "      <td>5</td>\n",
       "      <td>MOBGVTA2836DQWTT</td>\n",
       "      <td>SAMSUNG Galaxy S23 FE (Graphite, 128 GB)  (8 G...</td>\n",
       "      <td>Awesome phone</td>\n",
       "      <td>5</td>\n",
       "      <td>1.00000</td>\n",
       "      <td>Positive</td>\n",
       "    </tr>\n",
       "  </tbody>\n",
       "</table>\n",
       "</div>"
      ],
      "text/plain": [
       "   UniqueID        Product ID  \\\n",
       "0         1  MOBGVTA2836DQWTT   \n",
       "1         2  MOBGVTA2836DQWTT   \n",
       "2         3  MOBGVTA2836DQWTT   \n",
       "3         4  MOBGVTA2836DQWTT   \n",
       "4         5  MOBGVTA2836DQWTT   \n",
       "\n",
       "                                        Product Name  \\\n",
       "0  SAMSUNG Galaxy S23 FE (Graphite, 128 GB)  (8 G...   \n",
       "1  SAMSUNG Galaxy S23 FE (Graphite, 128 GB)  (8 G...   \n",
       "2  SAMSUNG Galaxy S23 FE (Graphite, 128 GB)  (8 G...   \n",
       "3  SAMSUNG Galaxy S23 FE (Graphite, 128 GB)  (8 G...   \n",
       "4  SAMSUNG Galaxy S23 FE (Graphite, 128 GB)  (8 G...   \n",
       "\n",
       "                                        Reviews Text  Rating Stars   \\\n",
       "0  The camera is next level But I'm facing some m...              4   \n",
       "1                          Camera quality is amazing              5   \n",
       "2  Awesome photography like apple must buy don't ...              5   \n",
       "3  Camera and display is superb  But bettary is a...              4   \n",
       "4                                     Awesome phone               5   \n",
       "\n",
       "   Sentiment_Score Sentiment  \n",
       "0          0.03125  Positive  \n",
       "1          0.60000  Positive  \n",
       "2          0.21250  Positive  \n",
       "3          1.00000  Positive  \n",
       "4          1.00000  Positive  "
      ]
     },
     "execution_count": 1,
     "metadata": {},
     "output_type": "execute_result"
    }
   ],
   "source": [
    "import pandas as pd\n",
    "import matplotlib.pyplot as plt\n",
    "import seaborn as sns\n",
    "\n",
    "df = pd.read_csv('C:/Users/bavan/Downloads/last/sentiment_analysis_flipkart_reviews.csv')\n",
    "df.head()"
   ]
  },
  {
   "cell_type": "code",
   "execution_count": 2,
   "metadata": {},
   "outputs": [
    {
     "name": "stdout",
     "output_type": "stream",
     "text": [
      "Index(['UniqueID', 'Product ID', 'Product Name', 'Reviews Text',\n",
      "       'Rating Stars ', 'Sentiment_Score', 'Sentiment'],\n",
      "      dtype='object')\n"
     ]
    }
   ],
   "source": [
    "print(df.columns)"
   ]
  },
  {
   "cell_type": "code",
   "execution_count": 3,
   "metadata": {},
   "outputs": [
    {
     "data": {
      "image/png": "[encoded data removed]",
      "text/plain": [
       "<Figure size 400x400 with 1 Axes>"
      ]
     },
     "metadata": {},
     "output_type": "display_data"
    }
   ],
   "source": [
    "# Calculate the average rating for each sentiment category\n",
    "avg_rating_by_sentiment = df.groupby('Sentiment')['Rating Stars '].mean()\n",
    "\n",
    "# Plot the average ratings by sentiment\n",
    "plt.figure(figsize=(4, 4))\n",
    "avg_rating_by_sentiment.plot(kind='bar', color=['red', 'orange', 'green'])\n",
    "plt.title('Average Rating by Sentiment Category')\n",
    "plt.xlabel('Sentiment')\n",
    "plt.ylabel('Average Rating')\n",
    "plt.show()\n"
   ]
  },
  {
   "cell_type": "code",
   "execution_count": 5,
   "metadata": {},
   "outputs": [
    {
     "data": {
      "application/vnd.plotly.v1+json": {
       "config": {
        "plotlyServerURL": "https://plot.ly"
       },
       "data": [
        {
         "alignmentgroup": "True",
         "bingroup": "x",
         "hovertemplate": "Sentiment=Positive<br>Rating Stars =%{x}<br>count=%{y}<extra></extra>",
         "legendgroup": "Positive",
         "marker": {
          "color": "purple",
          "pattern": {
           "shape": ""
          }
         },
         "name": "Positive",
         "offsetgroup": "Positive",
         "orientation": "v",
         "showlegend": true,
         "type": "histogram",
         "x": [
          4,
          5,
          5,
          4,
          5,
          4,
          5,
          5,
          4,
          4,
          5,
          4,
          5,
          4,
          4,
          5,
          5,
          3,
          3,
          3,
          5,
          5,
          5,
          4,
          5,
          5,
          4,
          5,
          4,
          4,
          4,
          4,
          4,
          4,
          4,
          3,
          5,
          4,
          5,
          4,
          5,
          5,
          5,
          5,
          4,
          4,
          4,
          4,
          4,
          5,
          5,
          5,
          5,
          5,
          5,
          5,
          4,
          5,
          3,
          5,
          4,
          4,
          4,
          4,
          4,
          4,
          5,
          5,
          5,
          5,
          5,
          5,
          5,
          5,
          5,
          5,
          5,
          5,
          5,
          5,
          5,
          5,
          5,
          5,
          5,
          4,
          5,
          5,
          4,
          4,
          3,
          5,
          5,
          3,
          5,
          5,
          4,
          5,
          4,
          4,
          4,
          5,
          4,
          5,
          5,
          4,
          4,
          5,
          5,
          4,
          5,
          5,
          5,
          4,
          4,
          5,
          5,
          3,
          5,
          5,
          4,
          5,
          5,
          4,
          5,
          4,
          5,
          5,
          3,
          5,
          5,
          4,
          4,
          5,
          4,
          4,
          3,
          4,
          4,
          5,
          5,
          5,
          4,
          5,
          5,
          5,
          5,
          5,
          5,
          5,
          5,
          5,
          5,
          3,
          5,
          4,
          4,
          5,
          5,
          5,
          5,
          5,
          5,
          3,
          5,
          4,
          5,
          4,
          5,
          5,
          5,
          5,
          5,
          4,
          5,
          5,
          5,
          5,
          5,
          3,
          5,
          4,
          5,
          5,
          5,
          5,
          4,
          5,
          5,
          5,
          5,
          5,
          4,
          5,
          5,
          4,
          5,
          5,
          5,
          5,
          5,
          4,
          3,
          5,
          5,
          5,
          5,
          5,
          5,
          5,
          5,
          5,
          5,
          4,
          4,
          5,
          5,
          5,
          5,
          5,
          4,
          5,
          5,
          4,
          4,
          5,
          5,
          5,
          5,
          5,
          5,
          4,
          4,
          5,
          5,
          5,
          5,
          5,
          5,
          5,
          5,
          3,
          5,
          4,
          4,
          4,
          4,
          4,
          4,
          4,
          4,
          4,
          4,
          5,
          5,
          5,
          5,
          5,
          5,
          5,
          5,
          5,
          5,
          5,
          5,
          5,
          5,
          5,
          5,
          5,
          5,
          5,
          5,
          5,
          5,
          5,
          5,
          5,
          5,
          5,
          5,
          5,
          5,
          5,
          5,
          5,
          5,
          5,
          5,
          5,
          5,
          4,
          4,
          5,
          5,
          5,
          5,
          5,
          5,
          5,
          5,
          5,
          5,
          5,
          5,
          5,
          5,
          5,
          5,
          5,
          5,
          5,
          5,
          5,
          5,
          5,
          5,
          5,
          5,
          5,
          5,
          5,
          5,
          5,
          5,
          5,
          5,
          5,
          5,
          5,
          5,
          5,
          5,
          5,
          5,
          5,
          5,
          5,
          5,
          5,
          5,
          5,
          5,
          5,
          5,
          5,
          4,
          5,
          5,
          4,
          5,
          5,
          5,
          5,
          5,
          4,
          5,
          5,
          5,
          5,
          4,
          5,
          5,
          5,
          5,
          5,
          5,
          5,
          5,
          5,
          5,
          4,
          5,
          5,
          5,
          5,
          4,
          5,
          5,
          5,
          5,
          5,
          5,
          5,
          5,
          5,
          5,
          5,
          4,
          5,
          4,
          5,
          5,
          5,
          5,
          4,
          5,
          5,
          5,
          5,
          5,
          4,
          5,
          5,
          4,
          5,
          5,
          5,
          5,
          5,
          5,
          5,
          5,
          5,
          5,
          5,
          5,
          5,
          5,
          5,
          5,
          5,
          5,
          5,
          5,
          5,
          5,
          5,
          5,
          5,
          5,
          5,
          5,
          4,
          5,
          5,
          3,
          5,
          5,
          5,
          5,
          4,
          4,
          5,
          5,
          5,
          4,
          4,
          4,
          4,
          5,
          5,
          5,
          5,
          5,
          4,
          5,
          5,
          4,
          5,
          4,
          5,
          5,
          5,
          4,
          5,
          5,
          4,
          5,
          5,
          5,
          5,
          4,
          5,
          5,
          5,
          5,
          3,
          5,
          4,
          4,
          4,
          5,
          5,
          5,
          5,
          5,
          4,
          5,
          3,
          5,
          5,
          5,
          5,
          4,
          4,
          4,
          4,
          5,
          5,
          5,
          5,
          5,
          5,
          5,
          5,
          5,
          5,
          3,
          3,
          5,
          5,
          4,
          5,
          4,
          5,
          5,
          4,
          4,
          4,
          4,
          4,
          4,
          4,
          4,
          4,
          4,
          3,
          5,
          5,
          5,
          5,
          5,
          5,
          5,
          5,
          5,
          4,
          5,
          5,
          5,
          3,
          3,
          5
         ],
         "xaxis": "x",
         "yaxis": "y"
        },
        {
         "alignmentgroup": "True",
         "bingroup": "x",
         "hovertemplate": "Sentiment=Neutral<br>Rating Stars =%{x}<br>count=%{y}<extra></extra>",
         "legendgroup": "Neutral",
         "marker": {
          "color": "pink",
          "pattern": {
           "shape": ""
          }
         },
         "name": "Neutral",
         "offsetgroup": "Neutral",
         "orientation": "v",
         "showlegend": true,
         "type": "histogram",
         "x": [
          4,
          5,
          5,
          4,
          4,
          4,
          5,
          5,
          4,
          4,
          5,
          5,
          5,
          4,
          5,
          4,
          4,
          5,
          5,
          5,
          5,
          5,
          5,
          4,
          5,
          5,
          5,
          5,
          5,
          5,
          4,
          5,
          3
         ],
         "xaxis": "x",
         "yaxis": "y"
        },
        {
         "alignmentgroup": "True",
         "bingroup": "x",
         "hovertemplate": "Sentiment=Negative<br>Rating Stars =%{x}<br>count=%{y}<extra></extra>",
         "legendgroup": "Negative",
         "marker": {
          "color": "green",
          "pattern": {
           "shape": ""
          }
         },
         "name": "Negative",
         "offsetgroup": "Negative",
         "orientation": "v",
         "showlegend": true,
         "type": "histogram",
         "x": [
          3,
          4,
          5,
          5,
          3,
          4,
          4,
          3,
          3,
          5,
          5,
          3,
          5,
          5,
          4,
          3,
          3,
          3,
          3,
          5,
          5,
          5,
          4
         ],
         "xaxis": "x",
         "yaxis": "y"
        }
       ],
       "layout": {
        "barmode": "relative",
        "font": {
         "color": "grey",
         "family": "Times New Roman"
        },
        "height": 500,
        "legend": {
         "title": {
          "text": "Sentiment"
         },
         "tracegroupgap": 0
        },
        "margin": {
         "t": 60
        },
        "template": {
         "data": {
          "bar": [
           {
            "error_x": {
             "color": "rgb(36,36,36)"
            },
            "error_y": {
             "color": "rgb(36,36,36)"
            },
            "marker": {
             "line": {
              "color": "white",
              "width": 0.5
             },
             "pattern": {
              "fillmode": "overlay",
              "size": 10,
              "solidity": 0.2
             }
            },
            "type": "bar"
           }
          ],
          "barpolar": [
           {
            "marker": {
             "line": {
              "color": "white",
              "width": 0.5
             },
             "pattern": {
              "fillmode": "overlay",
              "size": 10,
              "solidity": 0.2
             }
            },
            "type": "barpolar"
           }
          ],
          "carpet": [
           {
            "aaxis": {
             "endlinecolor": "rgb(36,36,36)",
             "gridcolor": "white",
             "linecolor": "white",
             "minorgridcolor": "white",
             "startlinecolor": "rgb(36,36,36)"
            },
            "baxis": {
             "endlinecolor": "rgb(36,36,36)",
             "gridcolor": "white",
             "linecolor": "white",
             "minorgridcolor": "white",
             "startlinecolor": "rgb(36,36,36)"
            },
            "type": "carpet"
           }
          ],
          "choropleth": [
           {
            "colorbar": {
             "outlinewidth": 1,
             "tickcolor": "rgb(36,36,36)",
             "ticks": "outside"
            },
            "type": "choropleth"
           }
          ],
          "contour": [
           {
            "colorbar": {
             "outlinewidth": 1,
             "tickcolor": "rgb(36,36,36)",
             "ticks": "outside"
            },
            "colorscale": [
             [
              0,
              "#440154"
             ],
             [
              0.1111111111111111,
              "#482878"
             ],
             [
              0.2222222222222222,
              "#3e4989"
             ],
             [
              0.3333333333333333,
              "#31688e"
             ],
             [
              0.4444444444444444,
              "#26828e"
             ],
             [
              0.5555555555555556,
              "#1f9e89"
             ],
             [
              0.6666666666666666,
              "#35b779"
             ],
             [
              0.7777777777777778,
              "#6ece58"
             ],
             [
              0.8888888888888888,
              "#b5de2b"
             ],
             [
              1,
              "#fde725"
             ]
            ],
            "type": "contour"
           }
          ],
          "contourcarpet": [
           {
            "colorbar": {
             "outlinewidth": 1,
             "tickcolor": "rgb(36,36,36)",
             "ticks": "outside"
            },
            "type": "contourcarpet"
           }
          ],
          "heatmap": [
           {
            "colorbar": {
             "outlinewidth": 1,
             "tickcolor": "rgb(36,36,36)",
             "ticks": "outside"
            },
            "colorscale": [
             [
              0,
              "#440154"
             ],
             [
              0.1111111111111111,
              "#482878"
             ],
             [
              0.2222222222222222,
              "#3e4989"
             ],
             [
              0.3333333333333333,
              "#31688e"
             ],
             [
              0.4444444444444444,
              "#26828e"
             ],
             [
              0.5555555555555556,
              "#1f9e89"
             ],
             [
              0.6666666666666666,
              "#35b779"
             ],
             [
              0.7777777777777778,
              "#6ece58"
             ],
             [
              0.8888888888888888,
              "#b5de2b"
             ],
             [
              1,
              "#fde725"
             ]
            ],
            "type": "heatmap"
           }
          ],
          "heatmapgl": [
           {
            "colorbar": {
             "outlinewidth": 1,
             "tickcolor": "rgb(36,36,36)",
             "ticks": "outside"
            },
            "colorscale": [
             [
              0,
              "#440154"
             ],
             [
              0.1111111111111111,
              "#482878"
             ],
             [
              0.2222222222222222,
              "#3e4989"
             ],
             [
              0.3333333333333333,
              "#31688e"
             ],
             [
              0.4444444444444444,
              "#26828e"
             ],
             [
              0.5555555555555556,
              "#1f9e89"
             ],
             [
              0.6666666666666666,
              "#35b779"
             ],
             [
              0.7777777777777778,
              "#6ece58"
             ],
             [
              0.8888888888888888,
              "#b5de2b"
             ],
             [
              1,
              "#fde725"
             ]
            ],
            "type": "heatmapgl"
           }
          ],
          "histogram": [
           {
            "marker": {
             "line": {
              "color": "white",
              "width": 0.6
             }
            },
            "type": "histogram"
           }
          ],
          "histogram2d": [
           {
            "colorbar": {
             "outlinewidth": 1,
             "tickcolor": "rgb(36,36,36)",
             "ticks": "outside"
            },
            "colorscale": [
             [
              0,
              "#440154"
             ],
             [
              0.1111111111111111,
              "#482878"
             ],
             [
              0.2222222222222222,
              "#3e4989"
             ],
             [
              0.3333333333333333,
              "#31688e"
             ],
             [
              0.4444444444444444,
              "#26828e"
             ],
             [
              0.5555555555555556,
              "#1f9e89"
             ],
             [
              0.6666666666666666,
              "#35b779"
             ],
             [
              0.7777777777777778,
              "#6ece58"
             ],
             [
              0.8888888888888888,
              "#b5de2b"
             ],
             [
              1,
              "#fde725"
             ]
            ],
            "type": "histogram2d"
           }
          ],
          "histogram2dcontour": [
           {
            "colorbar": {
             "outlinewidth": 1,
             "tickcolor": "rgb(36,36,36)",
             "ticks": "outside"
            },
            "colorscale": [
             [
              0,
              "#440154"
             ],
             [
              0.1111111111111111,
              "#482878"
             ],
             [
              0.2222222222222222,
              "#3e4989"
             ],
             [
              0.3333333333333333,
              "#31688e"
             ],
             [
              0.4444444444444444,
              "#26828e"
             ],
             [
              0.5555555555555556,
              "#1f9e89"
             ],
             [
              0.6666666666666666,
              "#35b779"
             ],
             [
              0.7777777777777778,
              "#6ece58"
             ],
             [
              0.8888888888888888,
              "#b5de2b"
             ],
             [
              1,
              "#fde725"
             ]
            ],
            "type": "histogram2dcontour"
           }
          ],
          "mesh3d": [
           {
            "colorbar": {
             "outlinewidth": 1,
             "tickcolor": "rgb(36,36,36)",
             "ticks": "outside"
            },
            "type": "mesh3d"
           }
          ],
          "parcoords": [
           {
            "line": {
             "colorbar": {
              "outlinewidth": 1,
              "tickcolor": "rgb(36,36,36)",
              "ticks": "outside"
             }
            },
            "type": "parcoords"
           }
          ],
          "pie": [
           {
            "automargin": true,
            "type": "pie"
           }
          ],
          "scatter": [
           {
            "fillpattern": {
             "fillmode": "overlay",
             "size": 10,
             "solidity": 0.2
            },
            "type": "scatter"
           }
          ],
          "scatter3d": [
           {
            "line": {
             "colorbar": {
              "outlinewidth": 1,
              "tickcolor": "rgb(36,36,36)",
              "ticks": "outside"
             }
            },
            "marker": {
             "colorbar": {
              "outlinewidth": 1,
              "tickcolor": "rgb(36,36,36)",
              "ticks": "outside"
             }
            },
            "type": "scatter3d"
           }
          ],
          "scattercarpet": [
           {
            "marker": {
             "colorbar": {
              "outlinewidth": 1,
              "tickcolor": "rgb(36,36,36)",
              "ticks": "outside"
             }
            },
            "type": "scattercarpet"
           }
          ],
          "scattergeo": [
           {
            "marker": {
             "colorbar": {
              "outlinewidth": 1,
              "tickcolor": "rgb(36,36,36)",
              "ticks": "outside"
             }
            },
            "type": "scattergeo"
           }
          ],
          "scattergl": [
           {
            "marker": {
             "colorbar": {
              "outlinewidth": 1,
              "tickcolor": "rgb(36,36,36)",
              "ticks": "outside"
             }
            },
            "type": "scattergl"
           }
          ],
          "scattermapbox": [
           {
            "marker": {
             "colorbar": {
              "outlinewidth": 1,
              "tickcolor": "rgb(36,36,36)",
              "ticks": "outside"
             }
            },
            "type": "scattermapbox"
           }
          ],
          "scatterpolar": [
           {
            "marker": {
             "colorbar": {
              "outlinewidth": 1,
              "tickcolor": "rgb(36,36,36)",
              "ticks": "outside"
             }
            },
            "type": "scatterpolar"
           }
          ],
          "scatterpolargl": [
           {
            "marker": {
             "colorbar": {
              "outlinewidth": 1,
              "tickcolor": "rgb(36,36,36)",
              "ticks": "outside"
             }
            },
            "type": "scatterpolargl"
           }
          ],
          "scatterternary": [
           {
            "marker": {
             "colorbar": {
              "outlinewidth": 1,
              "tickcolor": "rgb(36,36,36)",
              "ticks": "outside"
             }
            },
            "type": "scatterternary"
           }
          ],
          "surface": [
           {
            "colorbar": {
             "outlinewidth": 1,
             "tickcolor": "rgb(36,36,36)",
             "ticks": "outside"
            },
            "colorscale": [
             [
              0,
              "#440154"
             ],
             [
              0.1111111111111111,
              "#482878"
             ],
             [
              0.2222222222222222,
              "#3e4989"
             ],
             [
              0.3333333333333333,
              "#31688e"
             ],
             [
              0.4444444444444444,
              "#26828e"
             ],
             [
              0.5555555555555556,
              "#1f9e89"
             ],
             [
              0.6666666666666666,
              "#35b779"
             ],
             [
              0.7777777777777778,
              "#6ece58"
             ],
             [
              0.8888888888888888,
              "#b5de2b"
             ],
             [
              1,
              "#fde725"
             ]
            ],
            "type": "surface"
           }
          ],
          "table": [
           {
            "cells": {
             "fill": {
              "color": "rgb(237,237,237)"
             },
             "line": {
              "color": "white"
             }
            },
            "header": {
             "fill": {
              "color": "rgb(217,217,217)"
             },
             "line": {
              "color": "white"
             }
            },
            "type": "table"
           }
          ]
         },
         "layout": {
          "annotationdefaults": {
           "arrowhead": 0,
           "arrowwidth": 1
          },
          "autotypenumbers": "strict",
          "coloraxis": {
           "colorbar": {
            "outlinewidth": 1,
            "tickcolor": "rgb(36,36,36)",
            "ticks": "outside"
           }
          },
          "colorscale": {
           "diverging": [
            [
             0,
             "rgb(103,0,31)"
            ],
            [
             0.1,
             "rgb(178,24,43)"
            ],
            [
             0.2,
             "rgb(214,96,77)"
            ],
            [
             0.3,
             "rgb(244,165,130)"
            ],
            [
             0.4,
             "rgb(253,219,199)"
            ],
            [
             0.5,
             "rgb(247,247,247)"
            ],
            [
             0.6,
             "rgb(209,229,240)"
            ],
            [
             0.7,
             "rgb(146,197,222)"
            ],
            [
             0.8,
             "rgb(67,147,195)"
            ],
            [
             0.9,
             "rgb(33,102,172)"
            ],
            [
             1,
             "rgb(5,48,97)"
            ]
           ],
           "sequential": [
            [
             0,
             "#440154"
            ],
            [
             0.1111111111111111,
             "#482878"
            ],
            [
             0.2222222222222222,
             "#3e4989"
            ],
            [
             0.3333333333333333,
             "#31688e"
            ],
            [
             0.4444444444444444,
             "#26828e"
            ],
            [
             0.5555555555555556,
             "#1f9e89"
            ],
            [
             0.6666666666666666,
             "#35b779"
            ],
            [
             0.7777777777777778,
             "#6ece58"
            ],
            [
             0.8888888888888888,
             "#b5de2b"
            ],
            [
             1,
             "#fde725"
            ]
           ],
           "sequentialminus": [
            [
             0,
             "#440154"
            ],
            [
             0.1111111111111111,
             "#482878"
            ],
            [
             0.2222222222222222,
             "#3e4989"
            ],
            [
             0.3333333333333333,
             "#31688e"
            ],
            [
             0.4444444444444444,
             "#26828e"
            ],
            [
             0.5555555555555556,
             "#1f9e89"
            ],
            [
             0.6666666666666666,
             "#35b779"
            ],
            [
             0.7777777777777778,
             "#6ece58"
            ],
            [
             0.8888888888888888,
             "#b5de2b"
            ],
            [
             1,
             "#fde725"
            ]
           ]
          },
          "colorway": [
           "#1F77B4",
           "#FF7F0E",
           "#2CA02C",
           "#D62728",
           "#9467BD",
           "#8C564B",
           "#E377C2",
           "#7F7F7F",
           "#BCBD22",
           "#17BECF"
          ],
          "font": {
           "color": "rgb(36,36,36)"
          },
          "geo": {
           "bgcolor": "white",
           "lakecolor": "white",
           "landcolor": "white",
           "showlakes": true,
           "showland": true,
           "subunitcolor": "white"
          },
          "hoverlabel": {
           "align": "left"
          },
          "hovermode": "closest",
          "mapbox": {
           "style": "light"
          },
          "paper_bgcolor": "white",
          "plot_bgcolor": "white",
          "polar": {
           "angularaxis": {
            "gridcolor": "rgb(232,232,232)",
            "linecolor": "rgb(36,36,36)",
            "showgrid": false,
            "showline": true,
            "ticks": "outside"
           },
           "bgcolor": "white",
           "radialaxis": {
            "gridcolor": "rgb(232,232,232)",
            "linecolor": "rgb(36,36,36)",
            "showgrid": false,
            "showline": true,
            "ticks": "outside"
           }
          },
          "scene": {
           "xaxis": {
            "backgroundcolor": "white",
            "gridcolor": "rgb(232,232,232)",
            "gridwidth": 2,
            "linecolor": "rgb(36,36,36)",
            "showbackground": true,
            "showgrid": false,
            "showline": true,
            "ticks": "outside",
            "zeroline": false,
            "zerolinecolor": "rgb(36,36,36)"
           },
           "yaxis": {
            "backgroundcolor": "white",
            "gridcolor": "rgb(232,232,232)",
            "gridwidth": 2,
            "linecolor": "rgb(36,36,36)",
            "showbackground": true,
            "showgrid": false,
            "showline": true,
            "ticks": "outside",
            "zeroline": false,
            "zerolinecolor": "rgb(36,36,36)"
           },
           "zaxis": {
            "backgroundcolor": "white",
            "gridcolor": "rgb(232,232,232)",
            "gridwidth": 2,
            "linecolor": "rgb(36,36,36)",
            "showbackground": true,
            "showgrid": false,
            "showline": true,
            "ticks": "outside",
            "zeroline": false,
            "zerolinecolor": "rgb(36,36,36)"
           }
          },
          "shapedefaults": {
           "fillcolor": "black",
           "line": {
            "width": 0
           },
           "opacity": 0.3
          },
          "ternary": {
           "aaxis": {
            "gridcolor": "rgb(232,232,232)",
            "linecolor": "rgb(36,36,36)",
            "showgrid": false,
            "showline": true,
            "ticks": "outside"
           },
           "baxis": {
            "gridcolor": "rgb(232,232,232)",
            "linecolor": "rgb(36,36,36)",
            "showgrid": false,
            "showline": true,
            "ticks": "outside"
           },
           "bgcolor": "white",
           "caxis": {
            "gridcolor": "rgb(232,232,232)",
            "linecolor": "rgb(36,36,36)",
            "showgrid": false,
            "showline": true,
            "ticks": "outside"
           }
          },
          "title": {
           "x": 0.05
          },
          "xaxis": {
           "automargin": true,
           "gridcolor": "rgb(232,232,232)",
           "linecolor": "rgb(36,36,36)",
           "showgrid": false,
           "showline": true,
           "ticks": "outside",
           "title": {
            "standoff": 15
           },
           "zeroline": false,
           "zerolinecolor": "rgb(36,36,36)"
          },
          "yaxis": {
           "automargin": true,
           "gridcolor": "rgb(232,232,232)",
           "linecolor": "rgb(36,36,36)",
           "showgrid": false,
           "showline": true,
           "ticks": "outside",
           "title": {
            "standoff": 15
           },
           "zeroline": false,
           "zerolinecolor": "rgb(36,36,36)"
          }
         }
        },
        "title": {
         "font": {
          "color": "darkgrey",
          "family": "Times New Roman",
          "size": 25
         },
         "text": "Histogram of Ratings by Sentiment",
         "x": 0.2
        },
        "width": 900,
        "xaxis": {
         "anchor": "y",
         "domain": [
          0,
          1
         ],
         "title": {
          "font": {
           "size": 18
          },
          "text": "Rating Stars"
         }
        },
        "yaxis": {
         "anchor": "x",
         "domain": [
          0,
          1
         ],
         "title": {
          "font": {
           "size": 18
          },
          "text": "Count"
         }
        }
       }
      }
     },
     "metadata": {},
     "output_type": "display_data"
    }
   ],
   "source": [
    "import plotly.express as px\n",
    "\n",
    "# Create the histogram\n",
    "fig = px.histogram(df, x='Rating Stars ', height=500, width=900, template='simple_white',\n",
    "                   color='Sentiment',  # using 'Sentiment' instead of 'sex'\n",
    "                   color_discrete_sequence=['purple', 'pink', 'green'])  # Colors for different sentiments\n",
    "\n",
    "# Customize the layout\n",
    "fig.update_layout(title={'text': 'Histogram of Ratings by Sentiment', 'font': {'size': 25}},\n",
    "                  title_font_family=\"Times New Roman\",\n",
    "                  title_font_color=\"darkgrey\",\n",
    "                  title_x=0.2)\n",
    "\n",
    "fig.update_layout(font_family='Times New Roman',\n",
    "                  font_color='grey',\n",
    "                  yaxis_title={'text': \"Count\", 'font': {'size': 18}},\n",
    "                  xaxis_title={'text': \"Rating Stars\", 'font': {'size': 18}})\n",
    "\n",
    "# Show the plot\n",
    "fig.show()"
   ]
  },
  {
   "cell_type": "code",
   "execution_count": 6,
   "metadata": {},
   "outputs": [
    {
     "data": {
      "application/vnd.plotly.v1+json": {
       "config": {
        "linkText": "Export to plot.ly",
        "plotlyServerURL": "https://plot.ly",
        "showLink": false
       },
       "data": [
        {
         "alignmentgroup": "True",
         "hovertemplate": "Sentiment=%{x}<br>Frequency in (Percentage%)=%{y}<br>text=%{text}<extra></extra>",
         "legendgroup": "Positive",
         "marker": {
          "color": "#636efa",
          "pattern": {
           "shape": ""
          }
         },
         "name": "Positive",
         "offsetgroup": "Positive",
         "orientation": "v",
         "showlegend": true,
         "text": [
          "90.7%"
         ],
         "textfont": {
          "family": "consolas",
          "size": 20
         },
         "textposition": "auto",
         "type": "bar",
         "x": [
          "Positive"
         ],
         "xaxis": "x",
         "y": [
          90.66666666666666
         ],
         "yaxis": "y"
        },
        {
         "alignmentgroup": "True",
         "hovertemplate": "Sentiment=%{x}<br>Frequency in (Percentage%)=%{y}<br>text=%{text}<extra></extra>",
         "legendgroup": "Neutral",
         "marker": {
          "color": "#EF553B",
          "pattern": {
           "shape": ""
          }
         },
         "name": "Neutral",
         "offsetgroup": "Neutral",
         "orientation": "v",
         "showlegend": true,
         "text": [
          "5.5%"
         ],
         "textfont": {
          "family": "consolas",
          "size": 20
         },
         "textposition": "auto",
         "type": "bar",
         "x": [
          "Neutral"
         ],
         "xaxis": "x",
         "y": [
          5.5
         ],
         "yaxis": "y"
        },
        {
         "alignmentgroup": "True",
         "hovertemplate": "Sentiment=%{x}<br>Frequency in (Percentage%)=%{y}<br>text=%{text}<extra></extra>",
         "legendgroup": "Negative",
         "marker": {
          "color": "#00cc96",
          "pattern": {
           "shape": ""
          }
         },
         "name": "Negative",
         "offsetgroup": "Negative",
         "orientation": "v",
         "showlegend": true,
         "text": [
          "3.8%"
         ],
         "textfont": {
          "family": "consolas",
          "size": 20
         },
         "textposition": "auto",
         "type": "bar",
         "x": [
          "Negative"
         ],
         "xaxis": "x",
         "y": [
          3.833333333333333
         ],
         "yaxis": "y"
        }
       ],
       "layout": {
        "barmode": "relative",
        "legend": {
         "title": {
          "text": "Sentiment"
         },
         "tracegroupgap": 0
        },
        "showlegend": false,
        "template": {
         "data": {
          "bar": [
           {
            "error_x": {
             "color": "#f2f5fa"
            },
            "error_y": {
             "color": "#f2f5fa"
            },
            "marker": {
             "line": {
              "color": "rgb(17,17,17)",
              "width": 0.5
             },
             "pattern": {
              "fillmode": "overlay",
              "size": 10,
              "solidity": 0.2
             }
            },
            "type": "bar"
           }
          ],
          "barpolar": [
           {
            "marker": {
             "line": {
              "color": "rgb(17,17,17)",
              "width": 0.5
             },
             "pattern": {
              "fillmode": "overlay",
              "size": 10,
              "solidity": 0.2
             }
            },
            "type": "barpolar"
           }
          ],
          "carpet": [
           {
            "aaxis": {
             "endlinecolor": "#A2B1C6",
             "gridcolor": "#506784",
             "linecolor": "#506784",
             "minorgridcolor": "#506784",
             "startlinecolor": "#A2B1C6"
            },
            "baxis": {
             "endlinecolor": "#A2B1C6",
             "gridcolor": "#506784",
             "linecolor": "#506784",
             "minorgridcolor": "#506784",
             "startlinecolor": "#A2B1C6"
            },
            "type": "carpet"
           }
          ],
          "choropleth": [
           {
            "colorbar": {
             "outlinewidth": 0,
             "ticks": ""
            },
            "type": "choropleth"
           }
          ],
          "contour": [
           {
            "colorbar": {
             "outlinewidth": 0,
             "ticks": ""
            },
            "colorscale": [
             [
              0,
              "#0d0887"
             ],
             [
              0.1111111111111111,
              "#46039f"
             ],
             [
              0.2222222222222222,
              "#7201a8"
             ],
             [
              0.3333333333333333,
              "#9c179e"
             ],
             [
              0.4444444444444444,
              "#bd3786"
             ],
             [
              0.5555555555555556,
              "#d8576b"
             ],
             [
              0.6666666666666666,
              "#ed7953"
             ],
             [
              0.7777777777777778,
              "#fb9f3a"
             ],
             [
              0.8888888888888888,
              "#fdca26"
             ],
             [
              1,
              "#f0f921"
             ]
            ],
            "type": "contour"
           }
          ],
          "contourcarpet": [
           {
            "colorbar": {
             "outlinewidth": 0,
             "ticks": ""
            },
            "type": "contourcarpet"
           }
          ],
          "heatmap": [
           {
            "colorbar": {
             "outlinewidth": 0,
             "ticks": ""
            },
            "colorscale": [
             [
              0,
              "#0d0887"
             ],
             [
              0.1111111111111111,
              "#46039f"
             ],
             [
              0.2222222222222222,
              "#7201a8"
             ],
             [
              0.3333333333333333,
              "#9c179e"
             ],
             [
              0.4444444444444444,
              "#bd3786"
             ],
             [
              0.5555555555555556,
              "#d8576b"
             ],
             [
              0.6666666666666666,
              "#ed7953"
             ],
             [
              0.7777777777777778,
              "#fb9f3a"
             ],
             [
              0.8888888888888888,
              "#fdca26"
             ],
             [
              1,
              "#f0f921"
             ]
            ],
            "type": "heatmap"
           }
          ],
          "heatmapgl": [
           {
            "colorbar": {
             "outlinewidth": 0,
             "ticks": ""
            },
            "colorscale": [
             [
              0,
              "#0d0887"
             ],
             [
              0.1111111111111111,
              "#46039f"
             ],
             [
              0.2222222222222222,
              "#7201a8"
             ],
             [
              0.3333333333333333,
              "#9c179e"
             ],
             [
              0.4444444444444444,
              "#bd3786"
             ],
             [
              0.5555555555555556,
              "#d8576b"
             ],
             [
              0.6666666666666666,
              "#ed7953"
             ],
             [
              0.7777777777777778,
              "#fb9f3a"
             ],
             [
              0.8888888888888888,
              "#fdca26"
             ],
             [
              1,
              "#f0f921"
             ]
            ],
            "type": "heatmapgl"
           }
          ],
          "histogram": [
           {
            "marker": {
             "pattern": {
              "fillmode": "overlay",
              "size": 10,
              "solidity": 0.2
             }
            },
            "type": "histogram"
           }
          ],
          "histogram2d": [
           {
            "colorbar": {
             "outlinewidth": 0,
             "ticks": ""
            },
            "colorscale": [
             [
              0,
              "#0d0887"
             ],
             [
              0.1111111111111111,
              "#46039f"
             ],
             [
              0.2222222222222222,
              "#7201a8"
             ],
             [
              0.3333333333333333,
              "#9c179e"
             ],
             [
              0.4444444444444444,
              "#bd3786"
             ],
             [
              0.5555555555555556,
              "#d8576b"
             ],
             [
              0.6666666666666666,
              "#ed7953"
             ],
             [
              0.7777777777777778,
              "#fb9f3a"
             ],
             [
              0.8888888888888888,
              "#fdca26"
             ],
             [
              1,
              "#f0f921"
             ]
            ],
            "type": "histogram2d"
           }
          ],
          "histogram2dcontour": [
           {
            "colorbar": {
             "outlinewidth": 0,
             "ticks": ""
            },
            "colorscale": [
             [
              0,
              "#0d0887"
             ],
             [
              0.1111111111111111,
              "#46039f"
             ],
             [
              0.2222222222222222,
              "#7201a8"
             ],
             [
              0.3333333333333333,
              "#9c179e"
             ],
             [
              0.4444444444444444,
              "#bd3786"
             ],
             [
              0.5555555555555556,
              "#d8576b"
             ],
             [
              0.6666666666666666,
              "#ed7953"
             ],
             [
              0.7777777777777778,
              "#fb9f3a"
             ],
             [
              0.8888888888888888,
              "#fdca26"
             ],
             [
              1,
              "#f0f921"
             ]
            ],
            "type": "histogram2dcontour"
           }
          ],
          "mesh3d": [
           {
            "colorbar": {
             "outlinewidth": 0,
             "ticks": ""
            },
            "type": "mesh3d"
           }
          ],
          "parcoords": [
           {
            "line": {
             "colorbar": {
              "outlinewidth": 0,
              "ticks": ""
             }
            },
            "type": "parcoords"
           }
          ],
          "pie": [
           {
            "automargin": true,
            "type": "pie"
           }
          ],
          "scatter": [
           {
            "marker": {
             "line": {
              "color": "#283442"
             }
            },
            "type": "scatter"
           }
          ],
          "scatter3d": [
           {
            "line": {
             "colorbar": {
              "outlinewidth": 0,
              "ticks": ""
             }
            },
            "marker": {
             "colorbar": {
              "outlinewidth": 0,
              "ticks": ""
             }
            },
            "type": "scatter3d"
           }
          ],
          "scattercarpet": [
           {
            "marker": {
             "colorbar": {
              "outlinewidth": 0,
              "ticks": ""
             }
            },
            "type": "scattercarpet"
           }
          ],
          "scattergeo": [
           {
            "marker": {
             "colorbar": {
              "outlinewidth": 0,
              "ticks": ""
             }
            },
            "type": "scattergeo"
           }
          ],
          "scattergl": [
           {
            "marker": {
             "line": {
              "color": "#283442"
             }
            },
            "type": "scattergl"
           }
          ],
          "scattermapbox": [
           {
            "marker": {
             "colorbar": {
              "outlinewidth": 0,
              "ticks": ""
             }
            },
            "type": "scattermapbox"
           }
          ],
          "scatterpolar": [
           {
            "marker": {
             "colorbar": {
              "outlinewidth": 0,
              "ticks": ""
             }
            },
            "type": "scatterpolar"
           }
          ],
          "scatterpolargl": [
           {
            "marker": {
             "colorbar": {
              "outlinewidth": 0,
              "ticks": ""
             }
            },
            "type": "scatterpolargl"
           }
          ],
          "scatterternary": [
           {
            "marker": {
             "colorbar": {
              "outlinewidth": 0,
              "ticks": ""
             }
            },
            "type": "scatterternary"
           }
          ],
          "surface": [
           {
            "colorbar": {
             "outlinewidth": 0,
             "ticks": ""
            },
            "colorscale": [
             [
              0,
              "#0d0887"
             ],
             [
              0.1111111111111111,
              "#46039f"
             ],
             [
              0.2222222222222222,
              "#7201a8"
             ],
             [
              0.3333333333333333,
              "#9c179e"
             ],
             [
              0.4444444444444444,
              "#bd3786"
             ],
             [
              0.5555555555555556,
              "#d8576b"
             ],
             [
              0.6666666666666666,
              "#ed7953"
             ],
             [
              0.7777777777777778,
              "#fb9f3a"
             ],
             [
              0.8888888888888888,
              "#fdca26"
             ],
             [
              1,
              "#f0f921"
             ]
            ],
            "type": "surface"
           }
          ],
          "table": [
           {
            "cells": {
             "fill": {
              "color": "#506784"
             },
             "line": {
              "color": "rgb(17,17,17)"
             }
            },
            "header": {
             "fill": {
              "color": "#2a3f5f"
             },
             "line": {
              "color": "rgb(17,17,17)"
             }
            },
            "type": "table"
           }
          ]
         },
         "layout": {
          "annotationdefaults": {
           "arrowcolor": "#f2f5fa",
           "arrowhead": 0,
           "arrowwidth": 1
          },
          "autotypenumbers": "strict",
          "coloraxis": {
           "colorbar": {
            "outlinewidth": 0,
            "ticks": ""
           }
          },
          "colorscale": {
           "diverging": [
            [
             0,
             "#8e0152"
            ],
            [
             0.1,
             "#c51b7d"
            ],
            [
             0.2,
             "#de77ae"
            ],
            [
             0.3,
             "#f1b6da"
            ],
            [
             0.4,
             "#fde0ef"
            ],
            [
             0.5,
             "#f7f7f7"
            ],
            [
             0.6,
             "#e6f5d0"
            ],
            [
             0.7,
             "#b8e186"
            ],
            [
             0.8,
             "#7fbc41"
            ],
            [
             0.9,
             "#4d9221"
            ],
            [
             1,
             "#276419"
            ]
           ],
           "sequential": [
            [
             0,
             "#0d0887"
            ],
            [
             0.1111111111111111,
             "#46039f"
            ],
            [
             0.2222222222222222,
             "#7201a8"
            ],
            [
             0.3333333333333333,
             "#9c179e"
            ],
            [
             0.4444444444444444,
             "#bd3786"
            ],
            [
             0.5555555555555556,
             "#d8576b"
            ],
            [
             0.6666666666666666,
             "#ed7953"
            ],
            [
             0.7777777777777778,
             "#fb9f3a"
            ],
            [
             0.8888888888888888,
             "#fdca26"
            ],
            [
             1,
             "#f0f921"
            ]
           ],
           "sequentialminus": [
            [
             0,
             "#0d0887"
            ],
            [
             0.1111111111111111,
             "#46039f"
            ],
            [
             0.2222222222222222,
             "#7201a8"
            ],
            [
             0.3333333333333333,
             "#9c179e"
            ],
            [
             0.4444444444444444,
             "#bd3786"
            ],
            [
             0.5555555555555556,
             "#d8576b"
            ],
            [
             0.6666666666666666,
             "#ed7953"
            ],
            [
             0.7777777777777778,
             "#fb9f3a"
            ],
            [
             0.8888888888888888,
             "#fdca26"
            ],
            [
             1,
             "#f0f921"
            ]
           ]
          },
          "colorway": [
           "#636efa",
           "#EF553B",
           "#00cc96",
           "#ab63fa",
           "#FFA15A",
           "#19d3f3",
           "#FF6692",
           "#B6E880",
           "#FF97FF",
           "#FECB52"
          ],
          "font": {
           "color": "#f2f5fa"
          },
          "geo": {
           "bgcolor": "rgb(17,17,17)",
           "lakecolor": "rgb(17,17,17)",
           "landcolor": "rgb(17,17,17)",
           "showlakes": true,
           "showland": true,
           "subunitcolor": "#506784"
          },
          "hoverlabel": {
           "align": "left"
          },
          "hovermode": "closest",
          "mapbox": {
           "style": "dark"
          },
          "paper_bgcolor": "rgb(17,17,17)",
          "plot_bgcolor": "rgb(17,17,17)",
          "polar": {
           "angularaxis": {
            "gridcolor": "#506784",
            "linecolor": "#506784",
            "ticks": ""
           },
           "bgcolor": "rgb(17,17,17)",
           "radialaxis": {
            "gridcolor": "#506784",
            "linecolor": "#506784",
            "ticks": ""
           }
          },
          "scene": {
           "xaxis": {
            "backgroundcolor": "rgb(17,17,17)",
            "gridcolor": "#506784",
            "gridwidth": 2,
            "linecolor": "#506784",
            "showbackground": true,
            "ticks": "",
            "zerolinecolor": "#C8D4E3"
           },
           "yaxis": {
            "backgroundcolor": "rgb(17,17,17)",
            "gridcolor": "#506784",
            "gridwidth": 2,
            "linecolor": "#506784",
            "showbackground": true,
            "ticks": "",
            "zerolinecolor": "#C8D4E3"
           },
           "zaxis": {
            "backgroundcolor": "rgb(17,17,17)",
            "gridcolor": "#506784",
            "gridwidth": 2,
            "linecolor": "#506784",
            "showbackground": true,
            "ticks": "",
            "zerolinecolor": "#C8D4E3"
           }
          },
          "shapedefaults": {
           "line": {
            "color": "#f2f5fa"
           }
          },
          "sliderdefaults": {
           "bgcolor": "#C8D4E3",
           "bordercolor": "rgb(17,17,17)",
           "borderwidth": 1,
           "tickwidth": 0
          },
          "ternary": {
           "aaxis": {
            "gridcolor": "#506784",
            "linecolor": "#506784",
            "ticks": ""
           },
           "baxis": {
            "gridcolor": "#506784",
            "linecolor": "#506784",
            "ticks": ""
           },
           "bgcolor": "rgb(17,17,17)",
           "caxis": {
            "gridcolor": "#506784",
            "linecolor": "#506784",
            "ticks": ""
           }
          },
          "title": {
           "x": 0.05
          },
          "updatemenudefaults": {
           "bgcolor": "#506784",
           "borderwidth": 0
          },
          "xaxis": {
           "automargin": true,
           "gridcolor": "#283442",
           "linecolor": "#506784",
           "ticks": "",
           "title": {
            "standoff": 15
           },
           "zerolinecolor": "#283442",
           "zerolinewidth": 2
          },
          "yaxis": {
           "automargin": true,
           "gridcolor": "#283442",
           "linecolor": "#506784",
           "ticks": "",
           "title": {
            "standoff": 15
           },
           "zerolinecolor": "#283442",
           "zerolinewidth": 2
          }
         }
        },
        "title": {
         "text": "Frequency of Sentiment Category in Percentage"
        },
        "xaxis": {
         "anchor": "y",
         "categoryarray": [
          "Positive",
          "Neutral",
          "Negative"
         ],
         "categoryorder": "array",
         "domain": [
          0,
          1
         ],
         "title": {
          "text": "Sentiment"
         }
        },
        "yaxis": {
         "anchor": "x",
         "domain": [
          0,
          1
         ],
         "title": {
          "text": "Frequency in (Percentage%)"
         }
        }
       }
      }
     },
     "metadata": {},
     "output_type": "display_data"
    }
   ],
   "source": [
    "from plotly.offline import iplot\n",
    "import plotly.express as px\n",
    "\n",
    "# Get the value counts for the 'Sentiment' column\n",
    "category = df[\"Sentiment\"].value_counts()\n",
    "\n",
    "# Create a bar plot for the sentiment category frequency in percentage\n",
    "fig = px.bar(category, \n",
    "             x=category.index,  # Sentiment categories (e.g., Positive, Negative)\n",
    "             y=(category / sum(category)) * 100,  # Percentage\n",
    "             color=category.index,  # Color by sentiment category\n",
    "             labels={\"y\": \"Frequency in (Percentage%)\", \"category\": \"Category\"},\n",
    "             title=\"Frequency of Sentiment Category in Percentage\",\n",
    "             text=category.apply(lambda x: f'{(x / sum(category)) * 100:.1f}%'),\n",
    "             template=\"plotly_dark\"\n",
    "            )\n",
    "\n",
    "# Customize the layout\n",
    "fig.update_layout(showlegend=False)\n",
    "\n",
    "# Customize the font for the text labels\n",
    "fig.update_traces(\n",
    "    textfont={\n",
    "        \"family\": \"consolas\",\n",
    "        \"size\": 20,        \n",
    "    }\n",
    ")\n",
    "\n",
    "# Display the plot\n",
    "iplot(fig)\n"
   ]
  },
  {
   "cell_type": "code",
   "execution_count": 7,
   "metadata": {},
   "outputs": [
    {
     "data": {
      "text/html": [
       "<div>\n",
       "<style scoped>\n",
       "    .dataframe tbody tr th:only-of-type {\n",
       "        vertical-align: middle;\n",
       "    }\n",
       "\n",
       "    .dataframe tbody tr th {\n",
       "        vertical-align: top;\n",
       "    }\n",
       "\n",
       "    .dataframe thead th {\n",
       "        text-align: right;\n",
       "    }\n",
       "</style>\n",
       "<table border=\"1\" class=\"dataframe\">\n",
       "  <thead>\n",
       "    <tr style=\"text-align: right;\">\n",
       "      <th></th>\n",
       "      <th>UniqueID</th>\n",
       "      <th>Product ID</th>\n",
       "      <th>Product Name</th>\n",
       "      <th>Reviews Text</th>\n",
       "      <th>Rating Stars</th>\n",
       "      <th>Sentiment_Score</th>\n",
       "      <th>Sentiment</th>\n",
       "    </tr>\n",
       "  </thead>\n",
       "  <tbody>\n",
       "    <tr>\n",
       "      <th>0</th>\n",
       "      <td>1</td>\n",
       "      <td>MOBGVTA2836DQWTT</td>\n",
       "      <td>SAMSUNG Galaxy S23 FE (Graphite, 128 GB)  (8 G...</td>\n",
       "      <td>The camera is next level But I'm facing some m...</td>\n",
       "      <td>4</td>\n",
       "      <td>0.03125</td>\n",
       "      <td>Positive</td>\n",
       "    </tr>\n",
       "    <tr>\n",
       "      <th>1</th>\n",
       "      <td>2</td>\n",
       "      <td>MOBGVTA2836DQWTT</td>\n",
       "      <td>SAMSUNG Galaxy S23 FE (Graphite, 128 GB)  (8 G...</td>\n",
       "      <td>Camera quality is amazing</td>\n",
       "      <td>5</td>\n",
       "      <td>0.60000</td>\n",
       "      <td>Positive</td>\n",
       "    </tr>\n",
       "    <tr>\n",
       "      <th>2</th>\n",
       "      <td>3</td>\n",
       "      <td>MOBGVTA2836DQWTT</td>\n",
       "      <td>SAMSUNG Galaxy S23 FE (Graphite, 128 GB)  (8 G...</td>\n",
       "      <td>Awesome photography like apple must buy don't ...</td>\n",
       "      <td>5</td>\n",
       "      <td>0.21250</td>\n",
       "      <td>Positive</td>\n",
       "    </tr>\n",
       "    <tr>\n",
       "      <th>3</th>\n",
       "      <td>4</td>\n",
       "      <td>MOBGVTA2836DQWTT</td>\n",
       "      <td>SAMSUNG Galaxy S23 FE (Graphite, 128 GB)  (8 G...</td>\n",
       "      <td>Camera and display is superb  But bettary is a...</td>\n",
       "      <td>4</td>\n",
       "      <td>1.00000</td>\n",
       "      <td>Positive</td>\n",
       "    </tr>\n",
       "    <tr>\n",
       "      <th>4</th>\n",
       "      <td>5</td>\n",
       "      <td>MOBGVTA2836DQWTT</td>\n",
       "      <td>SAMSUNG Galaxy S23 FE (Graphite, 128 GB)  (8 G...</td>\n",
       "      <td>Awesome phone</td>\n",
       "      <td>5</td>\n",
       "      <td>1.00000</td>\n",
       "      <td>Positive</td>\n",
       "    </tr>\n",
       "  </tbody>\n",
       "</table>\n",
       "</div>"
      ],
      "text/plain": [
       "   UniqueID        Product ID  \\\n",
       "0         1  MOBGVTA2836DQWTT   \n",
       "1         2  MOBGVTA2836DQWTT   \n",
       "2         3  MOBGVTA2836DQWTT   \n",
       "3         4  MOBGVTA2836DQWTT   \n",
       "4         5  MOBGVTA2836DQWTT   \n",
       "\n",
       "                                        Product Name  \\\n",
       "0  SAMSUNG Galaxy S23 FE (Graphite, 128 GB)  (8 G...   \n",
       "1  SAMSUNG Galaxy S23 FE (Graphite, 128 GB)  (8 G...   \n",
       "2  SAMSUNG Galaxy S23 FE (Graphite, 128 GB)  (8 G...   \n",
       "3  SAMSUNG Galaxy S23 FE (Graphite, 128 GB)  (8 G...   \n",
       "4  SAMSUNG Galaxy S23 FE (Graphite, 128 GB)  (8 G...   \n",
       "\n",
       "                                        Reviews Text  Rating Stars   \\\n",
       "0  The camera is next level But I'm facing some m...              4   \n",
       "1                          Camera quality is amazing              5   \n",
       "2  Awesome photography like apple must buy don't ...              5   \n",
       "3  Camera and display is superb  But bettary is a...              4   \n",
       "4                                     Awesome phone               5   \n",
       "\n",
       "   Sentiment_Score Sentiment  \n",
       "0          0.03125  Positive  \n",
       "1          0.60000  Positive  \n",
       "2          0.21250  Positive  \n",
       "3          1.00000  Positive  \n",
       "4          1.00000  Positive  "
      ]
     },
     "execution_count": 7,
     "metadata": {},
     "output_type": "execute_result"
    }
   ],
   "source": [
    "df.head()"
   ]
  },
  {
   "cell_type": "code",
   "execution_count": 4,
   "metadata": {},
   "outputs": [
    {
     "name": "stdout",
     "output_type": "stream",
     "text": [
      "                                          Product Name  \\\n",
      "0    SAMSUNG Galaxy S23 FE (Graphite, 128 GB)  (8 G...   \n",
      "1    SAMSUNG Galaxy S23 FE (Graphite, 128 GB)  (8 G...   \n",
      "2    SAMSUNG Galaxy S23 FE (Graphite, 128 GB)  (8 G...   \n",
      "3    SAMSUNG Galaxy S23 FE (Graphite, 128 GB)  (8 G...   \n",
      "4    SAMSUNG Galaxy S23 FE (Graphite, 128 GB)  (8 G...   \n",
      "..                                                 ...   \n",
      "595  OnePlus Nord 3 5G (Tempest Gray, 128 GB)  (8 G...   \n",
      "596  OnePlus Nord 3 5G (Tempest Gray, 128 GB)  (8 G...   \n",
      "597  OnePlus Nord 3 5G (Tempest Gray, 128 GB)  (8 G...   \n",
      "598  OnePlus Nord 3 5G (Tempest Gray, 128 GB)  (8 G...   \n",
      "599  OnePlus Nord 3 5G (Tempest Gray, 128 GB)  (8 G...   \n",
      "\n",
      "                                          Reviews Text  Sentiment_Score  \\\n",
      "0    The camera is next level But I'm facing some m...         0.999090   \n",
      "1                            Camera quality is amazing         0.999885   \n",
      "2    Awesome photography like apple must buy don't ...         0.993837   \n",
      "3    Camera and display is superb  But bettary is a...         0.973656   \n",
      "4                                       Awesome phone          0.999846   \n",
      "..                                                 ...              ...   \n",
      "595                                         Best phone         0.999382   \n",
      "596              Proserser is very fast but camra issu         0.816592   \n",
      "597          Phone is very goodbut battery is not good         0.999334   \n",
      "598                                        Nice camera         0.999858   \n",
      "599                Nice performance this mobile Nord 3         0.999772   \n",
      "\n",
      "    Sentiment                                     recommendation  \n",
      "0    NEGATIVE  People really like SAMSUNG Galaxy S23 FE (Grap...  \n",
      "1    POSITIVE  People really like SAMSUNG Galaxy S23 FE (Grap...  \n",
      "2    POSITIVE  People really like SAMSUNG Galaxy S23 FE (Grap...  \n",
      "3    POSITIVE  People really like SAMSUNG Galaxy S23 FE (Grap...  \n",
      "4    POSITIVE  People really like SAMSUNG Galaxy S23 FE (Grap...  \n",
      "..        ...                                                ...  \n",
      "595  POSITIVE  People really like OnePlus Nord 3 5G (Tempest ...  \n",
      "596  NEGATIVE  People really like OnePlus Nord 3 5G (Tempest ...  \n",
      "597  NEGATIVE  People really like OnePlus Nord 3 5G (Tempest ...  \n",
      "598  POSITIVE  People really like OnePlus Nord 3 5G (Tempest ...  \n",
      "599  POSITIVE  People really like OnePlus Nord 3 5G (Tempest ...  \n",
      "\n",
      "[600 rows x 5 columns]\n"
     ]
    }
   ],
   "source": [
    "import pandas as pd\n",
    "from langchain import PromptTemplate\n",
    "from langchain.llms import HuggingFaceHub\n",
    "from transformers import pipeline\n",
    "# Set your Hugging Face API key\n",
    "HUGGING_FACE_API_KEY = \"*************************************\"  \n",
    "\n",
    "# Load your dataset\n",
    "df = pd.read_csv(\"C:/Users/bavan/Downloads/last/sentiment_analysis_flipkart_reviews.csv\")\n",
    "\n",
    "# Initialize the Hugging Face pipeline for sentiment analysis\n",
    "sentiment_pipeline = pipeline(\n",
    "    \"sentiment-analysis\",\n",
    "    model=\"distilbert-base-uncased-finetuned-sst-2-english\",\n",
    "    tokenizer=\"distilbert-base-uncased-finetuned-sst-2-english\",\n",
    "    device=-1 ) # Use -1 for CPU\n",
    "# Define a function to analyze sentiment\n",
    "def analyze_sentiment(row):\n",
    "    result = sentiment_pipeline(row['Reviews Text'])\n",
    "    sentiment = result[0]['label']  # Get the sentiment label\n",
    "    score = result[0]['score']       # Get the confidence score\n",
    "    return pd.Series([sentiment, score])  # Return both sentiment and score\n",
    "\n",
    "# Apply the sentiment analysis function to the DataFrame\n",
    "df[['Sentiment', 'Sentiment_Score']] = df.apply(analyze_sentiment, axis=1)\n",
    "\n",
    "# Define a function to generate product recommendations\n",
    "def generate_recommendation(row): \n",
    "    if row['Sentiment_Score'] >= 0.7:\n",
    "        return f\"People really like {row['Product Name']}! They said: {row['Reviews Text'][:50]}...\"\n",
    "    elif row['Sentiment_Score'] >= 0.4:\n",
    "        return f\"{row['Product Name']} is a decent choice. Some reviews: {row['Reviews Text'][:50]}...\"\n",
    "    else:\n",
    "        return f\"Think twice before buying {row['Product Name']}. Here's why: {row['Reviews Text'][:50]}...\"\n",
    "\n",
    "\n",
    "# Apply the recommendation function to the DataFrame\n",
    "df['recommendation'] = df.apply(generate_recommendation, axis=1)\n",
    "\n",
    "# Display the results\n",
    "print(df[['Product Name', 'Reviews Text', 'Sentiment_Score', 'Sentiment', 'recommendation']])\n"
   ]
  },
  {
   "cell_type": "code",
   "execution_count": 5,
   "metadata": {},
   "outputs": [],
   "source": [
    "df.to_csv('generate_recommendation.csv')"
   ]
  },
  {
   "cell_type": "code",
   "execution_count": 26,
   "metadata": {},
   "outputs": [
    {
     "name": "stdout",
     "output_type": "stream",
     "text": [
      "\n",
      "Based on sentiment analysis, we suggest the following mobile phone:\n",
      "\n",
      "**Model**: Apple iPhone 12 (Blue, 128 GB)\n",
      "- Average Sentiment Score: 0.98\n",
      "- Positive Sentiment Count: 184\n",
      "Users highly praise this phone for its outstanding features and performance!\n",
      "\n"
     ]
    }
   ],
   "source": [
    "import pandas as pd\n",
    "from langchain.prompts import PromptTemplate\n",
    "\n",
    "# Load the dataset that already contains sentiment_score and adjusted_sentiment\n",
    "df = pd.read_csv(\"C:/Users/bavan/Downloads/last/generate_recommendation.csv\")\n",
    "\n",
    "top_mobile_phone = df.groupby('Product Name').agg(\n",
    "    average_sentiment_score=('Sentiment_Score', 'mean'),\n",
    "    average_sentiment=('Sentiment', 'count')  # Keeping adjusted sentiment count for simplicity\n",
    ").reset_index()\n",
    "\n",
    "# Sort by average sentiment score and adjusted sentiment in descending order\n",
    "top_mobile_phones = top_mobile_phone.sort_values(\n",
    "    by=['average_sentiment_score'],  # Sorting by average sentiment score\n",
    "    ascending=False\n",
    ").head(1)  # Get the top 1 mobile phone\n",
    "\n",
    "# Define the LangChain template for recommendation\n",
    "template = \"\"\"\n",
    "Based on sentiment analysis, we suggest the following mobile phone:\n",
    "\n",
    "**Model**: {mobile}\n",
    "- Average Sentiment Score: {average_sentiment_score}\n",
    "- Positive Sentiment Count: {average_sentiment}\n",
    "Users highly praise this phone for its outstanding features and performance!\n",
    "\"\"\"\n",
    "\n",
    "# Create a PromptTemplate with the correct input_variables\n",
    "recommendation_template = PromptTemplate(\n",
    "    input_variables=[\"mobile\", \"average_sentiment_score\", \"average_sentiment\"],\n",
    "    template=template\n",
    ")\n",
    "\n",
    "# Generate recommendations for the top phone\n",
    "for _, row in top_mobile_phones.iterrows():\n",
    "    # Pre-format the average_sentiment_score to 2 decimal places\n",
    "    formatted_score = f\"{row['average_sentiment_score']:.2f}\"\n",
    "    \n",
    "    # Pass the formatted score to the template\n",
    "    prompt = recommendation_template.format(\n",
    "        mobile=row['Product Name'],\n",
    "        average_sentiment_score=formatted_score,\n",
    "        average_sentiment=row['average_sentiment']\n",
    "    )\n",
    "    print(prompt)\n"
   ]
  },
  {
   "cell_type": "code",
   "execution_count": 27,
   "metadata": {},
   "outputs": [],
   "source": [
    "top_mobile_phone.to_pickle('top_mobile_phones.pkl')"
   ]
  },
  {
   "cell_type": "code",
   "execution_count": 28,
   "metadata": {},
   "outputs": [
    {
     "data": {
      "text/html": [
       "<div>\n",
       "<style scoped>\n",
       "    .dataframe tbody tr th:only-of-type {\n",
       "        vertical-align: middle;\n",
       "    }\n",
       "\n",
       "    .dataframe tbody tr th {\n",
       "        vertical-align: top;\n",
       "    }\n",
       "\n",
       "    .dataframe thead th {\n",
       "        text-align: right;\n",
       "    }\n",
       "</style>\n",
       "<table border=\"1\" class=\"dataframe\">\n",
       "  <thead>\n",
       "    <tr style=\"text-align: right;\">\n",
       "      <th></th>\n",
       "      <th>Product Name</th>\n",
       "      <th>average_sentiment_score</th>\n",
       "      <th>average_sentiment</th>\n",
       "    </tr>\n",
       "  </thead>\n",
       "  <tbody>\n",
       "    <tr>\n",
       "      <th>0</th>\n",
       "      <td>Apple iPhone 12 (Blue, 128 GB)</td>\n",
       "      <td>0.983276</td>\n",
       "      <td>184</td>\n",
       "    </tr>\n",
       "    <tr>\n",
       "      <th>1</th>\n",
       "      <td>Motorola Edge 50 Pro 5G with 125W Charger (Moo...</td>\n",
       "      <td>0.963501</td>\n",
       "      <td>80</td>\n",
       "    </tr>\n",
       "    <tr>\n",
       "      <th>2</th>\n",
       "      <td>OnePlus Nord 3 5G (Tempest Gray, 128 GB)  (8 G...</td>\n",
       "      <td>0.971723</td>\n",
       "      <td>115</td>\n",
       "    </tr>\n",
       "    <tr>\n",
       "      <th>3</th>\n",
       "      <td>SAMSUNG Galaxy S23 FE (Graphite, 128 GB)  (8 G...</td>\n",
       "      <td>0.953091</td>\n",
       "      <td>122</td>\n",
       "    </tr>\n",
       "    <tr>\n",
       "      <th>4</th>\n",
       "      <td>realme 12 Pro+ 5G (Explorer Red, 256 GB)  (12 ...</td>\n",
       "      <td>0.970536</td>\n",
       "      <td>99</td>\n",
       "    </tr>\n",
       "  </tbody>\n",
       "</table>\n",
       "</div>"
      ],
      "text/plain": [
       "                                        Product Name  average_sentiment_score  \\\n",
       "0                     Apple iPhone 12 (Blue, 128 GB)                 0.983276   \n",
       "1  Motorola Edge 50 Pro 5G with 125W Charger (Moo...                 0.963501   \n",
       "2  OnePlus Nord 3 5G (Tempest Gray, 128 GB)  (8 G...                 0.971723   \n",
       "3  SAMSUNG Galaxy S23 FE (Graphite, 128 GB)  (8 G...                 0.953091   \n",
       "4  realme 12 Pro+ 5G (Explorer Red, 256 GB)  (12 ...                 0.970536   \n",
       "\n",
       "   average_sentiment  \n",
       "0                184  \n",
       "1                 80  \n",
       "2                115  \n",
       "3                122  \n",
       "4                 99  "
      ]
     },
     "execution_count": 28,
     "metadata": {},
     "output_type": "execute_result"
    }
   ],
   "source": [
    "dp = pd.read_pickle('top_mobile_phones.pkl')\n",
    "dp"
   ]
  }
 ],
 "metadata": {
  "kernelspec": {
   "display_name": "Python 3",
   "language": "python",
   "name": "python3"
  },
  "language_info": {
   "codemirror_mode": {
    "name": "ipython",
    "version": 3
   },
   "file_extension": ".py",
   "mimetype": "text/x-python",
   "name": "python",
   "nbconvert_exporter": "python",
   "pygments_lexer": "ipython3",
   "version": "3.8.0"
  }
 },
 "nbformat": 4,
 "nbformat_minor": 2
}
